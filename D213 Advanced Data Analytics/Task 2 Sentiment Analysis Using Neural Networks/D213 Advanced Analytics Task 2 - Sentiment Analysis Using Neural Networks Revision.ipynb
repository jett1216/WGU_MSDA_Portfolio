{
 "cells": [
  {
   "cell_type": "markdown",
   "id": "b30eaf61",
   "metadata": {},
   "source": [
    "#  WGU MSDA D213 Advanced Analytics Task 2 - Sentiment Analysis Using Neural Networks Revision"
   ]
  },
  {
   "cell_type": "markdown",
   "id": "42377915",
   "metadata": {},
   "source": [
    "## Jan Francis Mitchell Barlaan"
   ]
  },
  {
   "cell_type": "markdown",
   "id": "91358e11",
   "metadata": {},
   "source": [
    "### A1: Research Question"
   ]
  },
  {
   "cell_type": "markdown",
   "id": "8acb2cd4",
   "metadata": {},
   "source": [
    "* My question for this analysis is can we discern whether customer sentiments conveyed in movie reviews are positive or negative? Based on industry applications of similar datasets, I believe that the answer to this is yes (Al-Ma'arif, Sentiment Analysis in action: A case study with movie reviews using NLP techniques 2024). We will support my assumption with the results of this analysis."
   ]
  },
  {
   "cell_type": "markdown",
   "id": "b33f11e8",
   "metadata": {},
   "source": [
    "### A2: Objectives or Goals\n"
   ]
  },
  {
   "cell_type": "markdown",
   "id": "8d4bdd54",
   "metadata": {},
   "source": [
    "* My objective is to build a model that can predict viewer sentiments based on their words chosen in written reviews."
   ]
  },
  {
   "cell_type": "markdown",
   "id": "bb7b2780",
   "metadata": {},
   "source": [
    "### A3: Prescribed Network\n"
   ]
  },
  {
   "cell_type": "markdown",
   "id": "6a965d8d",
   "metadata": {},
   "source": [
    "* I have chosen to create my model based on sequential text classification. This type of model is considered a recurrent neural network (RNN). RNNs can be trained to make predictions based on the sentiments and sequences of text present in our starting dataset (Asomani, Movie Review Sentimental Classification with recurrent neural network in TENSORFLOW 2023)."
   ]
  },
  {
   "cell_type": "markdown",
   "id": "a18e5d2d",
   "metadata": {},
   "source": [
    "### B1: Data Exploration\n",
    "* EDA was performed after importing the necessary packages for this analysis. Nulls and value counts of the columns were detected for as well as the shape and information that the dataframe contained."
   ]
  },
  {
   "cell_type": "code",
   "execution_count": 1,
   "id": "08748703",
   "metadata": {
    "scrolled": true
   },
   "outputs": [],
   "source": [
    "# Import initial necessary packages \n",
    "\n",
    "import pandas as pd\n",
    "import numpy as np\n",
    "import csv\n",
    "\n",
    "import matplotlib.pyplot as plt\n",
    "import seaborn as sns\n",
    "\n",
    "\n",
    "import sklearn\n",
    "from sklearn import preprocessing\n",
    "from sklearn.preprocessing import OneHotEncoder\n",
    "from sklearn import model_selection\n",
    "from sklearn.model_selection import train_test_split\n",
    "\n",
    "import re\n",
    "\n",
    "import tensorflow as tf\n",
    "\n",
    "import keras\n",
    "\n",
    "\n",
    "#Used to convert input text to tokens\n",
    "from tensorflow.keras.preprocessing.text import Tokenizer\n",
    "\n",
    "\n",
    "#Used to stop training at a threshold\n",
    "from tensorflow.keras.callbacks import EarlyStopping\n",
    "\n",
    "\n",
    "#Used for loading a saved model\n",
    "from tensorflow.keras.models import load_model\n",
    "\n",
    "\n",
    "from tensorflow.keras.layers import Dense, Embedding, Flatten\n",
    "from tensorflow.keras.models import Sequential\n",
    "\n",
    "#Used for padding \n",
    "from tensorflow.keras.preprocessing.sequence import pad_sequences \n",
    "\n",
    "\n",
    "import warnings\n",
    "warnings.filterwarnings(\"ignore\")\n",
    "\n",
    "\n"
   ]
  },
  {
   "cell_type": "code",
   "execution_count": 2,
   "id": "70389fe0-3c39-4f42-a312-f68e87e0c20c",
   "metadata": {
    "scrolled": true
   },
   "outputs": [],
   "source": [
    "# Load the text file as csv\n",
    "\n",
    "imbd_df = pd.read_csv(r'C:\\Users\\neoka\\OneDrive\\Desktop\\WGU MSDA Course Material\\D213\\sentiment+labelled+sentences\\sentiment labelled sentences\\imdb_labelled.txt', header=None, names=['Reviews', 'Sentiment'], sep='\\t|\\r', quoting=csv.QUOTE_NONE) \n",
    "\n"
   ]
  },
  {
   "cell_type": "code",
   "execution_count": 3,
   "id": "aa6f1f48-3ac0-42cf-a307-03b66261b065",
   "metadata": {
    "scrolled": true
   },
   "outputs": [],
   "source": [
    "# Save the imbd dataframe to csv\n",
    "\n",
    "imbd_df.to_csv('imbd_df.csv', index=False)"
   ]
  },
  {
   "cell_type": "code",
   "execution_count": 4,
   "id": "049796d9-02c8-41ea-9cde-2094ec78ada4",
   "metadata": {},
   "outputs": [],
   "source": [
    "# Establish df alias for imbd_df\n",
    "\n",
    "df = imbd_df"
   ]
  },
  {
   "cell_type": "code",
   "execution_count": 5,
   "id": "7b469a7c-476d-4063-9ad7-e9dd396ac03c",
   "metadata": {},
   "outputs": [
    {
     "data": {
      "text/html": [
       "<div>\n",
       "<style scoped>\n",
       "    .dataframe tbody tr th:only-of-type {\n",
       "        vertical-align: middle;\n",
       "    }\n",
       "\n",
       "    .dataframe tbody tr th {\n",
       "        vertical-align: top;\n",
       "    }\n",
       "\n",
       "    .dataframe thead th {\n",
       "        text-align: right;\n",
       "    }\n",
       "</style>\n",
       "<table border=\"1\" class=\"dataframe\">\n",
       "  <thead>\n",
       "    <tr style=\"text-align: right;\">\n",
       "      <th></th>\n",
       "      <th>Reviews</th>\n",
       "      <th>Sentiment</th>\n",
       "    </tr>\n",
       "  </thead>\n",
       "  <tbody>\n",
       "    <tr>\n",
       "      <th>0</th>\n",
       "      <td>A very, very, very slow-moving, aimless movie ...</td>\n",
       "      <td>0</td>\n",
       "    </tr>\n",
       "    <tr>\n",
       "      <th>1</th>\n",
       "      <td>Not sure who was more lost - the flat characte...</td>\n",
       "      <td>0</td>\n",
       "    </tr>\n",
       "    <tr>\n",
       "      <th>2</th>\n",
       "      <td>Attempting artiness with black &amp; white and cle...</td>\n",
       "      <td>0</td>\n",
       "    </tr>\n",
       "    <tr>\n",
       "      <th>3</th>\n",
       "      <td>Very little music or anything to speak of.</td>\n",
       "      <td>0</td>\n",
       "    </tr>\n",
       "    <tr>\n",
       "      <th>4</th>\n",
       "      <td>The best scene in the movie was when Gerardo i...</td>\n",
       "      <td>1</td>\n",
       "    </tr>\n",
       "    <tr>\n",
       "      <th>...</th>\n",
       "      <td>...</td>\n",
       "      <td>...</td>\n",
       "    </tr>\n",
       "    <tr>\n",
       "      <th>995</th>\n",
       "      <td>I just got bored watching Jessice Lange take h...</td>\n",
       "      <td>0</td>\n",
       "    </tr>\n",
       "    <tr>\n",
       "      <th>996</th>\n",
       "      <td>Unfortunately, any virtue in this film's produ...</td>\n",
       "      <td>0</td>\n",
       "    </tr>\n",
       "    <tr>\n",
       "      <th>997</th>\n",
       "      <td>In a word, it is embarrassing.</td>\n",
       "      <td>0</td>\n",
       "    </tr>\n",
       "    <tr>\n",
       "      <th>998</th>\n",
       "      <td>Exceptionally bad!</td>\n",
       "      <td>0</td>\n",
       "    </tr>\n",
       "    <tr>\n",
       "      <th>999</th>\n",
       "      <td>All in all its an insult to one's intelligence...</td>\n",
       "      <td>0</td>\n",
       "    </tr>\n",
       "  </tbody>\n",
       "</table>\n",
       "<p>1000 rows × 2 columns</p>\n",
       "</div>"
      ],
      "text/plain": [
       "                                               Reviews  Sentiment\n",
       "0    A very, very, very slow-moving, aimless movie ...          0\n",
       "1    Not sure who was more lost - the flat characte...          0\n",
       "2    Attempting artiness with black & white and cle...          0\n",
       "3         Very little music or anything to speak of.            0\n",
       "4    The best scene in the movie was when Gerardo i...          1\n",
       "..                                                 ...        ...\n",
       "995  I just got bored watching Jessice Lange take h...          0\n",
       "996  Unfortunately, any virtue in this film's produ...          0\n",
       "997                   In a word, it is embarrassing.            0\n",
       "998                               Exceptionally bad!            0\n",
       "999  All in all its an insult to one's intelligence...          0\n",
       "\n",
       "[1000 rows x 2 columns]"
      ]
     },
     "execution_count": 5,
     "metadata": {},
     "output_type": "execute_result"
    }
   ],
   "source": [
    "# Examine dataframe\n",
    "\n",
    "df"
   ]
  },
  {
   "cell_type": "code",
   "execution_count": 6,
   "id": "6f5ca94e",
   "metadata": {},
   "outputs": [
    {
     "data": {
      "text/html": [
       "<div>\n",
       "<style scoped>\n",
       "    .dataframe tbody tr th:only-of-type {\n",
       "        vertical-align: middle;\n",
       "    }\n",
       "\n",
       "    .dataframe tbody tr th {\n",
       "        vertical-align: top;\n",
       "    }\n",
       "\n",
       "    .dataframe thead th {\n",
       "        text-align: right;\n",
       "    }\n",
       "</style>\n",
       "<table border=\"1\" class=\"dataframe\">\n",
       "  <thead>\n",
       "    <tr style=\"text-align: right;\">\n",
       "      <th></th>\n",
       "      <th>Reviews</th>\n",
       "      <th>Sentiment</th>\n",
       "    </tr>\n",
       "  </thead>\n",
       "  <tbody>\n",
       "    <tr>\n",
       "      <th>0</th>\n",
       "      <td>A very, very, very slow-moving, aimless movie ...</td>\n",
       "      <td>0</td>\n",
       "    </tr>\n",
       "    <tr>\n",
       "      <th>1</th>\n",
       "      <td>Not sure who was more lost - the flat characte...</td>\n",
       "      <td>0</td>\n",
       "    </tr>\n",
       "    <tr>\n",
       "      <th>2</th>\n",
       "      <td>Attempting artiness with black &amp; white and cle...</td>\n",
       "      <td>0</td>\n",
       "    </tr>\n",
       "    <tr>\n",
       "      <th>3</th>\n",
       "      <td>Very little music or anything to speak of.</td>\n",
       "      <td>0</td>\n",
       "    </tr>\n",
       "    <tr>\n",
       "      <th>4</th>\n",
       "      <td>The best scene in the movie was when Gerardo i...</td>\n",
       "      <td>1</td>\n",
       "    </tr>\n",
       "  </tbody>\n",
       "</table>\n",
       "</div>"
      ],
      "text/plain": [
       "                                             Reviews  Sentiment\n",
       "0  A very, very, very slow-moving, aimless movie ...          0\n",
       "1  Not sure who was more lost - the flat characte...          0\n",
       "2  Attempting artiness with black & white and cle...          0\n",
       "3       Very little music or anything to speak of.            0\n",
       "4  The best scene in the movie was when Gerardo i...          1"
      ]
     },
     "execution_count": 6,
     "metadata": {},
     "output_type": "execute_result"
    }
   ],
   "source": [
    "# Validates the structure and displays the first 5 rows of the new dataframe  \n",
    "\n",
    "df.head()"
   ]
  },
  {
   "cell_type": "code",
   "execution_count": 7,
   "id": "e7c2684f",
   "metadata": {},
   "outputs": [
    {
     "data": {
      "text/plain": [
       "(1000, 2)"
      ]
     },
     "execution_count": 7,
     "metadata": {},
     "output_type": "execute_result"
    }
   ],
   "source": [
    "# Shows the number of observations and variables (rows and columns)\n",
    "\n",
    "df.shape"
   ]
  },
  {
   "cell_type": "code",
   "execution_count": 8,
   "id": "f68f1e64",
   "metadata": {
    "scrolled": true
   },
   "outputs": [
    {
     "name": "stdout",
     "output_type": "stream",
     "text": [
      "<class 'pandas.core.frame.DataFrame'>\n",
      "RangeIndex: 1000 entries, 0 to 999\n",
      "Data columns (total 2 columns):\n",
      " #   Column     Non-Null Count  Dtype \n",
      "---  ------     --------------  ----- \n",
      " 0   Reviews    1000 non-null   object\n",
      " 1   Sentiment  1000 non-null   int64 \n",
      "dtypes: int64(1), object(1)\n",
      "memory usage: 15.8+ KB\n"
     ]
    }
   ],
   "source": [
    "# Shows information about the dataframe such as types, etc.\n",
    "\n",
    "df.info()"
   ]
  },
  {
   "cell_type": "code",
   "execution_count": 9,
   "id": "1b98d6fe",
   "metadata": {},
   "outputs": [
    {
     "data": {
      "text/plain": [
       "Reviews      0\n",
       "Sentiment    0\n",
       "dtype: int64"
      ]
     },
     "execution_count": 9,
     "metadata": {},
     "output_type": "execute_result"
    }
   ],
   "source": [
    "#Count of null/missing values in each column\n",
    "\n",
    "df.isnull().sum()"
   ]
  },
  {
   "cell_type": "code",
   "execution_count": 10,
   "id": "efb1f9a8",
   "metadata": {},
   "outputs": [
    {
     "data": {
      "image/png": "[encoded data removed]",
      "text/plain": [
       "<Figure size 2500x1000 with 2 Axes>"
      ]
     },
     "metadata": {},
     "output_type": "display_data"
    }
   ],
   "source": [
    "#Import missingno to visualize missing/null values \n",
    "\n",
    "import missingno as msno\n",
    "msno.matrix(df, fontsize=12, labels=True)\n",
    "plt.title('Missing data matrix')\n",
    "plt.show()\n"
   ]
  },
  {
   "cell_type": "code",
   "execution_count": 11,
   "id": "1f3bce61",
   "metadata": {},
   "outputs": [
    {
     "name": "stdout",
     "output_type": "stream",
     "text": [
      "0    500\n",
      "1    500\n",
      "Name: Sentiment, dtype: int64\n"
     ]
    }
   ],
   "source": [
    "# Define a positive sentiment (1) and a negative sentiment (0)\n",
    "\n",
    "# 1 = positive sentiment, 0 = negative sentiment\n",
    "print(df['Sentiment'].value_counts())\n"
   ]
  },
  {
   "cell_type": "code",
   "execution_count": 12,
   "id": "3cc88219",
   "metadata": {},
   "outputs": [
    {
     "data": {
      "image/png": "[encoded data removed]",
      "text/plain": [
       "<Figure size 600x400 with 1 Axes>"
      ]
     },
     "metadata": {},
     "output_type": "display_data"
    }
   ],
   "source": [
    "#Plot the value counts\n",
    "# 1 represents a positive sentiment, while 0 represents a negative sentiment\n",
    "\n",
    "plt.figure(figsize=(6, 4))\n",
    "sns.countplot(x='Sentiment', hue='Sentiment', data=df)\n",
    "plt.legend(bbox_to_anchor=(1.05, 1), loc='upper left')\n",
    "plt.show()"
   ]
  },
  {
   "cell_type": "markdown",
   "id": "36fc000f",
   "metadata": {},
   "source": [
    "* The following lines of code are adapted from Dr. Elleh and an article on Medium. The code removes these characters and converts reviews to all lowercase, tokenizes & lemmatizes reviews, & removes stopwords (Asomani, Movie Review Sentimental Classification with recurrent neural network in TENSORFLOW 2023). "
   ]
  },
  {
   "cell_type": "markdown",
   "id": "31309686",
   "metadata": {},
   "source": [
    "#### B1a: Presence of unusual characters\n",
    "* We detected for unusual characters and changed capital letters to lowercase. Tokenization, lemmatization, and stopword removal was also included in the 'for' loop\n"
   ]
  },
  {
   "cell_type": "code",
   "execution_count": 13,
   "id": "17751212",
   "metadata": {},
   "outputs": [
    {
     "name": "stdout",
     "output_type": "stream",
     "text": [
      "['A', ' ', 'v', 'e', 'r', 'y', ',', 's', 'l', 'o', 'w', '-', 'm', 'i', 'n', 'g', 'a', 'b', 'u', 't', 'd', 'f', '.', 'N', 'h', 'c', 'k', 'p', '&', 'x', 'V', 'T', 'G', 'I', \"'\", 'W', 'S', 'L', 'J', 'B', 'F', 'M', 'H', 'C', '\"', '\\x96', 'z', '?', 'q', 'Y', 'j', 'P', 'U', 'R', 'E', '1', '3', ';', '/', 'O', '2', '9', '0', ':', '*', 'D', 'Q', 'é', '(', ')', '!', 'K', '$', '7', '5', 'Z', '\\x85', '8', '+', '%', '4', 'å', '6', '\\x97', 'X']\n"
     ]
    }
   ],
   "source": [
    "# Identify all characters contained in the reviews column\n",
    "commentary = df['Reviews']\n",
    "list_of_characters = []\n",
    "for comment in commentary: \n",
    "    for character in comment:\n",
    "        if character not in list_of_characters:\n",
    "            list_of_characters.append(character)\n",
    "print(list_of_characters)"
   ]
  },
  {
   "cell_type": "markdown",
   "id": "ed78abe2",
   "metadata": {},
   "source": [
    "* There are various special and unusual characters detected. The entire list of such characters can be seen in the output of the code above. The special characters are ones that are explicitly not the characters in this specific range 'a-zA-Z'. This range will appear again below to remove all of the aforementioned unusual and special characters"
   ]
  },
  {
   "cell_type": "code",
   "execution_count": 14,
   "id": "284e5ab1-a19c-403d-93e3-635543096d58",
   "metadata": {},
   "outputs": [],
   "source": [
    "import nltk\n",
    "from nltk.corpus import stopwords\n",
    "\n",
    "\n",
    "# Create an empty list to store cleaned reviews\n",
    "description_list = []\n",
    "\n",
    "# Define the list of stopwords, specifying English as the language\n",
    "stop_words = stopwords.words('english')\n",
    "\n",
    "# Special/unusual characters will be removed by iterating over a for loop\n",
    "for description in df['Reviews']: \n",
    "    \n",
    "#Regular Expression can remove special characters from the string. \n",
    "#It will be in the form [^a-zA-Z0-9], where ^ represents any character except the characters in the brackets, \n",
    "##and a-zA-Z0-9 represents that string can only have small and capital alphabets and numerical digits. \n",
    "    description = re.sub(\"[^a-zA-Z]\", \" \", description) \n",
    "#Convert to lower case\n",
    "    description = description.lower()\n",
    "#Perform tokenization\n",
    "    description=nltk.word_tokenize(description)\n",
    "#Perform lemmatization\n",
    "    lemma = nltk.WordNetLemmatizer()\n",
    "    description = [lemma.lemmatize(word) for word in description]\n",
    "#Removing stopwords\n",
    "    description = [word for word in description if not word in stop_words]\n",
    "    description = \" \".join(description)\n",
    "    description_list.append(description)\n",
    "        "
   ]
  },
  {
   "cell_type": "code",
   "execution_count": 15,
   "id": "9e0349f2",
   "metadata": {},
   "outputs": [
    {
     "data": {
      "text/html": [
       "<div>\n",
       "<style scoped>\n",
       "    .dataframe tbody tr th:only-of-type {\n",
       "        vertical-align: middle;\n",
       "    }\n",
       "\n",
       "    .dataframe tbody tr th {\n",
       "        vertical-align: top;\n",
       "    }\n",
       "\n",
       "    .dataframe thead th {\n",
       "        text-align: right;\n",
       "    }\n",
       "</style>\n",
       "<table border=\"1\" class=\"dataframe\">\n",
       "  <thead>\n",
       "    <tr style=\"text-align: right;\">\n",
       "      <th></th>\n",
       "      <th>CleanReviews</th>\n",
       "      <th>Sentiment</th>\n",
       "    </tr>\n",
       "  </thead>\n",
       "  <tbody>\n",
       "    <tr>\n",
       "      <th>0</th>\n",
       "      <td>slow moving aimless movie distressed drifting ...</td>\n",
       "      <td>0</td>\n",
       "    </tr>\n",
       "    <tr>\n",
       "      <th>1</th>\n",
       "      <td>sure wa lost flat character audience nearly ha...</td>\n",
       "      <td>0</td>\n",
       "    </tr>\n",
       "    <tr>\n",
       "      <th>2</th>\n",
       "      <td>attempting artiness black white clever camera ...</td>\n",
       "      <td>0</td>\n",
       "    </tr>\n",
       "    <tr>\n",
       "      <th>3</th>\n",
       "      <td>little music anything speak</td>\n",
       "      <td>0</td>\n",
       "    </tr>\n",
       "    <tr>\n",
       "      <th>4</th>\n",
       "      <td>best scene movie wa gerardo trying find song k...</td>\n",
       "      <td>1</td>\n",
       "    </tr>\n",
       "  </tbody>\n",
       "</table>\n",
       "</div>"
      ],
      "text/plain": [
       "                                        CleanReviews  Sentiment\n",
       "0  slow moving aimless movie distressed drifting ...          0\n",
       "1  sure wa lost flat character audience nearly ha...          0\n",
       "2  attempting artiness black white clever camera ...          0\n",
       "3                        little music anything speak          0\n",
       "4  best scene movie wa gerardo trying find song k...          1"
      ]
     },
     "execution_count": 15,
     "metadata": {},
     "output_type": "execute_result"
    }
   ],
   "source": [
    "# The cleaned reviews are now stored in description_list\n",
    "# Create a dataframe out of this list:\n",
    "description_df = pd.DataFrame(description_list, columns=['CleanReviews'])\n",
    "\n",
    "# Append Sentiments from the original dataframe to this new dataframe\n",
    "description_df = pd.concat([description_df, df['Sentiment']], axis=1)\n",
    "\n",
    "description_df.head()"
   ]
  },
  {
   "cell_type": "code",
   "execution_count": 16,
   "id": "3f1430b2",
   "metadata": {},
   "outputs": [
    {
     "data": {
      "text/plain": [
       "['a',\n",
       " 'about',\n",
       " 'above',\n",
       " 'after',\n",
       " 'again',\n",
       " 'against',\n",
       " 'ain',\n",
       " 'all',\n",
       " 'am',\n",
       " 'an',\n",
       " 'and',\n",
       " 'any',\n",
       " 'are',\n",
       " 'aren',\n",
       " \"aren't\",\n",
       " 'as',\n",
       " 'at',\n",
       " 'be',\n",
       " 'because',\n",
       " 'been',\n",
       " 'before',\n",
       " 'being',\n",
       " 'below',\n",
       " 'between',\n",
       " 'both',\n",
       " 'but',\n",
       " 'by',\n",
       " 'can',\n",
       " 'couldn',\n",
       " \"couldn't\",\n",
       " 'd',\n",
       " 'did',\n",
       " 'didn',\n",
       " \"didn't\",\n",
       " 'do',\n",
       " 'does',\n",
       " 'doesn',\n",
       " \"doesn't\",\n",
       " 'doing',\n",
       " 'don',\n",
       " \"don't\",\n",
       " 'down',\n",
       " 'during',\n",
       " 'each',\n",
       " 'few',\n",
       " 'for',\n",
       " 'from',\n",
       " 'further',\n",
       " 'had',\n",
       " 'hadn',\n",
       " \"hadn't\",\n",
       " 'has',\n",
       " 'hasn',\n",
       " \"hasn't\",\n",
       " 'have',\n",
       " 'haven',\n",
       " \"haven't\",\n",
       " 'having',\n",
       " 'he',\n",
       " \"he'd\",\n",
       " \"he'll\",\n",
       " 'her',\n",
       " 'here',\n",
       " 'hers',\n",
       " 'herself',\n",
       " \"he's\",\n",
       " 'him',\n",
       " 'himself',\n",
       " 'his',\n",
       " 'how',\n",
       " 'i',\n",
       " \"i'd\",\n",
       " 'if',\n",
       " \"i'll\",\n",
       " \"i'm\",\n",
       " 'in',\n",
       " 'into',\n",
       " 'is',\n",
       " 'isn',\n",
       " \"isn't\",\n",
       " 'it',\n",
       " \"it'd\",\n",
       " \"it'll\",\n",
       " \"it's\",\n",
       " 'its',\n",
       " 'itself',\n",
       " \"i've\",\n",
       " 'just',\n",
       " 'll',\n",
       " 'm',\n",
       " 'ma',\n",
       " 'me',\n",
       " 'mightn',\n",
       " \"mightn't\",\n",
       " 'more',\n",
       " 'most',\n",
       " 'mustn',\n",
       " \"mustn't\",\n",
       " 'my',\n",
       " 'myself',\n",
       " 'needn',\n",
       " \"needn't\",\n",
       " 'no',\n",
       " 'nor',\n",
       " 'not',\n",
       " 'now',\n",
       " 'o',\n",
       " 'of',\n",
       " 'off',\n",
       " 'on',\n",
       " 'once',\n",
       " 'only',\n",
       " 'or',\n",
       " 'other',\n",
       " 'our',\n",
       " 'ours',\n",
       " 'ourselves',\n",
       " 'out',\n",
       " 'over',\n",
       " 'own',\n",
       " 're',\n",
       " 's',\n",
       " 'same',\n",
       " 'shan',\n",
       " \"shan't\",\n",
       " 'she',\n",
       " \"she'd\",\n",
       " \"she'll\",\n",
       " \"she's\",\n",
       " 'should',\n",
       " 'shouldn',\n",
       " \"shouldn't\",\n",
       " \"should've\",\n",
       " 'so',\n",
       " 'some',\n",
       " 'such',\n",
       " 't',\n",
       " 'than',\n",
       " 'that',\n",
       " \"that'll\",\n",
       " 'the',\n",
       " 'their',\n",
       " 'theirs',\n",
       " 'them',\n",
       " 'themselves',\n",
       " 'then',\n",
       " 'there',\n",
       " 'these',\n",
       " 'they',\n",
       " \"they'd\",\n",
       " \"they'll\",\n",
       " \"they're\",\n",
       " \"they've\",\n",
       " 'this',\n",
       " 'those',\n",
       " 'through',\n",
       " 'to',\n",
       " 'too',\n",
       " 'under',\n",
       " 'until',\n",
       " 'up',\n",
       " 've',\n",
       " 'very',\n",
       " 'was',\n",
       " 'wasn',\n",
       " \"wasn't\",\n",
       " 'we',\n",
       " \"we'd\",\n",
       " \"we'll\",\n",
       " \"we're\",\n",
       " 'were',\n",
       " 'weren',\n",
       " \"weren't\",\n",
       " \"we've\",\n",
       " 'what',\n",
       " 'when',\n",
       " 'where',\n",
       " 'which',\n",
       " 'while',\n",
       " 'who',\n",
       " 'whom',\n",
       " 'why',\n",
       " 'will',\n",
       " 'with',\n",
       " 'won',\n",
       " \"won't\",\n",
       " 'wouldn',\n",
       " \"wouldn't\",\n",
       " 'y',\n",
       " 'you',\n",
       " \"you'd\",\n",
       " \"you'll\",\n",
       " 'your',\n",
       " \"you're\",\n",
       " 'yours',\n",
       " 'yourself',\n",
       " 'yourselves',\n",
       " \"you've\"]"
      ]
     },
     "execution_count": 16,
     "metadata": {},
     "output_type": "execute_result"
    }
   ],
   "source": [
    "#Displaying stop words\n",
    "\n",
    "stop_words"
   ]
  },
  {
   "cell_type": "code",
   "execution_count": 17,
   "id": "b5fb1d0c",
   "metadata": {},
   "outputs": [
    {
     "name": "stdout",
     "output_type": "stream",
     "text": [
      "Vocabulary_size:  2719\n"
     ]
    }
   ],
   "source": [
    "# Identify vocabulary size\n",
    "\n",
    "tokenizer = Tokenizer()\n",
    "tokenizer.fit_on_texts(description_df['CleanReviews'])\n",
    "\n",
    "word_count = len(tokenizer.word_index) +1\n",
    "\n",
    "print(\"Vocabulary_size: \", word_count)"
   ]
  },
  {
   "cell_type": "markdown",
   "id": "ae844c28",
   "metadata": {},
   "source": [
    "#### B1b: Vocabulary size\n",
    "* Listed above is our vocabulary size of 2719 that we discovered after running our code. This number represents the count of unique/tokenized words found across all reviews."
   ]
  },
  {
   "cell_type": "code",
   "execution_count": 18,
   "id": "d785b488",
   "metadata": {},
   "outputs": [
    {
     "name": "stdout",
     "output_type": "stream",
     "text": [
      "Max length of sequences is: 44\n",
      "Min length of sequences is: 1\n",
      "Median length of sequences is: 6.0\n",
      "\n",
      "Proposed word embedding length: 6.0\n"
     ]
    }
   ],
   "source": [
    "# Determine min, med, and max lengths of reviews \n",
    "\n",
    "\n",
    "review_length = []\n",
    "for char_len in description_df['CleanReviews']:\n",
    "    review_length.append(len(char_len.split(\" \")))\n",
    "\n",
    "review_max = np.max(review_length)\n",
    "review_min = np.min(review_length)\n",
    "review_median = np.median(review_length)\n",
    "\n",
    "print(\"Max length of sequences is:\", review_max)\n",
    "print(\"Min length of sequences is:\", review_min)\n",
    "print(\"Median length of sequences is:\", review_median)\n",
    "\n",
    "# The median review length will be used as the proposed word embedded length here: \n",
    "print()\n",
    "print(\"Proposed word embedding length:\", review_median)"
   ]
  },
  {
   "cell_type": "markdown",
   "id": "a813f6ab",
   "metadata": {},
   "source": [
    "#### B1c: Proposed word embedding length\n",
    "* Listed above is our proposed word embedding length of 6.0 based on the review median length."
   ]
  },
  {
   "cell_type": "code",
   "execution_count": 19,
   "id": "a3e6ddb6",
   "metadata": {},
   "outputs": [
    {
     "name": "stdout",
     "output_type": "stream",
     "text": [
      "Max length of sequences is:  44\n"
     ]
    }
   ],
   "source": [
    "# Our maximum sequence length was established in the prior cell with this code line:\n",
    "\n",
    "print(\"Max length of sequences is: \", review_max)"
   ]
  },
  {
   "cell_type": "markdown",
   "id": "48a95eda",
   "metadata": {
    "jp-MarkdownHeadingCollapsed": true
   },
   "source": [
    "#### B1d: Statistical justification for chosen maximum sequence length\n",
    "* Listed above is our maximum sequence length of 44, justified by the review_max function "
   ]
  },
  {
   "cell_type": "markdown",
   "id": "1fc07dfd",
   "metadata": {},
   "source": [
    "### B2: Tokenization\n",
    "* Tokenization is used to simplify text data analyzation so that a machine model can utilize the data while retaining the context. It works by breaking down text strings into tokens, which are smaller components of the original data. It is also an important step in preprocessing since it aids in the identification and removal of both stopwords and unnecessary characters.\n"
   ]
  },
  {
   "cell_type": "markdown",
   "id": "19518cae",
   "metadata": {},
   "source": [
    "* Certain portions of the code in this section are adapted from Geeksforgeeks (GeeksforGeeks, Training of recurrent neural networks (RNN) in tensorflow 2025)."
   ]
  },
  {
   "cell_type": "code",
   "execution_count": 20,
   "id": "82694846",
   "metadata": {},
   "outputs": [
    {
     "name": "stdout",
     "output_type": "stream",
     "text": [
      "Number of unique words: 2719\n"
     ]
    }
   ],
   "source": [
    "# Tokenization on the cleaned dataset\n",
    "\n",
    "tokenizer = Tokenizer()\n",
    "tokenizer.fit_on_texts(description_df['CleanReviews'])\n",
    "\n",
    "word_count = len(tokenizer.word_index) + 1\n",
    "\n",
    "print(\"Number of unique words:\", word_count)"
   ]
  },
  {
   "cell_type": "code",
   "execution_count": 21,
   "id": "3cd4649f",
   "metadata": {
    "scrolled": true
   },
   "outputs": [
    {
     "data": {
      "text/plain": [
       "0      [slow, moving, aimless, movie, distressed, dri...\n",
       "1      [sure, wa, lost, flat, character, audience, ne...\n",
       "2      [attempting, artiness, black, white, clever, c...\n",
       "3                       [little, music, anything, speak]\n",
       "4      [best, scene, movie, wa, gerardo, trying, find...\n",
       "                             ...                        \n",
       "995    [got, bored, watching, jessice, lange, take, c...\n",
       "996    [unfortunately, virtue, film, production, work...\n",
       "997                                 [word, embarrassing]\n",
       "998                                 [exceptionally, bad]\n",
       "999      [insult, one, intelligence, huge, waste, money]\n",
       "Name: CleanReviews, Length: 1000, dtype: object"
      ]
     },
     "execution_count": 21,
     "metadata": {},
     "output_type": "execute_result"
    }
   ],
   "source": [
    "# Display the list of all word tokens from the cleaned dataset\n",
    "\n",
    "from nltk.tokenize import word_tokenize\n",
    "\n",
    "\n",
    "description_df['CleanReviews'].apply(word_tokenize)"
   ]
  },
  {
   "cell_type": "code",
   "execution_count": 22,
   "id": "fa124097",
   "metadata": {},
   "outputs": [
    {
     "name": "stdout",
     "output_type": "stream",
     "text": [
      "Number of unique words: 3134\n"
     ]
    }
   ],
   "source": [
    "# Tokenized original dataframe for comparison to our tokenized cleaned dataframe\n",
    "\n",
    "tokenizer = Tokenizer()\n",
    "tokenizer.fit_on_texts(df['Reviews'])\n",
    "\n",
    "word_count = len(tokenizer.word_index) + 1\n",
    "\n",
    "print(\"Number of unique words:\", word_count)"
   ]
  },
  {
   "cell_type": "code",
   "execution_count": 23,
   "id": "33057d27",
   "metadata": {},
   "outputs": [
    {
     "data": {
      "text/plain": [
       "0      [A, very, ,, very, ,, very, slow-moving, ,, ai...\n",
       "1      [Not, sure, who, was, more, lost, -, the, flat...\n",
       "2      [Attempting, artiness, with, black, &, white, ...\n",
       "3      [Very, little, music, or, anything, to, speak,...\n",
       "4      [The, best, scene, in, the, movie, was, when, ...\n",
       "                             ...                        \n",
       "995    [I, just, got, bored, watching, Jessice, Lange...\n",
       "996    [Unfortunately, ,, any, virtue, in, this, film...\n",
       "997            [In, a, word, ,, it, is, embarrassing, .]\n",
       "998                              [Exceptionally, bad, !]\n",
       "999    [All, in, all, its, an, insult, to, one, 's, i...\n",
       "Name: Reviews, Length: 1000, dtype: object"
      ]
     },
     "execution_count": 23,
     "metadata": {},
     "output_type": "execute_result"
    }
   ],
   "source": [
    "#  Display the list of all word tokens from the original dataset\n",
    "\n",
    "df['Reviews'].apply(word_tokenize)"
   ]
  },
  {
   "cell_type": "markdown",
   "id": "74c9de61",
   "metadata": {},
   "source": [
    "* As we can observe, words such as 'a', 'an', 'the', etc. are not present in the tokenized clean dataframe. These have been removed since they provide no value as inputs in the RNN model."
   ]
  },
  {
   "cell_type": "markdown",
   "id": "1e0c5e9e",
   "metadata": {},
   "source": [
    "### B3: Padding process\n",
    "* Padding is the process in which data that is variable in length is made uniform through either the removal or addition of characters in a string. As evident in the chosen parameters in the code below, padding and truncating were both applied post, meaning that it padded and truncated after the text sequence using the pad_sequences function. "
   ]
  },
  {
   "cell_type": "code",
   "execution_count": 24,
   "id": "ff8c532e",
   "metadata": {},
   "outputs": [
    {
     "data": {
      "text/plain": [
       "array([[ 286,  406, 1216, ...,    0,    0,    0],\n",
       "       [ 521,  408,  735, ...,    0,    0,    0],\n",
       "       [1220, 1221,  208, ...,    0,    0,    0],\n",
       "       ...,\n",
       "       [ 360,  574,    0, ...,    0,    0,    0],\n",
       "       [3132,   24,    0, ...,    0,    0,    0],\n",
       "       [ 507,   19,  489, ...,    0,    0,    0]])"
      ]
     },
     "execution_count": 24,
     "metadata": {},
     "output_type": "execute_result"
    }
   ],
   "source": [
    "# Applying padding \n",
    "\n",
    "# This converts description_list to a list of integers using texts_to_sequences\n",
    "\n",
    "# First, tokenize the description list\n",
    "sequences = tokenizer.texts_to_sequences(description_list)\n",
    "\n",
    "# Next, pad after the text sequence by specifying 'post' for both padding and truncating\n",
    "padded_sequence = pad_sequences(sequences, padding = 'post', truncating = 'post', maxlen = review_max)\n",
    "\n",
    "padded_sequence"
   ]
  },
  {
   "cell_type": "code",
   "execution_count": 25,
   "id": "a7c37856",
   "metadata": {},
   "outputs": [
    {
     "data": {
      "text/plain": [
       "['slow moving aimless movie distressed drifting young man',\n",
       " 'sure lost flat character audience nearly half walked',\n",
       " 'attempting artiness black white clever camera angle movie disappointed became even ridiculous acting poor plot line almost non existent',\n",
       " 'little music anything speak',\n",
       " 'best scene movie gerardo trying find song keep running head',\n",
       " 'rest movie lack art charm meaning emptiness work guess empty',\n",
       " 'wasted two hour',\n",
       " 'saw movie today thought good effort good',\n",
       " 'bit predictable',\n",
       " 'loved casting jimmy buffet science teacher',\n",
       " 'baby adorable',\n",
       " 'movie showed lot florida best made look appealing',\n",
       " 'song best muppets hilarious',\n",
       " 'cool',\n",
       " 'right case movie delivers everything almost right face',\n",
       " 'average acting main person low budget clearly see',\n",
       " 'review long overdue since consider tale two sister single greatest film ever made',\n",
       " 'put gem movie screenplay cinematography acting post production editing directing aspect film making',\n",
       " 'practically perfect true masterpiece sea faux masterpiece',\n",
       " 'structure film easily tightly constructed history cinema',\n",
       " 'think film something vitally important occurs every minute',\n",
       " 'word content level film enough easily fill dozen film',\n",
       " 'anyone right mind ask anything movie',\n",
       " 'quite simply highest superlative form cinema imaginable',\n",
       " 'yes film require rather significant amount puzzle solving piece fit together create beautiful picture',\n",
       " 'short film certainly pull',\n",
       " 'far best part game',\n",
       " 'number one best th game series',\n",
       " 'deserves strong love',\n",
       " 'insane game',\n",
       " 'massive level massive unlockable character massive game',\n",
       " 'waste money game',\n",
       " 'kind money wasted properly',\n",
       " 'actually good time',\n",
       " 'today crap',\n",
       " 'say canada fun game aye',\n",
       " 'game',\n",
       " 'buy play enjoy love',\n",
       " 'pure brilliance',\n",
       " 'flick doomed conception',\n",
       " 'idea lame take minor character mediocre pg film make complete non sequel changing tone pg rated family movie',\n",
       " 'least bit interested',\n",
       " 'confirm film would unfunny generic also managed give away entire movie exaggerating every moment every plot point every joke told trailer',\n",
       " 'funny',\n",
       " 'even talented carrell save',\n",
       " 'co star fare much better people like morgan freeman jonah hill ed wasted',\n",
       " 'story predictable lazy',\n",
       " 'real effect work presence integration scene worst obvious blue green screen work ever seen',\n",
       " 'whatever cost much translate quality sure',\n",
       " 'film succeeds despite perhaps obviously meagre budget',\n",
       " 'glad film go obvious choice lesser film certainly would',\n",
       " 'addition one lovely song ever written french cancan also one cutest leading lady ever grace screen',\n",
       " 'hard fall head love girl',\n",
       " 'negative insipid enough cause regret another hour life wasted front screen',\n",
       " 'long whiny pointless',\n",
       " 'recommend waiting future effort let one go',\n",
       " 'excellent cast story line performance',\n",
       " 'totally believable',\n",
       " 'anne heche utterly convincing',\n",
       " 'sam portrayal gung ho marine sobering',\n",
       " 'sat riveted tv screen',\n",
       " 'give one resounding',\n",
       " 'think tom good actor',\n",
       " 'enjoyed reading book child little',\n",
       " 'disappointed movie',\n",
       " 'one character totally annoying voice give feeling chalkboard',\n",
       " 'totally unnecessary train roller coaster scene',\n",
       " 'absolutely warmth charm scene character',\n",
       " 'movie totally',\n",
       " 'performance improved improvisation actor twice much worry whether delivering line well whether line good',\n",
       " 'quite honestly often good',\n",
       " 'often dialogue really follow one line another fit surroundings',\n",
       " 'unpredictable youthful energy honestly found hard follow concentrate badly',\n",
       " 'generally great thing',\n",
       " 'say worth hour time though',\n",
       " 'suspense good cross line g pg',\n",
       " 'especially liked non cliche choice movie could predict dialog verbatim writing movie made better',\n",
       " 'want movie gross give great choice',\n",
       " 'alexander nevsky great film',\n",
       " 'amazing film artist one important whoever lived',\n",
       " 'glad pretentious piece planned dodge stratus big shot help movie maker restrained movie business',\n",
       " 'first movie given year',\n",
       " 'ever movie needed word mouth promote',\n",
       " 'overall film interesting thought provoking',\n",
       " 'plus well paced suited relatively short run time',\n",
       " 'give one look',\n",
       " 'gave',\n",
       " 'wind lion well written superbly acted',\n",
       " 'true classic',\n",
       " 'actually turned pretty decent far b list horror suspense film go',\n",
       " 'definitely worth checking',\n",
       " 'problem script',\n",
       " 'horrendous',\n",
       " 'nothing believable',\n",
       " 'suspense feeling frustration retarded girl',\n",
       " 'manna heaven terrific film predictable unpredictable time',\n",
       " 'scene often funny occasionally touching character evaluate life going',\n",
       " 'cast veteran actor nostalgia trip',\n",
       " 'ursula portrayal nun touching funny time making fun nun church',\n",
       " 'looking movie terrific cast good music including shirley jones rendition way look tonight uplifting ending give one try',\n",
       " 'think disappointed',\n",
       " 'frankly cotton club unfaithful kind embarrassing watch lane gere film bad',\n",
       " 'acting bad dialog extremely shallow insincere',\n",
       " 'predictable even chick flick',\n",
       " 'politically correct',\n",
       " 'disappointing',\n",
       " 'thing really worth watching scenery house beautiful',\n",
       " 'love lane never seen movie lousy',\n",
       " 'hour half wish could bring back',\n",
       " 'writing fresh bold',\n",
       " 'acting help writing along well maybe idiot savant sister could played better real joy watch',\n",
       " 'directing cinematography quite good',\n",
       " 'movie boring sometimes found occupied peaking paper instead watching never happened columbo movie',\n",
       " 'sometimes embarrassing look away',\n",
       " 'directing seems pretentious',\n",
       " 'scene oh mature neighbour girl misplace',\n",
       " 'generally line plot weaker average episode',\n",
       " 'scene debated whether sack trumpeter falsely accused murder pure horror really stupid',\n",
       " 'applause given prelude however',\n",
       " 'really liked',\n",
       " 'great film great director',\n",
       " 'movie edge seat made somewhat afraid go car end night',\n",
       " 'music film really nice',\n",
       " 'advise anyone go see',\n",
       " 'brilliant',\n",
       " '',\n",
       " 'liked movie way much',\n",
       " 'problem thought actor playing villain low rent michael ironside',\n",
       " 'rocked world certainly must see anyone social physical',\n",
       " 'however make fact overall tremendously boring movie',\n",
       " 'chemistry ben affleck sandra bullock film understand would consider even leaving wife chick supposedly knocked',\n",
       " 'several moment movie need excruciatingly slow moving',\n",
       " 'poor remake best wedding',\n",
       " 'great disappointment',\n",
       " 'believe actor agreed film',\n",
       " 'could stand even watch long fear losing q',\n",
       " 'guess nobody network aired dribble watched putting',\n",
       " 'imdb rating go low awful time get negative number case',\n",
       " 'saw mirrormask last night unsatisfactory experience',\n",
       " 'unfortunately inexperience direction meant scene scene passed little way dramatic tension conflict',\n",
       " 'central theme film handled ineptly stereotypically depth imagination',\n",
       " 'pretty picture world make piece work flawed core',\n",
       " 'hour half waste time following bunch pretty high schoolers whine cry life',\n",
       " 'relate hell barely understand',\n",
       " 'definitely cult classic well worth viewing sharing others',\n",
       " 'movie pure disaster story stupid editing worst seen confuses incredibly',\n",
       " 'fish badly made underwater shot repeated thousand time film',\n",
       " 'truly truly bad film',\n",
       " 'acting terrible writing worse',\n",
       " 'possible way movie could redeemed would fodder',\n",
       " 'paid much',\n",
       " 'also real treat see anthony quinn playing crazy horse',\n",
       " 'boring',\n",
       " 'plot whatsoever',\n",
       " 'plot',\n",
       " 'horrible',\n",
       " 'worst hour half life oh gosh',\n",
       " 'walk theatre minute get relief',\n",
       " 'hate movie like',\n",
       " 'yeah movie pretty much sucked',\n",
       " 'plot storyline',\n",
       " 'go see movie bring pillow girlfriend boyfriend keep occupied',\n",
       " 'awful',\n",
       " 'think ever gone movie disliked much',\n",
       " 'good thing cost five would mad paid see crap',\n",
       " 'nobody identifies character cardboard predictably reverse',\n",
       " 'bad film bad writing good actor ugly cartoon crafted paul haggis people handle anything bold storytelling picture painted crayon',\n",
       " 'crash depressing little nothing provokes emotion nothing already know racism prejudice bad thing',\n",
       " 'still like movie empowerment enough movie like one',\n",
       " 'brain attempt shut part primal impulse self preservation',\n",
       " 'left shattered experience watching film took good two hour fully recover',\n",
       " 'movie revenge boogeyman zombiez part hellish trinity horror film',\n",
       " 'certainly mean distinction good way',\n",
       " 'mean terrible way',\n",
       " 'film redeeming feature',\n",
       " 'everything appalling',\n",
       " 'artless camera work endlessly u ugliest setting imaginable e',\n",
       " 'story beyond stupid',\n",
       " 'script script',\n",
       " 'annoying',\n",
       " 'lead man charisma free',\n",
       " 'utterly without merit level akin torture',\n",
       " 'even say torture',\n",
       " 'maybe would reasonable explanation atrocity',\n",
       " 'pleasant voyage self discovery',\n",
       " 'highly unrecommended',\n",
       " 'premise sound stupid',\n",
       " 'yes bad',\n",
       " 'nothing recommend',\n",
       " 'excellent performance',\n",
       " 'garbo showed right bat talent could carry silent era wanted see silent work netflix seem stocking',\n",
       " 'also great see renowned silent screenwriter marion missed step going silent sound',\n",
       " 'movie suffered writing needed suspense',\n",
       " 'many close ups',\n",
       " 'movie seemed drag hero really work freedom',\n",
       " 'movie definitely average rent',\n",
       " 'love',\n",
       " 'movie bad',\n",
       " 'bad',\n",
       " 'film way long',\n",
       " 'definitely one bad one',\n",
       " 'movie received great quality film age',\n",
       " 'john wayne incredible job young movie industry',\n",
       " 'screen presence shined thought even though senior actor screen',\n",
       " 'think must see older john wayne film',\n",
       " 'really see anyone could enjoy movie',\n",
       " 'think ever seen movie half boring self indulgent piece junk',\n",
       " 'probably would better director spent movie showcasing art work really noteworthy',\n",
       " 'another thing really like character got punched face gallon blood would spew forth soon',\n",
       " 'jamie foxx absolutely ray charles',\n",
       " 'performance simply genius',\n",
       " 'owns film spacek owned coal daughter quaid owned great ball fire',\n",
       " 'fact hard remember part ray charles acted played man',\n",
       " 'ray charles legendary',\n",
       " 'ray charles life provided excellent biographical material film go well beyond another movie musician',\n",
       " 'hitchcock great director',\n",
       " 'ironically mostly find film total waste time watch',\n",
       " 'secondly hitchcock pretty much perfected thriller chase movie',\n",
       " 'pandering audience film',\n",
       " 'hence whole story lack certain energy',\n",
       " 'plot simply like machine desperately depending addition new scene',\n",
       " 'usual hitchcock logic flaw',\n",
       " 'mishima extremely uninteresting',\n",
       " 'chilly unremarkable movie author living working chilly abstruse culture',\n",
       " 'flat hold attention emotionally adrift stagy',\n",
       " 'rest sits awful singing song masculinity pledge hairsplitting purity admiration etc',\n",
       " 'bore piece kill momentum movie quicker anyone else',\n",
       " 'schrader made resume full lousy amateurish film',\n",
       " 'first watched movie loved',\n",
       " 'totally fascinated music dancing everything',\n",
       " 'however recently watched whole thing dvd completely struck extremely stupid storyline contained frankly whole lot crap horrid dancing',\n",
       " 'mean realistic world would never gotten ballet repertory whole thing quite pathetic',\n",
       " 'character development also lacked depth',\n",
       " 'woa talk awful',\n",
       " 'waste time',\n",
       " 'horrible',\n",
       " 'worst sappiest dialogue could go',\n",
       " 'really made unwatchable direction',\n",
       " 'poor actor',\n",
       " 'even tell talent pathetic line speak director gave action',\n",
       " 'check director filmography site see film chance',\n",
       " 'would even good made tv flick',\n",
       " 'good made film great film might one greatest film ever made',\n",
       " 'film great actor master director significant theme least would significant theme undertone existential world weariness aerial scene ought thrilled imagination character one might deeply care',\n",
       " 'regrettably film fails',\n",
       " 'movie lack visual interest drama expression feeling celebration patriotism narrative',\n",
       " 'actress worse used june allison movie',\n",
       " 'yet enjoy watching',\n",
       " 'unfortunately bad movie plain bad',\n",
       " 'bad script bad direction horrible acting make one plain bad',\n",
       " 'dialogue sucked',\n",
       " 'cinematography called sucked',\n",
       " 'soundtrack sucked',\n",
       " 'acting sucked',\n",
       " 'concert sequence sucked',\n",
       " 'nice',\n",
       " 'funny',\n",
       " 'funny',\n",
       " 'overall movie cheap trash',\n",
       " 'movie funny considering ridiculousness',\n",
       " 'came feeling angry',\n",
       " 'spoiler whatever else said surface superbly crafted',\n",
       " 'cinematography simply stunning say least fx nothing state art',\n",
       " 'conceptually show offer little bit everything everybody fantasy fx fan',\n",
       " 'single sour note struck acting wise either surprisingly solid casting',\n",
       " 'thing considered job well done',\n",
       " 'thanks good movie like done released',\n",
       " 'one best mexican movie ever one understood even mexican matter identified felt',\n",
       " 'highly great noir crime drama incredible performance belmondo lino ventura',\n",
       " 'attention given every character complex psychological portrayal detailing loyalty treachery love hope tremendous',\n",
       " 'excellent drama excellent thriller excellent film',\n",
       " 'best melville',\n",
       " 'everything film simply incredible',\n",
       " 'truly take journey eye soul child',\n",
       " 'black water thriller manages completely transcend indie flick continually subverting emerge intense experience',\n",
       " 'performance real gripping crocdodile extremely well done indeed black water website believed used real crocs swamp location fabulous',\n",
       " 'thoroughly enjoyed christopher eccleston took control tardis continuation series',\n",
       " 'sure trying film',\n",
       " 'turn good day feeling night disturbing guess succeeded',\n",
       " 'lot beautiful place',\n",
       " 'forced like everything movie',\n",
       " 'lame',\n",
       " 'movie really pi ed',\n",
       " 'even get started jerky camerawork',\n",
       " 'saw theater thought going sick',\n",
       " 'summary witty',\n",
       " 'plot well said let one go',\n",
       " 'acting bad',\n",
       " 'really bad',\n",
       " 'even billy bob rise script worse',\n",
       " 'camerawork bad',\n",
       " 'rating',\n",
       " 'amazing finale possibly best trilogy time',\n",
       " 'kieslowski never amaze',\n",
       " 'one favourite director one talented director history cinema',\n",
       " 'use french flag three film nothing short incredible every shot every scene like work art',\n",
       " 'three visually appealing movie ever seen',\n",
       " 'subtle three film awesome',\n",
       " 'mention huge spoiler loved ending character three film remaining ferry disaster valentine young judge together old man watching tv solidifying happiness suffering dealt many year',\n",
       " 'think better way end film smile face great way wrap amazing film trilogy',\n",
       " 'recommend everyone love film movie anything work art',\n",
       " 'movie trilogy',\n",
       " 'literally vomited watching film',\n",
       " 'think one people found another one',\n",
       " 'performance awarded stunning',\n",
       " 'story told eloquently francis ford coppola year earlier really unfolds gradually room character develop',\n",
       " 'wonderful location lie story contrast',\n",
       " 'beautiful directed film roeg wih sublime cast',\n",
       " 'translating movie living first movie year working experience found offensive intelligence',\n",
       " 'someone strives greatness poetry delivers muddled often ridiculous story bunch disparate scene pretentious dialogue get worst kind movie reviewer accurately defined pretentious crap',\n",
       " 'find movie intelligent even masterful say intelligence imagination obviously used try make sense pitiful attempt human nature try make sense thing',\n",
       " 'one thing tolerate political incorrectness well artistic freedom suspension disbelief slavic female character much',\n",
       " 'fun funny movie',\n",
       " 'highly entertaining angle',\n",
       " 'feature outlandish array memorable psychotic lovable nut',\n",
       " 'enjoyment get see run around play game dangerous',\n",
       " 'even sweet moment',\n",
       " 'telephone repair man really funny nut bitchy truly genuine',\n",
       " 'character film tremendously well played',\n",
       " 'really find funny',\n",
       " 'actually smart movie',\n",
       " 'brilliant twist ending',\n",
       " 'love',\n",
       " 'ending perfect shed tear',\n",
       " 'thrilled seeing movie like',\n",
       " 'never forget',\n",
       " 'cult cult classic',\n",
       " 'depth character man underneath',\n",
       " 'malta setting dry barren dialogue',\n",
       " 'movie terrible',\n",
       " 'hockey scene terrible defensemen playing like year old diving shot wide net etc',\n",
       " 'seen waste time',\n",
       " 'call movie drama ridiculous',\n",
       " 'started watching believe character',\n",
       " 'particular relationship bakery assistant waitress work',\n",
       " 'superficial movie gave feeling watching play rather film',\n",
       " 'character storyline lot like stage farce',\n",
       " 'time pyromaniac waylaid assistant bored care happened next switched',\n",
       " 'glad pay see',\n",
       " 'laugh even smile',\n",
       " 'anything one big yawn',\n",
       " 'really good show watch',\n",
       " 'educational child year old',\n",
       " 'barney definitely super de duper',\n",
       " 'pretty funny',\n",
       " 'babie bop cute',\n",
       " 'cool',\n",
       " 'storm trooper even bad enough make list wonderfully terrible movie',\n",
       " 'lame',\n",
       " 'guy said better dialogue potted right',\n",
       " 'everything movie stupid',\n",
       " 'even love bad movie watch movie',\n",
       " 'shameful',\n",
       " 'would give television series plus could',\n",
       " 'writer smack think best actor actress bonus show character real',\n",
       " 'must say taped episode find watching',\n",
       " 'know gave',\n",
       " 'know exactly movie latched endearing movie become special part family',\n",
       " 'totally absolutely recommend movie anyone like good wholesome family movie exactly',\n",
       " 'thing four get absolutely hilarious watch',\n",
       " 'one best movie show strong sibling bond',\n",
       " 'much interesting action suspense unneeded controversy',\n",
       " 'everything acting cinematography solid',\n",
       " 'definitely worth checking',\n",
       " 'damian talented versatile many way writing portraying different character screen',\n",
       " 'movie cutting edge',\n",
       " 'pleased know modern day genius letting passion art drive taking u audience',\n",
       " 'new character memorable found forgetting',\n",
       " 'felt though going ireland absolutely nothing whatsoever',\n",
       " 'make scared horrified make sympathetic towards character simply annoying',\n",
       " 'jerky camera also annoying',\n",
       " 'plot pretty much every cheap horror',\n",
       " 'pathetic attempt give character depth really work rest plot',\n",
       " 'guess supposed clever twist shed light situation stupid',\n",
       " 'see probably leave shelf',\n",
       " 'koteas jack palance play good role angelina hot get naked billy drago appears cool usual cameo sven ole thorsen help make enjoyable movie good acting decent budget',\n",
       " 'awesome movie bought ebay',\n",
       " 'really loved story line poler bear kinda cute anyone question fort steele ask away',\n",
       " 'totally unfunny movie top pathetic unrealistic throughout whole minute utter torture probably looked watch time',\n",
       " 'lucy bell much higher crap sink low quite depressing',\n",
       " 'movie make sick watching make excuse stupid action minute',\n",
       " 'god never get minute back',\n",
       " 'think wonderful part literally full wonder work',\n",
       " 'set especially designed work camera amazing stylized beautiful effective',\n",
       " 'could used set designer',\n",
       " 'story powerful nature man art',\n",
       " 'watching film wanted learn work artist',\n",
       " 'highly recommend movie anyone interested art poetry theater politics japanese history',\n",
       " 'wind lion see wonderful rendering america imperial age',\n",
       " 'make story different terrific production value faultless photography composition editing terrific casting underappreciated brian keith playing bully teddy vivid history',\n",
       " 'though wind lion told largely eye son every member family identify one character whether sean connery noble brigand candace feisty heroine john huston wily john hay steve spiffy radiant ruthless lieutenant big stick',\n",
       " 'high adventure best',\n",
       " 'think robert ryans best film portrayed someone like father schizophrenic real life father although never murdered anyone affected second world war made worse',\n",
       " 'humour get get day apt',\n",
       " 'mother brother saw robert ryan portraying type man good imitation type individual impressed',\n",
       " 'almost song cover girl old fashioned tuneful',\n",
       " 'annoying thing cover girl way rita hayworth put pedestal',\n",
       " 'unfortunately cover girl example hollywood used exploit financial gain',\n",
       " 'non linear narration thus many every part articulated quite well',\n",
       " 'good cinematography also make monica bellucci look beautiful',\n",
       " 'good commentary today love undoubtedly film worth seeing',\n",
       " 'people first film making think excellent job',\n",
       " 'popular cinema good house good plenty laugh',\n",
       " 'feel good film felt came cinema',\n",
       " 'northern humour positive community represents',\n",
       " 'rather enjoyed',\n",
       " 'liked',\n",
       " 'take seriously',\n",
       " 'really created unique feeling though',\n",
       " 'vivian schilling excellent job script',\n",
       " 'world better garbage theatre today',\n",
       " 'role played well',\n",
       " 'screamy masculine right',\n",
       " 'camera really like movie',\n",
       " 'would casted role ready script',\n",
       " 'european movie nice throwback time student experience living abroad interacting although slightly different',\n",
       " 'fan movie sucked really bad',\n",
       " 'even worse ticker',\n",
       " 'movie bad',\n",
       " 'like used couple location maybe poor hummh',\n",
       " 'blew',\n",
       " 'movie excellent angel beautiful scamp adorable little scared funniest part scamp caught curtain angel scamp singing never feeling totally recommend movie coming special edition june cover scamp garbage angel underneath lid',\n",
       " 'cant explain movie romantic charming hilarious adorable junkyard scene funny junkyard something special funny laughed love buy come new feature',\n",
       " 'chosen tortured disgusting piece blatant american propaganda',\n",
       " 'show made american stupid full hatred admitted elsewhere',\n",
       " 'almost everyone involved must return school acting utterly predictable bad script pile garbage round',\n",
       " 'wish could enter negative value admins',\n",
       " 'set bad look place episode',\n",
       " 'use slow motion needlessly throughout movie well backed bad acting bad kind word continuity scene thrown reason whatsoever looked like made corn box directorial style bordered stupidity',\n",
       " 'oh yeah storyline pathetic',\n",
       " 'hate writing bad review film especially really like star film bad believe one second anyone could proud',\n",
       " 'filmmaker director would hide head sand spent whatever amount money time movie',\n",
       " 'short monumental waste time energy would recommend anyone ever see film',\n",
       " 'came free dvd player bought still turned thing halfway embarrassed howell',\n",
       " 'setting',\n",
       " 'interesting premise billy drago always good dangerous nut bag side note love see drago stephen mchattie lance hendrikson flick together talk raging',\n",
       " 'soundtrack terrible either',\n",
       " 'acting even drago debbie rochon terrible directing worse perhaps contributory former dialog chimp like camera work barely tolerable',\n",
       " 'still set got big oy vey scale',\n",
       " 'yes simplifying thing sake brevity really core problem film much going without real fulfilling explanation',\n",
       " 'good job quite amusing',\n",
       " 'convoluted plot convince much film watched weird questioning glance',\n",
       " 'let girlfriend talk seeing bad idea hated',\n",
       " 'last minute movie also bad well',\n",
       " 'bela lugosi totally extraneous intoning odd line',\n",
       " 'acting decidely wooden though worse period universal b movie',\n",
       " 'like armand assante cable summary sounded interesting watched twice already probably',\n",
       " 'believe screenwriter good job tying loose end',\n",
       " 'score mostly plot',\n",
       " 'say like spoiler want one believe film worth time',\n",
       " 'wow bad film',\n",
       " 'frightening least barely comprehensible',\n",
       " 'plot hang together acting absolutely appalling',\n",
       " 'even good camp value',\n",
       " 'expecting oscar material',\n",
       " 'iq particularly stupid mollusk see one coming',\n",
       " 'film use word loosely insult movie going public',\n",
       " 'someone involved knew string together narrative',\n",
       " 'get simply nothing lower',\n",
       " 'one watched recently fox movie channel disappointed',\n",
       " 'know contract player little control script acting bad script',\n",
       " 'victor mclaglen even bad brian donlevy almost unrecognizable',\n",
       " 'considering relation screen taylor stanwyck surprising little chemistry screen two',\n",
       " 'premise film ridiculous president u',\n",
       " 'death row scene entirely unmoving',\n",
       " 'thing worse taylor acting stanwyck singing',\n",
       " 'whatever producer going missed entirely',\n",
       " 'deeply impressed character played',\n",
       " 'knew saw film great thing come gifted actor',\n",
       " 'cheap cheerless heist movie poor characterisation lot underbite style stoic emoting think chow yun fat better tomorrow cheesy thrown abandoned factory ready poorly executed flying judo la john woo',\n",
       " 'even look awful',\n",
       " 'point look remotely like america',\n",
       " 'plot derivative predictable ending like mercy killing',\n",
       " 'awful dialogue hopeless overacting everyone get shot top real waste space time',\n",
       " 'uneasy bad movie scared',\n",
       " 'dialogue composed thing make little sense',\n",
       " 'minute footage wasted show mediocre elderly actor awkwardly babbling overwrought pseudo satanic gibberish corny enough make teen goth blush almost always olde english sometimes latin may may made word',\n",
       " 'directing sloppy best',\n",
       " 'hackneyed writing certainly made even worse bad directing',\n",
       " 'course acting blah',\n",
       " 'acting whole cast could put scale balanced perfectly overacting underacting',\n",
       " 'finally get ending would great handled competent people jerry falwell',\n",
       " 'loved movie great portrayal family share ups end knew special love',\n",
       " 'seen many movie starring jaclyn smith god one best though came year ago',\n",
       " 'movie contained star cast loved opened eye see actor seen',\n",
       " 'movie kind long length enjoyed every minute',\n",
       " 'overall rate movie scale',\n",
       " 'lifetime air enough anyone know store let know must',\n",
       " 'particularly remember assaulted strident music would blare little warning even meaning',\n",
       " 'sort pap screened afternoon punish unemployed job',\n",
       " 'totally different understatement black comedy film get see remember',\n",
       " 'movie creates universe fascinating every way',\n",
       " 'movie really got',\n",
       " 'see',\n",
       " 'really hope team behind movie make movie continue kinda weird style',\n",
       " 'forgot casting superb trond fausa g perfect role bothersome man understand',\n",
       " 'movie good humorous comment life',\n",
       " 'found move beautiful enjoyable uplifting',\n",
       " 'initially local site film filmed buffalo intrigued',\n",
       " 'later found lost power film',\n",
       " 'entire audience applauded conclusion film',\n",
       " 'left theater lilt step joy heart hope human race',\n",
       " 'duris wholesome appearance give fine performance',\n",
       " 'rest cast also play well',\n",
       " 'cinematography noteworthy including fine view barcelona famed gaudi',\n",
       " 'ten minute film started second thought',\n",
       " 'half way film started dislike',\n",
       " 'time film ended disliked despised',\n",
       " 'film lack convincing script',\n",
       " 'script look rough draft written shooting began finished script completed',\n",
       " 'thing happen character change plot twist occur real reason script call',\n",
       " 'cast good',\n",
       " 'worth checking',\n",
       " 'probably irritating show ever seen entire life',\n",
       " 'indescribably annoying idiotic show ever seen',\n",
       " 'everything bad',\n",
       " 'could understand kind idiot would produce mess first place mention several season',\n",
       " 'script bad bad contains cheesiness unethical joke normally see rated r nc movie',\n",
       " 'casting also horrible cause see really really bad actor period',\n",
       " 'final word show real torture',\n",
       " 'zillion time away reality',\n",
       " 'watching washing machine twirling around hurt eye much show',\n",
       " 'rating grade z note show bad even mother cast pull daughter show',\n",
       " 'th century fox road house quite silly noir implausible unmitigated bore movie',\n",
       " 'full unconvincing cardboard character blandly written edward chodorov also produced surprisingly directed jean negulesco one would expect great deal',\n",
       " 'widmark character turn unintentionally comical',\n",
       " 'losing early totally implausible unconvincing',\n",
       " 'enough mess movie picture also marred constant use studio set indoor',\n",
       " 'whatever prompted documentary beyond',\n",
       " 'serious spoiler movie huge disappointment',\n",
       " 'many problem dont know start',\n",
       " 'cast great',\n",
       " 'steve martin delivers really funny performance middle aged upper class uptight white guy',\n",
       " 'add betty white jean smart great cast everyone played part really well',\n",
       " 'movie make lot serious',\n",
       " 'first enough racial racial joke offend everyone',\n",
       " 'movie littered overt racial towards black cast member return white depicted',\n",
       " 'putting race card aside let look major flaw film destroy character',\n",
       " 'real plot',\n",
       " 'wouldnt see movie free',\n",
       " 'steamboat willie amazingly important film cinema history',\n",
       " 'second appearance mickey mouse following silent plane crazy earlier year probably famous film mostly ground breaking',\n",
       " 'yet hear mickey speak sound effect music throughout film something take granted huge crowd pleaser',\n",
       " 'however seeing short year amazed timeless film actually',\n",
       " 'adorable seeing mickey playing turkey straw highly imaginative occasionally cruel way',\n",
       " 'clever real crowd pleaser film still among mickey best film even wonderful year',\n",
       " 'bipolarity ruthless thug one minute ruthless killer next minute diaper commercial completely unconvincing',\n",
       " 'terribly disappointed film would receive many award especially far deserving work film',\n",
       " 'original body soul masterpiece',\n",
       " 'john garfield ann revere lilli plmer william conrad canada lee filmed one greatest ever grace screen james wong howe',\n",
       " 'think redeeming quality remake',\n",
       " 'may bad film ever made',\n",
       " 'bad well bad',\n",
       " 'movie solid example bad plot bad idea way',\n",
       " 'shame see good actor like thomerson james make living mess like',\n",
       " 'thought bad',\n",
       " 'film terrible credit version watchable',\n",
       " 'let start problem acting especially lead professor bad',\n",
       " 'script big flawed mess',\n",
       " 'best example dumb writing established turn zombie student back human removing necklace containing piece meteorite',\n",
       " 'director paul also wrote directed weak monster movie grim clearly know pace film',\n",
       " 'movie terribly boring place',\n",
       " 'lighting awful',\n",
       " 'film look cheap bland',\n",
       " 'one disappointing aspect lack notable gore',\n",
       " 'convention never worked well past certainly work',\n",
       " 'visual effect awful',\n",
       " 'cg opening sequence space looked like could created microsoft slideshow god sake',\n",
       " 'explosion gas end awful',\n",
       " 'okay like consider fair critic give credit credit due creature effect actually pretty cool',\n",
       " 'got love close ups slimy drooling teeth',\n",
       " 'sum film terrible cheaply made horror movie avoided like ebola virus',\n",
       " 'recommended',\n",
       " 'almost unbearable watch screen little charisma terrible comedic timing',\n",
       " 'aside terrible lead film',\n",
       " 'understand supposed cheap popcorn comedy mean completely insult intelligence writing incredibly hackneyed offensive',\n",
       " 'lewis black considerable talent wasted incendiary unrestrained pg rating certainly allow',\n",
       " 'film sole bright spot jonah hill look almost unrecognizable fan recent superbad due amount weight lost interim',\n",
       " 'originality freshness first movie spent remake little else offer',\n",
       " 'budget evidently limited',\n",
       " 'reflected cast also par script borrowed much earlier classic',\n",
       " 'however decent acting action location work balance thing',\n",
       " 'filmiing expansive',\n",
       " 'failed convey broad sweep great part original',\n",
       " 'generally lacked imagination',\n",
       " 'recommended',\n",
       " 'possible movie get worse',\n",
       " 'plot keep going first place',\n",
       " 'even finally show sign improvement expected thing happen time film might far asleep',\n",
       " 'beware trashy cult movie trash period',\n",
       " 'believe even sequel',\n",
       " 'precisely giving bad review',\n",
       " 'child truly enjoyed show proudly say enjoyed big time even classical wb cartoon',\n",
       " 'tiny kept vibe delivered one popular funny underrated cartoon ever created',\n",
       " 'murky say enjoyed every single episode product related show',\n",
       " 'easily none cartoon made laugh tender way getting dark oriented',\n",
       " 'character funny peculiarity true lead character',\n",
       " 'every single character hilarious deserved called lead',\n",
       " 'every element story top excessively phony contrived painful sit',\n",
       " 'line seem written fifteen year old though trying oh hard sound like fifteen year old would really um know well talk',\n",
       " 'perabo nice energy level obviously comfortable front camera',\n",
       " 'simply excuse something poorly done',\n",
       " 'saw movie thought stupid movie',\n",
       " 'even stupid thought idea volcano los angeles',\n",
       " 'honest unbelievable nonsense foolish',\n",
       " 'conclusion bother movie volcano los angeles nothing nonsense',\n",
       " 'story line awful',\n",
       " 'painful',\n",
       " 'absolutely abysmal',\n",
       " 'also enough hypocrisy film make vomit',\n",
       " 'waste time watching rubbish non researched film',\n",
       " 'believe pitch black done well',\n",
       " 'character interesting want find longer movie go think people surprised make',\n",
       " 'go watch',\n",
       " 'omit watching',\n",
       " 'funny',\n",
       " 'rating',\n",
       " 'character interesting really care',\n",
       " 'instant classic great soundtrack catchy song ending credit',\n",
       " 'miss',\n",
       " 'masterful piece film making many theme simmering occasionally boiling study bohemian self indulgent wartime year span aerial london outward tranquillity welsh coastal retreat friendship lust love dedication art experience versus practical jealousy rivalry cowardice egotism versus heroism self sacrifice',\n",
       " 'mature subtle script suggests occasionally brings dramatic focus underlying tension well served perfect performance apart odd inappropriate smiling keira knightley prone though perhaps direction time character often mention',\n",
       " 'exquisite visual composition moment inventive elegant use close camera angle lighting including pointillistic faux home movie footage wonder joy behold',\n",
       " 'continuously beautiful look bertolucci relationship convincing narrative engaging master work',\n",
       " 'basic premise wasted since sidelined inexplicable focus documentary crew',\n",
       " 'regardless film fails level',\n",
       " 'avoid cost',\n",
       " 'saw film christmas great film',\n",
       " 'thought errol flynn brilliant custer since become favourite actor',\n",
       " 'acting alongside olivia de havilland brilliant ending fantastic',\n",
       " 'always known errol flynn brilliant actor favourite actor grew watching film child',\n",
       " 'watched film realised great actually',\n",
       " 'give film',\n",
       " 'know jim energetic nobody could much george well dull',\n",
       " 'really seem want hosting voice monotonous get involved',\n",
       " 'lovely little thriller hitchcock lot nice surrounding murdered spy kidnapped child nasty church foreign plot random',\n",
       " 'jimmy stewart ever great hero hitchcock story along cool climax embassy function lack brooding menace hitchcock black white low budget original',\n",
       " 'nevertheless yet another wonderful film great master stable',\n",
       " 'say film excellently produced top rating typical sci fi film',\n",
       " 'excellently produced one sci fi best producer scot vandiver',\n",
       " 'entertaining nonetheless',\n",
       " 'campy sort film joy watch',\n",
       " 'barely boring moment film plenty humorous part',\n",
       " 'cast always entertaining usual',\n",
       " 'overall delight',\n",
       " 'movie mind bendingly awful even created',\n",
       " 'film lack real scare tension medical terminology used throughout bit iffy say least say insulin dependant diabetic',\n",
       " 'least said acting better',\n",
       " 'movie excellent job revealing complexity task incredible facing south africa',\n",
       " 'believe every one see movie think people outside south africa understand past attempted truth reconciliation process',\n",
       " 'nothing short magnificent photography cinematography film',\n",
       " 'acting fantastic story seamlessly woven together splendid must rent view see',\n",
       " 'afraid worth little aversion therapy',\n",
       " 'excellent performance',\n",
       " 'still good actor around',\n",
       " 'also great directing photography',\n",
       " 'true shakespear must shakespear fan',\n",
       " 'macbeth jason connery moved tear final monolog brief candle gave sphere moral decay dark force human face make interesting',\n",
       " 'helen baxendale credible lady macbeth cheerfull time sometimes look like naughty girl deadly taste blood evil',\n",
       " 'love death decay shakespears one',\n",
       " 'witty delightful adaptation dr seuss book brilliantly animated finest thoroughly deserving academy award',\n",
       " 'special mention made superb music score sound effect integral element helping make memorable enjoyable cartoon',\n",
       " 'however paul schrader indeed made film mishima superb complex',\n",
       " 'also notable john fine crisp beautifully colored cinematography great production design eiko ishioka went memorable coppola dracula received well deserved oscar',\n",
       " 'even allowing poor production value time format kind mini series baaaaaad',\n",
       " 'unless visually collect extant film work skip one',\n",
       " 'watch however small actress playing anne sister wonderful job role',\n",
       " 'good',\n",
       " 'speaking music unbearably predictably kitchy',\n",
       " 'film dropped ball',\n",
       " 'stunning movie',\n",
       " 'raw sublimely moving',\n",
       " 'felt like gripping intelligent stage play without overly theatrical feeling one actually get watching people stage play everyone terror white lie escalating monstrous',\n",
       " 'main player mesmerising',\n",
       " 'tom wilkinson broke heart end everyone else judging amount fumbling hand going face among male female alike',\n",
       " 'julian fellowes triumphed',\n",
       " 'national treasure',\n",
       " 'go see',\n",
       " 'excellent film',\n",
       " 'aerial scene well done',\n",
       " 'also right balance war love',\n",
       " 'film give meaning phrase never history human conflict much owed many',\n",
       " 'kris kristoffersen good movie really make difference',\n",
       " 'good film great director',\n",
       " 'definitely one better documentary seen looking family relationship marriage',\n",
       " 'many continuity one user commented different car garage one got fact facial hair configuration seemed change scene scene',\n",
       " 'great movie',\n",
       " 'star',\n",
       " 'see movie inspiration anyone come overcome fear rejection',\n",
       " 'bad actually worth seeing reason',\n",
       " 'punishment park brilliant piece cinema',\n",
       " 'shot southern california desert using patent faux documentary style watkins creates film like',\n",
       " 'one peter watkins accessible film',\n",
       " 'advise look',\n",
       " 'wont regret',\n",
       " 'highly recommended',\n",
       " 'well keep thinking bad',\n",
       " 'mediocre miserable hollow laughable predictable piece garbage',\n",
       " 'case bad laughable',\n",
       " 'bad performance play angela bennett computer expert home time',\n",
       " 'film nothing pretext show ridiculous action scene',\n",
       " 'awful',\n",
       " 'still bad actress repeating robotic face move picture',\n",
       " 'result well shame',\n",
       " 'delete film mind',\n",
       " 'one worst show time',\n",
       " 'show would begin smart ed comment would totally wall uncalled',\n",
       " 'fat computer geek unbelievable bible thumper bad girl actor',\n",
       " 'never heard except cole totally unbelievable part',\n",
       " 'every time opened mouth expect hear see pulling plug mercy killing horrible show',\n",
       " 'story unbelievable actor',\n",
       " 'lame would best way describe',\n",
       " 'stanwyck morgan perfectly cast many way modern equivalent christmas carol sensibility',\n",
       " 'success film depends casting sydney greenstreet alexander yardley character',\n",
       " 'attractive set used throughout film eye pleasing gem',\n",
       " 'im big fan rpg game movie disgrace self respecting rpger',\n",
       " 'line audio everything wrong',\n",
       " 'find better movie youtube',\n",
       " 'top line waste time money one bad come',\n",
       " 'lassie movie put sleep forever',\n",
       " 'describe painfully dreary time waster film',\n",
       " 'mediocre every aspect becomes dull uninteresting mess one forgettable movie seen',\n",
       " 'even achievement bad good bad memorable movie',\n",
       " 'empty hollow shell movie',\n",
       " 'seriously worth wasting time',\n",
       " 'avoid avoid avoid',\n",
       " 'drive barking mad',\n",
       " 'good',\n",
       " 'nice relaxing late night viewing',\n",
       " 'movie full wonderful dancing hence title',\n",
       " 'great music terrific scenery',\n",
       " 'handle tough issue dignity grace course shocking spoiler',\n",
       " 'happy wonderful feel good ending',\n",
       " 'point journey journey touch every member family',\n",
       " 'one movie need see whenever come tv never mind fact already memorized',\n",
       " 'nothing new',\n",
       " 'done second movie',\n",
       " 'movie almost action scene little comedy',\n",
       " 'plot pair fishnet stocking direction editing astonishingly ham fisted',\n",
       " 'earth film',\n",
       " 'saw film recommend',\n",
       " 'good plot hold complete attention acting superb tom wilkinson fantastic emily watson also good',\n",
       " 'good film indeed great unconditional love',\n",
       " 'tom wilkinson character man prepared ordeal begin take matter hand story great actor give performance make feel character anguish suffering',\n",
       " 'emily watson character strong give quick glance understand everything',\n",
       " 'despite reviewer liked movie',\n",
       " 'fact liked better interview vampire liked lestat stuart townsend better attempt',\n",
       " 'aailiyah pretty good akasha place compelling first entrance mini dance scene',\n",
       " 'big fan series mostly due anne style',\n",
       " 'guess liked dysfunction believable',\n",
       " 'football scene end perplexing',\n",
       " 'thought acting skilled',\n",
       " 'meredith better right',\n",
       " 'charming film wonderful sentiment heart',\n",
       " 'rare film maker take time tell worthy moral tale care love fall trap overly syrupy indulgent',\n",
       " 'nine ten truly lovely film',\n",
       " 'early film future goremeister lucio fulci good addition giallo sub genre',\n",
       " 'one best italian thriller early',\n",
       " 'standout scene',\n",
       " 'scene strong unpleasant',\n",
       " 'technically film well made impressive camera work solid acting effective music riz ortolani particularly good recurring unaccompanied female vocal sound like coming distant hill',\n",
       " 'still wild stuff though highly recommended fan giallo cinema',\n",
       " 'movie interesting beginning end',\n",
       " 'liked way dustin character ready everything stay son',\n",
       " 'movie also revealing',\n",
       " 'personally think show people learn find compromise self without involving people issue',\n",
       " 'boring',\n",
       " 'tired lazy writing come thick fast',\n",
       " 'scene movie cool central character find room blown',\n",
       " 'fresh subtle rather sublime effect',\n",
       " 'italian reviewer called small great film right',\n",
       " 'actor give wonderful performance especially jennifer rubin jamie harris change nervous starlet beginning strange part cool star',\n",
       " 'learn lot real inside emotion people movie lot movie business',\n",
       " 'movie movie situation beginning game played acting coach fascinating',\n",
       " 'also music mark snow possibly best score ever heard',\n",
       " 'forget movie',\n",
       " 'film made',\n",
       " 'film ultra cheap look',\n",
       " 'result film look right',\n",
       " 'none engaging exciting',\n",
       " 'plot nonsense interest slightest way uniqueness',\n",
       " 'foreigner worth one second time',\n",
       " 'saw child tv back stranger loved',\n",
       " 'duet astronaut doctor beginning movie perfect exchange one considers movie made well cold war astronaut biggest fear crashed ussr',\n",
       " 'movie awesome',\n",
       " 'loved really scary',\n",
       " 'love scream movie horror movie one way',\n",
       " 'want real scare rent one',\n",
       " '',\n",
       " 'extraordinary film',\n",
       " 'courtroom drama compelling indictment american justice system frightening',\n",
       " 'film fundamental flaw legal process discovering guilt innocence rather better court',\n",
       " 'film well paced understated one best courtroom documentary seen',\n",
       " 'mostly routine fact based tv drama get boost fine performance cole',\n",
       " 'predictable bad watch',\n",
       " 'clear range ability pull part',\n",
       " 'carry movie well',\n",
       " 'constantine give everything right intensity seems good understanding underlying psychological',\n",
       " 'wonderful inspiring watch hope get released video dvd',\n",
       " 'piece trash ever released beyond acting story character supposedly special effect etc wrong',\n",
       " 'fact stinker like direct video release',\n",
       " 'avoid cost',\n",
       " 'star trek v final frontier worst series',\n",
       " 'acting involved includes like shatner nimoy bad washed making seem old look real life special effect tacky like spock rescue kirk jet pack fall mountain',\n",
       " 'attempt humor pitiful story awful bear thinking basically involves vulcan stealing enterprise find god seriously care film oh mention uhura belly dance distract male',\n",
       " 'place good film garbage',\n",
       " 'worst one series',\n",
       " 'editing editing film phenomenal opinion',\n",
       " 'song could explain emotion subject better jay unfortunate life subject talk song old man neil young played evokes many emotion',\n",
       " 'cinematography film shot interesting way',\n",
       " 'course footage grainy enhanced film',\n",
       " 'film offer many delight',\n",
       " 'achille philippa beautifully sing duet giovanni perfectly describes situation movie appreciate subtle excellent film',\n",
       " 'story unfolds th century jutland use period music played period one fine touch',\n",
       " 'share general exquisite joy partaking cailles en sarcophage even though watching movie wish small sample savor',\n",
       " 'understated film lasting impression',\n",
       " 'warmth generates contrast austere backdrop',\n",
       " 'leave theater wanting go dance star',\n",
       " 'acting expect cast top notch',\n",
       " 'character fleshed surprisingly well particularly blake actor deliver sharply scripted line right amount deadpan tongue cheek make dialogue hilarious realistic',\n",
       " 'angus scrimm also turn good performance somewhat brief memorable role gently menacing violin playing anatomist doctor quinn',\n",
       " 'conclusion loved',\n",
       " 'long time since entertained movie',\n",
       " 'struggle find anything bad say',\n",
       " 'mark word one cult film like evil dead phantasm people still discovering falling love year line',\n",
       " 'pretty surprising wonderful film made hollywood generally collective head sand concerning black white issue time',\n",
       " 'film deserves strong kudos taking stand exceptional acting mostly lesser known cast super intelligent script insult audience take easy way come white racism',\n",
       " 'plus movie rather modest budget fast running time amazing job',\n",
       " 'juano hernandez exceptional actor played supporting role many film era proud black man accused murdering white man south',\n",
       " 'trumbull love lucy',\n",
       " 'see chance open amazing dialog far race relation come last year',\n",
       " 'see film',\n",
       " 'year however reminded u huston still top game evinced faithful adaptation james acclaimed novella dead',\n",
       " 'feeling thought discomfort dance leap life come within grasp huston portrayal',\n",
       " 'disappointed wondered could oscar shortlist',\n",
       " 'slow',\n",
       " 'lot plot nothing became emperor nothing spend year childhood mature age',\n",
       " 'waste time',\n",
       " 'end day one worst big budget action movie ever seen',\n",
       " 'surely know make coherent action movie screenwriter air force one obliged write script big sum money',\n",
       " 'one worst film ever seen',\n",
       " 'still trying get bad',\n",
       " 'movie possibly one creative work horror ever',\n",
       " 'everything could want suspense drama comedy confusing subplots native american brain eating looking end brainsucking movie look',\n",
       " 'great sound effect impressive special effect recommend movie enough',\n",
       " 'call nut think one best movie ever',\n",
       " 'great character actor telly savalas peter boyle',\n",
       " 'hour minute sheer tedium melodrama horrible acting mess script sinking feeling good lord thinking',\n",
       " 'lot script',\n",
       " 'like bad two hour tv movie',\n",
       " 'imagine every single one made wrong',\n",
       " 'dialogue atrocious',\n",
       " 'acting beyond abysmal',\n",
       " 'everything',\n",
       " 'trouble writing directing make impossible establish thing make movie watchable like character story theme',\n",
       " 'worse incredibly weak sub plot thrown follows little band latter day mansonites go reporter working story anniversary killing',\n",
       " 'dumb pointless complete waste time',\n",
       " 'short bother movie',\n",
       " 'spoil ending pretty amazing',\n",
       " 'best scene movie end spoil',\n",
       " 'ever indication writer director ability meld two highly volatile seamless union creativity',\n",
       " 'result powerhouse achievement made timely perhaps culture disturbing fascination celebrity distorted fame',\n",
       " 'film easily forgotten',\n",
       " 'kevin spacey excellent verbal tsunami buddy ackerman totally believable great actor',\n",
       " 'scripting subtle comedy unmatched movie recent year',\n",
       " 'character interesting even bit predictable',\n",
       " 'highly recommended age although younger set probably appreciate subtle certainly appreciate one galley scene particular',\n",
       " 'great movie',\n",
       " 'also story acting weak',\n",
       " 'around pm bought around pm started watch around pm fast forwarded remaining film see anything left watchable human brain',\n",
       " 'either way suck',\n",
       " 'script horrendously stupid',\n",
       " 'story start fast absolutely suspense build slightest',\n",
       " 'everything captain howdy say either laughable plain stupid',\n",
       " 'hell kind crap',\n",
       " 'plot',\n",
       " 'could drive semi truck',\n",
       " 'linda cardellini thing good film',\n",
       " 'poised amazing',\n",
       " 'dee snider plain suck',\n",
       " 'act one least scary villain ever seen write write damn movie sleep',\n",
       " 'bored throughout whole damn thing',\n",
       " 'acting suck music suck script suck pacing suck special fx suck directing suck basically movie suck',\n",
       " 'film try serious sophisticated thriller horror flick fails miserably',\n",
       " 'probably one least effective utterly unoriginal film ever seen entire life',\n",
       " 'piece cinematic garbage captured celluloid',\n",
       " 'avoid cost',\n",
       " 'rate film funny fulci stayed giallo supernatural zombie movie',\n",
       " 'avoid film cost',\n",
       " 'know happened season five mess',\n",
       " 'consistent thread holding series together amazing performance leni parker anita laselva two taelons quiet idealogical conflict',\n",
       " 'movie really dislike',\n",
       " 'one boring horror movie mainly start slow boring atmosphere',\n",
       " 'puppet look really cheesy good way like puppet master flick',\n",
       " 'story lame interesting never really explains sinister puppet',\n",
       " 'death scene like previous movie f x terrible',\n",
       " 'felt asleep first time watched recommend',\n",
       " 'fact film wonderful heartwarming tale two people chasing dream',\n",
       " 'best part nurse betty unpredictability',\n",
       " 'director neil labute us brutal violence seperate dream reality along touching drama hilarious comedy never tell going happen next',\n",
       " 'otherwise even waste time',\n",
       " 'one fails create real suspense',\n",
       " 'killer expect anything original even remotely frightening',\n",
       " 'however pretty good acting least type film',\n",
       " 'sorry really recommend anyone',\n",
       " 'one boring pointless movie ever seen',\n",
       " 'secondary plot line incomprehensible relation primary plot line mystifying',\n",
       " 'hated',\n",
       " 'one worst sandra bullock movie since speed quite bad',\n",
       " 'understand garbage got shelf movie store even real movie',\n",
       " 'highly doubt anyone could ever like trash',\n",
       " 'movie making',\n",
       " 'acting like watching wooden puppet moving around reading book bad',\n",
       " 'warn rent movie dumbest thing never seen',\n",
       " 'saw short film hbo day absolutely loved',\n",
       " 'realize wonderful short really last two scene',\n",
       " 'excellent short film',\n",
       " 'hopefully director james cox turn short feature length film cast win u whole new film',\n",
       " 'agree jessica movie pretty bad',\n",
       " 'character one dimensional even good guy especially bad guy',\n",
       " 'story line totally predictable',\n",
       " 'much dialogue much music whole film shot elaborately aesthetically like sculpture',\n",
       " 'seen soap intelligent movie',\n",
       " 'bad character bad story bad acting',\n",
       " 'really awful',\n",
       " 'easy watch',\n",
       " 'funny clever hip like previous film hype',\n",
       " 'long time see charismatic actor screen',\n",
       " 'paolo sorrentino written wonderful story loneliness tony built one unforgettable character seen movie recent year',\n",
       " 'movie completely perfect di stay long time vision movie',\n",
       " 'rate movie',\n",
       " 'know emilio estevez directorial debut pacing interplay development character well clever camera work surrounding character estevez play suggest natural eye',\n",
       " 'interplay martin emilio contains wonderful chemistry saw wall street martin charlie',\n",
       " 'kathy bates wonderful character subtle desperation escapism variation character play lord',\n",
       " 'already seen one miyazaki film still top form made another worthwhile experience',\n",
       " 'never condescends character good genuine heart believable problem',\n",
       " 'two main character may two believable child ever saw put screen',\n",
       " 'easy love even easy identify',\n",
       " 'movie great especially enjoy visual art',\n",
       " 'scenery two daughter paint photograph beautiful',\n",
       " 'story also funny poignant time',\n",
       " 'people like european film art movie like movie',\n",
       " 'truly art movie actually lot art',\n",
       " 'go rent',\n",
       " 'however finally watching film realized closed mind brilliance depicts also found watching',\n",
       " 'one movie never interest simply keep alert try attempt decipher meaning',\n",
       " 'brilliance indeed',\n",
       " 'liked movie like matrix better yet sequel think appreciate thought provoking mindblowing experience film give',\n",
       " 'think film like dream',\n",
       " 'simply beautiful',\n",
       " 'rickman stowe play role hilt tale book writer maybe written subversive tract',\n",
       " 'gloriously fun fast paced fairly accurate portrayal night raver',\n",
       " 'idyllic yet serious portrayal ups character life',\n",
       " 'whatever avoid groove antithesis good human traffic',\n",
       " 'bad everyone else involved share level dedication quality far better film hand sub par mess',\n",
       " 'movie seemed little slow first',\n",
       " 'picked speed got right point',\n",
       " 'showed exactly government scientist argued humanity reason gadget',\n",
       " 'enjoyed',\n",
       " 'recommended',\n",
       " 'particularly pleased acting ability dwight schultz',\n",
       " 'actor truly understand become particular character delivering convincing sincere performance',\n",
       " 'screen chemistry critical entire film genuine',\n",
       " 'film dialogue natural real life',\n",
       " 'writer gorman bechard undoubtedly homework industry character age appropriate',\n",
       " 'incredible soundtrack truly essence film',\n",
       " 'track sentiment actually contributing scene character',\n",
       " 'definitely worth seeing sort thought provoking film force question threshold loneliness',\n",
       " 'hayao miyazaki latest eighth film studio ghibili gake ue ponyo ponyo cliff sea wonderfully fun imaginative look childhood',\n",
       " 'time seems film animation dominated disney cgi masterpiece refreshing comforting know miyazaki still relying traditional hand drawn animation tell charming enchanting story',\n",
       " 'enough said remarkable animation film',\n",
       " 'art style appearance crayon pencil wonderfully colorful fanciful',\n",
       " 'act film glad drift away earth far possible',\n",
       " 'one want surf small wave space movie deep impact armageddon one fails everywhere',\n",
       " 'choked vomit end cheap drama worthless dialogue must bored death waste time',\n",
       " 'still make super ending depicts great sea vessel taken mighty frost',\n",
       " 'consider excellent story solid acting look film added bonus',\n",
       " 'instead got bore fest whiny spoiled brat babysitting',\n",
       " 'watched two ago march th began really enjoy time taped entire thing',\n",
       " 'well acted done tv movie',\n",
       " 'judith light one favorite actress think superb job film',\n",
       " 'keep watching',\n",
       " 'sad movie good',\n",
       " 'seen movie definitely recommend',\n",
       " 'lovely usual cutie',\n",
       " 'still quite interesting entertaining follow',\n",
       " 'recommend confidence',\n",
       " 'movie well balanced comedy drama thoroughly enjoyed',\n",
       " 'riot see hugo weaving play sex obsessed gay real estate salesman us house flaming darren tom hollander',\n",
       " 'anyway plot flowed smoothly male bonding scene hoot',\n",
       " 'opening sequence gem classic cat n mouse game follow delight watch',\n",
       " 'fan genre heaven',\n",
       " 'lange become great actress',\n",
       " 'looked like wonderful story',\n",
       " 'never walked movie faster',\n",
       " 'got bored watching jessice lange take clothes',\n",
       " 'unfortunately virtue film production work lost regrettable script',\n",
       " 'word embarrassing',\n",
       " 'exceptionally bad',\n",
       " 'insult one intelligence huge waste money']"
      ]
     },
     "execution_count": 25,
     "metadata": {},
     "output_type": "execute_result"
    }
   ],
   "source": [
    "# Output our padded sequence to text\n",
    "\n",
    "to_words = tokenizer.sequences_to_texts(padded_sequence)\n",
    "to_words"
   ]
  },
  {
   "cell_type": "markdown",
   "id": "56b5ba68",
   "metadata": {},
   "source": [
    "#### Padded Sequence Example\n",
    "* Displayed in the two cells above are a padded sequence and the same padded sequence in text form."
   ]
  },
  {
   "cell_type": "markdown",
   "id": "e3bc5260",
   "metadata": {},
   "source": [
    "### B4: Categories of sentiment\n",
    "* Our categories for sentiment are shown below with the chart displayed earlier. 0 represents a negative sentiment, while 1 represents a positive sentiment. The countplot below visualizes this distribution.\n",
    "* The sigmoid activation function was chosen since it is an appropriate choice when dealing with binary classification problems such our sentiment analysis. The cell following the countplot shows the code where the sigmoid activation function is specified in the final dense layer of the model."
   ]
  },
  {
   "cell_type": "code",
   "execution_count": 26,
   "id": "82f0318b",
   "metadata": {
    "scrolled": true
   },
   "outputs": [
    {
     "data": {
      "image/png": "[encoded data removed]",
      "text/plain": [
       "<Figure size 600x400 with 1 Axes>"
      ]
     },
     "metadata": {},
     "output_type": "display_data"
    }
   ],
   "source": [
    "#Plot the value counts\n",
    "# 1 represents a positive sentiment, while 0 represents a negative sentiment\n",
    "\n",
    "\n",
    "plt.figure(figsize=(6, 4))\n",
    "sns.countplot(x='Sentiment', hue='Sentiment', data=description_df)\n",
    "plt.legend(bbox_to_anchor=(1.05, 1), loc='upper left')\n",
    "plt.show()"
   ]
  },
  {
   "cell_type": "code",
   "execution_count": 30,
   "id": "b03546a3",
   "metadata": {
    "scrolled": false
   },
   "outputs": [
    {
     "data": {
      "text/html": [
       "<pre style=\"white-space:pre;overflow-x:auto;line-height:normal;font-family:Menlo,'DejaVu Sans Mono',consolas,'Courier New',monospace\"><span style=\"font-weight: bold\">Model: \"sequential\"</span>\n",
       "</pre>\n"
      ],
      "text/plain": [
       "\u001b[1mModel: \"sequential\"\u001b[0m\n"
      ]
     },
     "metadata": {},
     "output_type": "display_data"
    },
    {
     "data": {
      "text/html": [
       "<pre style=\"white-space:pre;overflow-x:auto;line-height:normal;font-family:Menlo,'DejaVu Sans Mono',consolas,'Courier New',monospace\">┏━━━━━━━━━━━━━━━━━━━━━━━━━━━━━━━━━┳━━━━━━━━━━━━━━━━━━━━━━━━┳━━━━━━━━━━━━━━━┓\n",
       "┃<span style=\"font-weight: bold\"> Layer (type)                    </span>┃<span style=\"font-weight: bold\"> Output Shape           </span>┃<span style=\"font-weight: bold\">       Param # </span>┃\n",
       "┡━━━━━━━━━━━━━━━━━━━━━━━━━━━━━━━━━╇━━━━━━━━━━━━━━━━━━━━━━━━╇━━━━━━━━━━━━━━━┩\n",
       "│ embedding (<span style=\"color: #0087ff; text-decoration-color: #0087ff\">Embedding</span>)           │ (<span style=\"color: #00d7ff; text-decoration-color: #00d7ff\">None</span>, <span style=\"color: #00af00; text-decoration-color: #00af00\">44</span>, <span style=\"color: #00af00; text-decoration-color: #00af00\">44</span>)         │       <span style=\"color: #00af00; text-decoration-color: #00af00\">137,896</span> │\n",
       "├─────────────────────────────────┼────────────────────────┼───────────────┤\n",
       "│ bidirectional (<span style=\"color: #0087ff; text-decoration-color: #0087ff\">Bidirectional</span>)   │ (<span style=\"color: #00d7ff; text-decoration-color: #00d7ff\">None</span>, <span style=\"color: #00af00; text-decoration-color: #00af00\">128</span>)            │        <span style=\"color: #00af00; text-decoration-color: #00af00\">55,808</span> │\n",
       "├─────────────────────────────────┼────────────────────────┼───────────────┤\n",
       "│ dense (<span style=\"color: #0087ff; text-decoration-color: #0087ff\">Dense</span>)                   │ (<span style=\"color: #00d7ff; text-decoration-color: #00d7ff\">None</span>, <span style=\"color: #00af00; text-decoration-color: #00af00\">100</span>)            │        <span style=\"color: #00af00; text-decoration-color: #00af00\">12,900</span> │\n",
       "├─────────────────────────────────┼────────────────────────┼───────────────┤\n",
       "│ dropout (<span style=\"color: #0087ff; text-decoration-color: #0087ff\">Dropout</span>)               │ (<span style=\"color: #00d7ff; text-decoration-color: #00d7ff\">None</span>, <span style=\"color: #00af00; text-decoration-color: #00af00\">100</span>)            │             <span style=\"color: #00af00; text-decoration-color: #00af00\">0</span> │\n",
       "├─────────────────────────────────┼────────────────────────┼───────────────┤\n",
       "│ dense_1 (<span style=\"color: #0087ff; text-decoration-color: #0087ff\">Dense</span>)                 │ (<span style=\"color: #00d7ff; text-decoration-color: #00d7ff\">None</span>, <span style=\"color: #00af00; text-decoration-color: #00af00\">50</span>)             │         <span style=\"color: #00af00; text-decoration-color: #00af00\">5,050</span> │\n",
       "├─────────────────────────────────┼────────────────────────┼───────────────┤\n",
       "│ dense_2 (<span style=\"color: #0087ff; text-decoration-color: #0087ff\">Dense</span>)                 │ (<span style=\"color: #00d7ff; text-decoration-color: #00d7ff\">None</span>, <span style=\"color: #00af00; text-decoration-color: #00af00\">2</span>)              │           <span style=\"color: #00af00; text-decoration-color: #00af00\">102</span> │\n",
       "└─────────────────────────────────┴────────────────────────┴───────────────┘\n",
       "</pre>\n"
      ],
      "text/plain": [
       "┏━━━━━━━━━━━━━━━━━━━━━━━━━━━━━━━━━┳━━━━━━━━━━━━━━━━━━━━━━━━┳━━━━━━━━━━━━━━━┓\n",
       "┃\u001b[1m \u001b[0m\u001b[1mLayer (type)                   \u001b[0m\u001b[1m \u001b[0m┃\u001b[1m \u001b[0m\u001b[1mOutput Shape          \u001b[0m\u001b[1m \u001b[0m┃\u001b[1m \u001b[0m\u001b[1m      Param #\u001b[0m\u001b[1m \u001b[0m┃\n",
       "┡━━━━━━━━━━━━━━━━━━━━━━━━━━━━━━━━━╇━━━━━━━━━━━━━━━━━━━━━━━━╇━━━━━━━━━━━━━━━┩\n",
       "│ embedding (\u001b[38;5;33mEmbedding\u001b[0m)           │ (\u001b[38;5;45mNone\u001b[0m, \u001b[38;5;34m44\u001b[0m, \u001b[38;5;34m44\u001b[0m)         │       \u001b[38;5;34m137,896\u001b[0m │\n",
       "├─────────────────────────────────┼────────────────────────┼───────────────┤\n",
       "│ bidirectional (\u001b[38;5;33mBidirectional\u001b[0m)   │ (\u001b[38;5;45mNone\u001b[0m, \u001b[38;5;34m128\u001b[0m)            │        \u001b[38;5;34m55,808\u001b[0m │\n",
       "├─────────────────────────────────┼────────────────────────┼───────────────┤\n",
       "│ dense (\u001b[38;5;33mDense\u001b[0m)                   │ (\u001b[38;5;45mNone\u001b[0m, \u001b[38;5;34m100\u001b[0m)            │        \u001b[38;5;34m12,900\u001b[0m │\n",
       "├─────────────────────────────────┼────────────────────────┼───────────────┤\n",
       "│ dropout (\u001b[38;5;33mDropout\u001b[0m)               │ (\u001b[38;5;45mNone\u001b[0m, \u001b[38;5;34m100\u001b[0m)            │             \u001b[38;5;34m0\u001b[0m │\n",
       "├─────────────────────────────────┼────────────────────────┼───────────────┤\n",
       "│ dense_1 (\u001b[38;5;33mDense\u001b[0m)                 │ (\u001b[38;5;45mNone\u001b[0m, \u001b[38;5;34m50\u001b[0m)             │         \u001b[38;5;34m5,050\u001b[0m │\n",
       "├─────────────────────────────────┼────────────────────────┼───────────────┤\n",
       "│ dense_2 (\u001b[38;5;33mDense\u001b[0m)                 │ (\u001b[38;5;45mNone\u001b[0m, \u001b[38;5;34m2\u001b[0m)              │           \u001b[38;5;34m102\u001b[0m │\n",
       "└─────────────────────────────────┴────────────────────────┴───────────────┘\n"
      ]
     },
     "metadata": {},
     "output_type": "display_data"
    },
    {
     "data": {
      "text/html": [
       "<pre style=\"white-space:pre;overflow-x:auto;line-height:normal;font-family:Menlo,'DejaVu Sans Mono',consolas,'Courier New',monospace\"><span style=\"font-weight: bold\"> Total params: </span><span style=\"color: #00af00; text-decoration-color: #00af00\">211,756</span> (827.17 KB)\n",
       "</pre>\n"
      ],
      "text/plain": [
       "\u001b[1m Total params: \u001b[0m\u001b[38;5;34m211,756\u001b[0m (827.17 KB)\n"
      ]
     },
     "metadata": {},
     "output_type": "display_data"
    },
    {
     "data": {
      "text/html": [
       "<pre style=\"white-space:pre;overflow-x:auto;line-height:normal;font-family:Menlo,'DejaVu Sans Mono',consolas,'Courier New',monospace\"><span style=\"font-weight: bold\"> Trainable params: </span><span style=\"color: #00af00; text-decoration-color: #00af00\">211,756</span> (827.17 KB)\n",
       "</pre>\n"
      ],
      "text/plain": [
       "\u001b[1m Trainable params: \u001b[0m\u001b[38;5;34m211,756\u001b[0m (827.17 KB)\n"
      ]
     },
     "metadata": {},
     "output_type": "display_data"
    },
    {
     "data": {
      "text/html": [
       "<pre style=\"white-space:pre;overflow-x:auto;line-height:normal;font-family:Menlo,'DejaVu Sans Mono',consolas,'Courier New',monospace\"><span style=\"font-weight: bold\"> Non-trainable params: </span><span style=\"color: #00af00; text-decoration-color: #00af00\">0</span> (0.00 B)\n",
       "</pre>\n"
      ],
      "text/plain": [
       "\u001b[1m Non-trainable params: \u001b[0m\u001b[38;5;34m0\u001b[0m (0.00 B)\n"
      ]
     },
     "metadata": {},
     "output_type": "display_data"
    },
    {
     "name": "stdout",
     "output_type": "stream",
     "text": [
      "Epoch 1/20\n",
      "\u001b[1m8/8\u001b[0m \u001b[32m━━━━━━━━━━━━━━━━━━━━\u001b[0m\u001b[37m\u001b[0m \u001b[1m23s\u001b[0m 658ms/step - accuracy: 0.5163 - loss: 0.6930 - val_accuracy: 0.5100 - val_loss: 0.6930\n",
      "Epoch 2/20\n",
      "\u001b[1m8/8\u001b[0m \u001b[32m━━━━━━━━━━━━━━━━━━━━\u001b[0m\u001b[37m\u001b[0m \u001b[1m3s\u001b[0m 308ms/step - accuracy: 0.6265 - loss: 0.6901 - val_accuracy: 0.5700 - val_loss: 0.6902\n",
      "Epoch 3/20\n",
      "\u001b[1m8/8\u001b[0m \u001b[32m━━━━━━━━━━━━━━━━━━━━\u001b[0m\u001b[37m\u001b[0m \u001b[1m2s\u001b[0m 305ms/step - accuracy: 0.6327 - loss: 0.6800 - val_accuracy: 0.5450 - val_loss: 0.6841\n",
      "Epoch 4/20\n",
      "\u001b[1m8/8\u001b[0m \u001b[32m━━━━━━━━━━━━━━━━━━━━\u001b[0m\u001b[37m\u001b[0m \u001b[1m3s\u001b[0m 336ms/step - accuracy: 0.6979 - loss: 0.6456 - val_accuracy: 0.5850 - val_loss: 0.6704\n",
      "Epoch 5/20\n",
      "\u001b[1m8/8\u001b[0m \u001b[32m━━━━━━━━━━━━━━━━━━━━\u001b[0m\u001b[37m\u001b[0m \u001b[1m3s\u001b[0m 336ms/step - accuracy: 0.7535 - loss: 0.5761 - val_accuracy: 0.6150 - val_loss: 0.6383\n",
      "Epoch 6/20\n",
      "\u001b[1m8/8\u001b[0m \u001b[32m━━━━━━━━━━━━━━━━━━━━\u001b[0m\u001b[37m\u001b[0m \u001b[1m5s\u001b[0m 305ms/step - accuracy: 0.8776 - loss: 0.4339 - val_accuracy: 0.7650 - val_loss: 0.5130\n",
      "Epoch 7/20\n",
      "\u001b[1m8/8\u001b[0m \u001b[32m━━━━━━━━━━━━━━━━━━━━\u001b[0m\u001b[37m\u001b[0m \u001b[1m3s\u001b[0m 315ms/step - accuracy: 0.9422 - loss: 0.2283 - val_accuracy: 0.7900 - val_loss: 0.4628\n",
      "Epoch 8/20\n",
      "\u001b[1m8/8\u001b[0m \u001b[32m━━━━━━━━━━━━━━━━━━━━\u001b[0m\u001b[37m\u001b[0m \u001b[1m2s\u001b[0m 274ms/step - accuracy: 0.9664 - loss: 0.1215 - val_accuracy: 0.7750 - val_loss: 0.5083\n",
      "Epoch 9/20\n",
      "\u001b[1m8/8\u001b[0m \u001b[32m━━━━━━━━━━━━━━━━━━━━\u001b[0m\u001b[37m\u001b[0m \u001b[1m2s\u001b[0m 288ms/step - accuracy: 0.9689 - loss: 0.0796 - val_accuracy: 0.7700 - val_loss: 0.6272\n",
      "Epoch 10/20\n",
      "\u001b[1m8/8\u001b[0m \u001b[32m━━━━━━━━━━━━━━━━━━━━\u001b[0m\u001b[37m\u001b[0m \u001b[1m2s\u001b[0m 290ms/step - accuracy: 0.9751 - loss: 0.0667 - val_accuracy: 0.7850 - val_loss: 0.6990\n"
     ]
    }
   ],
   "source": [
    "# Creating the model. Code is adapted from Dr. Elleh and slightly modified to specify an Input layer and the addition of a Bidirectional LSTM layer\n",
    "\n",
    "#Batch size 100 and epochs set to 20\n",
    "\n",
    "activation = 'sigmoid'\n",
    "loss = 'binary_crossentropy'\n",
    "optimizer = 'adam' \n",
    "num_epochs = 20\n",
    "\n",
    "# Define early stopping monitor and checkpoint\n",
    "early_stop = keras.callbacks.EarlyStopping(monitor='val_loss', patience=3)\n",
    "checkpoint = keras.callbacks.ModelCheckpoint(\"best_model.keras\", save_best_only=True)\n",
    "\n",
    "model = tf.keras.Sequential([\n",
    "    tf.keras.layers.Input(shape=(int(review_max),)), \n",
    "    tf.keras.layers.Embedding(word_count, review_max, input_length=review_max),\n",
    "    tf.keras.layers.Bidirectional(keras.layers.LSTM(64)),\n",
    "    tf.keras.layers.Dense(100, activation='relu'),\n",
    "    tf.keras.layers.Dropout(0.1),\n",
    "    tf.keras.layers.Dense(50, activation='relu'),\n",
    "    tf.keras.layers.Dense(2, activation=activation)\n",
    "])\n",
    "\n",
    "# Compilation of our model. The metric we have chosen is accuracy\n",
    "model.compile(loss=loss,optimizer=optimizer,metrics=['accuracy'])\n",
    "\n",
    "\n",
    "# Summary statistics of our model\n",
    "model.summary()\n",
    "\n",
    "\n",
    "history = model.fit(X_train, y_train, epochs=20, batch_size=100, validation_data=(X_test, y_test), \n",
    "                    callbacks=[early_stop, checkpoint], verbose=True)\n",
    "\n"
   ]
  },
  {
   "cell_type": "markdown",
   "id": "798cb8f4",
   "metadata": {},
   "source": [
    "### B5: Steps to prepare the data\n",
    "* Necessary packages and the beginning dataset were imported\n",
    "* EDA was performed\n",
    "* Data cleaning was performed\n",
    "* Vocabulary size was determined\n",
    "* Proposed word embedding length was determined\n",
    "* Maximum sequence length was determined\n",
    "* Data tokenization\n",
    "* Data padding\n",
    "* Determined the number of categories\n",
    "* Data was split into training and test sets\n",
    "* Train, test, and whole cleaned data sets were saved into individual csv files"
   ]
  },
  {
   "cell_type": "markdown",
   "id": "1f225cc0",
   "metadata": {},
   "source": [
    "### B6: Prepared Data Set\n",
    "* Listed below is the final prepared data set along with individual sets for the train and test sets for both X and y components. Therefore, there are a total of 5 final data sets in csv format."
   ]
  },
  {
   "cell_type": "code",
   "execution_count": 27,
   "id": "9ef765cf",
   "metadata": {},
   "outputs": [],
   "source": [
    "#Split the data into train and test sets. 80:20 split\n",
    "\n",
    "#Define X and y\n",
    "X = padded_sequence\n",
    "\n",
    "# Generate the output labels y\n",
    "y = description_df[['Sentiment']].values\n",
    "\n",
    "# 80:20 train:test split\n",
    "X_train, X_test, y_train, y_test = train_test_split(X, y, test_size = 0.20, random_state = 42)\n",
    "\n"
   ]
  },
  {
   "cell_type": "code",
   "execution_count": 28,
   "id": "1ee8996b-7131-4147-9f83-4202bfeab201",
   "metadata": {},
   "outputs": [],
   "source": [
    "# With y_test and y_train defined, y can be one-hot encoded.\n",
    "\n",
    "from keras.utils import to_categorical\n",
    "\n",
    "y_train = to_categorical(y_train, num_classes=2)\n",
    "y_test = to_categorical(y_test, num_classes=2)"
   ]
  },
  {
   "cell_type": "code",
   "execution_count": 29,
   "id": "9584c036-c6dd-434c-a460-d8f451fdb59d",
   "metadata": {},
   "outputs": [],
   "source": [
    "#Save train and test data to csv:\n",
    "X_train_df = pd.DataFrame(X_train)\n",
    "X_test_df = pd.DataFrame(X_test)\n",
    "y_train_df = pd.DataFrame(y_train)\n",
    "y_test_df = pd.DataFrame(y_test)\n",
    "\n",
    "\n",
    "X_train_df.to_csv('X_train_df.csv', index=False)\n",
    "X_test_df.to_csv('X_test_df.csv', index=False)\n",
    "y_train_df.to_csv('y_train_df.csv', index=False)\n",
    "y_test_df.to_csv('y_test_df.csv', index=False)\n",
    "\n",
    "#Save cleaned df (description_df) to csv\n",
    "description_df = pd.DataFrame(description_df)\n",
    "\n",
    "description_df.to_csv('description_df.csv', index=False)"
   ]
  },
  {
   "cell_type": "markdown",
   "id": "9e889bc1",
   "metadata": {},
   "source": [
    "### C1: Model Summary\n",
    "* Keras/Tensorflow is used to create the model. The code to set the model parameters and instantiate it is displayed below. The model output and its summary is also included. The code below is modified from the one provided by Dr. Elleh in his lectures and presentations (Elleh, n.d.).\n"
   ]
  },
  {
   "cell_type": "markdown",
   "id": "a7cc2333",
   "metadata": {},
   "source": [
    "* As seen in the output below, there are a total of 211,756 parameters. The type of RNN chosen is a sequential model with various layers, including a specified Input Layer, an Embedding Layer, a Bidirectional LSTM Layer, a Dense Layer with relu activation, a Dropout Layer, another Dense Layer with relu activation, and a final Dense Layer with a sigmoid activation layer.\n"
   ]
  },
  {
   "cell_type": "markdown",
   "id": "440d1d60",
   "metadata": {},
   "source": [
    "* Certain portions of code such as those in the LSTM layer and the callbacks have been adapted from a Medium article (Luay, 2023)."
   ]
  },
  {
   "cell_type": "code",
   "execution_count": 30,
   "id": "aa48dce9",
   "metadata": {
    "scrolled": true
   },
   "outputs": [
    {
     "data": {
      "text/html": [
       "<pre style=\"white-space:pre;overflow-x:auto;line-height:normal;font-family:Menlo,'DejaVu Sans Mono',consolas,'Courier New',monospace\"><span style=\"font-weight: bold\">Model: \"sequential\"</span>\n",
       "</pre>\n"
      ],
      "text/plain": [
       "\u001b[1mModel: \"sequential\"\u001b[0m\n"
      ]
     },
     "metadata": {},
     "output_type": "display_data"
    },
    {
     "data": {
      "text/html": [
       "<pre style=\"white-space:pre;overflow-x:auto;line-height:normal;font-family:Menlo,'DejaVu Sans Mono',consolas,'Courier New',monospace\">┏━━━━━━━━━━━━━━━━━━━━━━━━━━━━━━━━━┳━━━━━━━━━━━━━━━━━━━━━━━━┳━━━━━━━━━━━━━━━┓\n",
       "┃<span style=\"font-weight: bold\"> Layer (type)                    </span>┃<span style=\"font-weight: bold\"> Output Shape           </span>┃<span style=\"font-weight: bold\">       Param # </span>┃\n",
       "┡━━━━━━━━━━━━━━━━━━━━━━━━━━━━━━━━━╇━━━━━━━━━━━━━━━━━━━━━━━━╇━━━━━━━━━━━━━━━┩\n",
       "│ embedding (<span style=\"color: #0087ff; text-decoration-color: #0087ff\">Embedding</span>)           │ (<span style=\"color: #00d7ff; text-decoration-color: #00d7ff\">None</span>, <span style=\"color: #00af00; text-decoration-color: #00af00\">44</span>, <span style=\"color: #00af00; text-decoration-color: #00af00\">44</span>)         │       <span style=\"color: #00af00; text-decoration-color: #00af00\">137,896</span> │\n",
       "├─────────────────────────────────┼────────────────────────┼───────────────┤\n",
       "│ bidirectional (<span style=\"color: #0087ff; text-decoration-color: #0087ff\">Bidirectional</span>)   │ (<span style=\"color: #00d7ff; text-decoration-color: #00d7ff\">None</span>, <span style=\"color: #00af00; text-decoration-color: #00af00\">128</span>)            │        <span style=\"color: #00af00; text-decoration-color: #00af00\">55,808</span> │\n",
       "├─────────────────────────────────┼────────────────────────┼───────────────┤\n",
       "│ dense (<span style=\"color: #0087ff; text-decoration-color: #0087ff\">Dense</span>)                   │ (<span style=\"color: #00d7ff; text-decoration-color: #00d7ff\">None</span>, <span style=\"color: #00af00; text-decoration-color: #00af00\">100</span>)            │        <span style=\"color: #00af00; text-decoration-color: #00af00\">12,900</span> │\n",
       "├─────────────────────────────────┼────────────────────────┼───────────────┤\n",
       "│ dropout (<span style=\"color: #0087ff; text-decoration-color: #0087ff\">Dropout</span>)               │ (<span style=\"color: #00d7ff; text-decoration-color: #00d7ff\">None</span>, <span style=\"color: #00af00; text-decoration-color: #00af00\">100</span>)            │             <span style=\"color: #00af00; text-decoration-color: #00af00\">0</span> │\n",
       "├─────────────────────────────────┼────────────────────────┼───────────────┤\n",
       "│ dense_1 (<span style=\"color: #0087ff; text-decoration-color: #0087ff\">Dense</span>)                 │ (<span style=\"color: #00d7ff; text-decoration-color: #00d7ff\">None</span>, <span style=\"color: #00af00; text-decoration-color: #00af00\">50</span>)             │         <span style=\"color: #00af00; text-decoration-color: #00af00\">5,050</span> │\n",
       "├─────────────────────────────────┼────────────────────────┼───────────────┤\n",
       "│ dense_2 (<span style=\"color: #0087ff; text-decoration-color: #0087ff\">Dense</span>)                 │ (<span style=\"color: #00d7ff; text-decoration-color: #00d7ff\">None</span>, <span style=\"color: #00af00; text-decoration-color: #00af00\">2</span>)              │           <span style=\"color: #00af00; text-decoration-color: #00af00\">102</span> │\n",
       "└─────────────────────────────────┴────────────────────────┴───────────────┘\n",
       "</pre>\n"
      ],
      "text/plain": [
       "┏━━━━━━━━━━━━━━━━━━━━━━━━━━━━━━━━━┳━━━━━━━━━━━━━━━━━━━━━━━━┳━━━━━━━━━━━━━━━┓\n",
       "┃\u001b[1m \u001b[0m\u001b[1mLayer (type)                   \u001b[0m\u001b[1m \u001b[0m┃\u001b[1m \u001b[0m\u001b[1mOutput Shape          \u001b[0m\u001b[1m \u001b[0m┃\u001b[1m \u001b[0m\u001b[1m      Param #\u001b[0m\u001b[1m \u001b[0m┃\n",
       "┡━━━━━━━━━━━━━━━━━━━━━━━━━━━━━━━━━╇━━━━━━━━━━━━━━━━━━━━━━━━╇━━━━━━━━━━━━━━━┩\n",
       "│ embedding (\u001b[38;5;33mEmbedding\u001b[0m)           │ (\u001b[38;5;45mNone\u001b[0m, \u001b[38;5;34m44\u001b[0m, \u001b[38;5;34m44\u001b[0m)         │       \u001b[38;5;34m137,896\u001b[0m │\n",
       "├─────────────────────────────────┼────────────────────────┼───────────────┤\n",
       "│ bidirectional (\u001b[38;5;33mBidirectional\u001b[0m)   │ (\u001b[38;5;45mNone\u001b[0m, \u001b[38;5;34m128\u001b[0m)            │        \u001b[38;5;34m55,808\u001b[0m │\n",
       "├─────────────────────────────────┼────────────────────────┼───────────────┤\n",
       "│ dense (\u001b[38;5;33mDense\u001b[0m)                   │ (\u001b[38;5;45mNone\u001b[0m, \u001b[38;5;34m100\u001b[0m)            │        \u001b[38;5;34m12,900\u001b[0m │\n",
       "├─────────────────────────────────┼────────────────────────┼───────────────┤\n",
       "│ dropout (\u001b[38;5;33mDropout\u001b[0m)               │ (\u001b[38;5;45mNone\u001b[0m, \u001b[38;5;34m100\u001b[0m)            │             \u001b[38;5;34m0\u001b[0m │\n",
       "├─────────────────────────────────┼────────────────────────┼───────────────┤\n",
       "│ dense_1 (\u001b[38;5;33mDense\u001b[0m)                 │ (\u001b[38;5;45mNone\u001b[0m, \u001b[38;5;34m50\u001b[0m)             │         \u001b[38;5;34m5,050\u001b[0m │\n",
       "├─────────────────────────────────┼────────────────────────┼───────────────┤\n",
       "│ dense_2 (\u001b[38;5;33mDense\u001b[0m)                 │ (\u001b[38;5;45mNone\u001b[0m, \u001b[38;5;34m2\u001b[0m)              │           \u001b[38;5;34m102\u001b[0m │\n",
       "└─────────────────────────────────┴────────────────────────┴───────────────┘\n"
      ]
     },
     "metadata": {},
     "output_type": "display_data"
    },
    {
     "data": {
      "text/html": [
       "<pre style=\"white-space:pre;overflow-x:auto;line-height:normal;font-family:Menlo,'DejaVu Sans Mono',consolas,'Courier New',monospace\"><span style=\"font-weight: bold\"> Total params: </span><span style=\"color: #00af00; text-decoration-color: #00af00\">211,756</span> (827.17 KB)\n",
       "</pre>\n"
      ],
      "text/plain": [
       "\u001b[1m Total params: \u001b[0m\u001b[38;5;34m211,756\u001b[0m (827.17 KB)\n"
      ]
     },
     "metadata": {},
     "output_type": "display_data"
    },
    {
     "data": {
      "text/html": [
       "<pre style=\"white-space:pre;overflow-x:auto;line-height:normal;font-family:Menlo,'DejaVu Sans Mono',consolas,'Courier New',monospace\"><span style=\"font-weight: bold\"> Trainable params: </span><span style=\"color: #00af00; text-decoration-color: #00af00\">211,756</span> (827.17 KB)\n",
       "</pre>\n"
      ],
      "text/plain": [
       "\u001b[1m Trainable params: \u001b[0m\u001b[38;5;34m211,756\u001b[0m (827.17 KB)\n"
      ]
     },
     "metadata": {},
     "output_type": "display_data"
    },
    {
     "data": {
      "text/html": [
       "<pre style=\"white-space:pre;overflow-x:auto;line-height:normal;font-family:Menlo,'DejaVu Sans Mono',consolas,'Courier New',monospace\"><span style=\"font-weight: bold\"> Non-trainable params: </span><span style=\"color: #00af00; text-decoration-color: #00af00\">0</span> (0.00 B)\n",
       "</pre>\n"
      ],
      "text/plain": [
       "\u001b[1m Non-trainable params: \u001b[0m\u001b[38;5;34m0\u001b[0m (0.00 B)\n"
      ]
     },
     "metadata": {},
     "output_type": "display_data"
    },
    {
     "name": "stdout",
     "output_type": "stream",
     "text": [
      "Epoch 1/20\n",
      "\u001b[1m8/8\u001b[0m \u001b[32m━━━━━━━━━━━━━━━━━━━━\u001b[0m\u001b[37m\u001b[0m \u001b[1m23s\u001b[0m 658ms/step - accuracy: 0.5163 - loss: 0.6930 - val_accuracy: 0.5100 - val_loss: 0.6930\n",
      "Epoch 2/20\n",
      "\u001b[1m8/8\u001b[0m \u001b[32m━━━━━━━━━━━━━━━━━━━━\u001b[0m\u001b[37m\u001b[0m \u001b[1m3s\u001b[0m 308ms/step - accuracy: 0.6265 - loss: 0.6901 - val_accuracy: 0.5700 - val_loss: 0.6902\n",
      "Epoch 3/20\n",
      "\u001b[1m8/8\u001b[0m \u001b[32m━━━━━━━━━━━━━━━━━━━━\u001b[0m\u001b[37m\u001b[0m \u001b[1m2s\u001b[0m 305ms/step - accuracy: 0.6327 - loss: 0.6800 - val_accuracy: 0.5450 - val_loss: 0.6841\n",
      "Epoch 4/20\n",
      "\u001b[1m8/8\u001b[0m \u001b[32m━━━━━━━━━━━━━━━━━━━━\u001b[0m\u001b[37m\u001b[0m \u001b[1m3s\u001b[0m 336ms/step - accuracy: 0.6979 - loss: 0.6456 - val_accuracy: 0.5850 - val_loss: 0.6704\n",
      "Epoch 5/20\n",
      "\u001b[1m8/8\u001b[0m \u001b[32m━━━━━━━━━━━━━━━━━━━━\u001b[0m\u001b[37m\u001b[0m \u001b[1m3s\u001b[0m 336ms/step - accuracy: 0.7535 - loss: 0.5761 - val_accuracy: 0.6150 - val_loss: 0.6383\n",
      "Epoch 6/20\n",
      "\u001b[1m8/8\u001b[0m \u001b[32m━━━━━━━━━━━━━━━━━━━━\u001b[0m\u001b[37m\u001b[0m \u001b[1m5s\u001b[0m 305ms/step - accuracy: 0.8776 - loss: 0.4339 - val_accuracy: 0.7650 - val_loss: 0.5130\n",
      "Epoch 7/20\n",
      "\u001b[1m8/8\u001b[0m \u001b[32m━━━━━━━━━━━━━━━━━━━━\u001b[0m\u001b[37m\u001b[0m \u001b[1m3s\u001b[0m 315ms/step - accuracy: 0.9422 - loss: 0.2283 - val_accuracy: 0.7900 - val_loss: 0.4628\n",
      "Epoch 8/20\n",
      "\u001b[1m8/8\u001b[0m \u001b[32m━━━━━━━━━━━━━━━━━━━━\u001b[0m\u001b[37m\u001b[0m \u001b[1m2s\u001b[0m 274ms/step - accuracy: 0.9664 - loss: 0.1215 - val_accuracy: 0.7750 - val_loss: 0.5083\n",
      "Epoch 9/20\n",
      "\u001b[1m8/8\u001b[0m \u001b[32m━━━━━━━━━━━━━━━━━━━━\u001b[0m\u001b[37m\u001b[0m \u001b[1m2s\u001b[0m 288ms/step - accuracy: 0.9689 - loss: 0.0796 - val_accuracy: 0.7700 - val_loss: 0.6272\n",
      "Epoch 10/20\n",
      "\u001b[1m8/8\u001b[0m \u001b[32m━━━━━━━━━━━━━━━━━━━━\u001b[0m\u001b[37m\u001b[0m \u001b[1m2s\u001b[0m 290ms/step - accuracy: 0.9751 - loss: 0.0667 - val_accuracy: 0.7850 - val_loss: 0.6990\n"
     ]
    }
   ],
   "source": [
    "# Creating the model. Code is adapted from Dr. Elleh and slightly modified to specify an Input layer and the addition of a Bidirectional LSTM layer\n",
    "\n",
    "#Batch size 100 and epochs set to 20\n",
    "\n",
    "activation = 'sigmoid'\n",
    "loss = 'binary_crossentropy'\n",
    "optimizer = 'adam' \n",
    "num_epochs = 20\n",
    "\n",
    "# Define early stopping monitor and checkpoint\n",
    "early_stop = keras.callbacks.EarlyStopping(monitor='val_loss', patience=3)\n",
    "checkpoint = keras.callbacks.ModelCheckpoint(\"best_model.keras\", save_best_only=True)\n",
    "\n",
    "model = tf.keras.Sequential([\n",
    "    tf.keras.layers.Input(shape=(int(review_max),)), \n",
    "    tf.keras.layers.Embedding(word_count, review_max, input_length=review_max),\n",
    "    tf.keras.layers.Bidirectional(keras.layers.LSTM(64)),\n",
    "    tf.keras.layers.Dense(100, activation='relu'),\n",
    "    tf.keras.layers.Dropout(0.1),\n",
    "    tf.keras.layers.Dense(50, activation='relu'),\n",
    "    tf.keras.layers.Dense(2, activation=activation)\n",
    "])\n",
    "\n",
    "# Compilation of our model. The metric we have chosen is accuracy\n",
    "model.compile(loss=loss,optimizer=optimizer,metrics=['accuracy'])\n",
    "\n",
    "\n",
    "# Summary statistics of our model\n",
    "model.summary()\n",
    "\n",
    "\n",
    "history = model.fit(X_train, y_train, epochs=20, batch_size=100, validation_data=(X_test, y_test), \n",
    "                    callbacks=[early_stop, checkpoint], verbose=True)\n",
    "\n"
   ]
  },
  {
   "cell_type": "markdown",
   "id": "809222c3",
   "metadata": {},
   "source": [
    "### C2: Network Architecture: \n",
    "\n",
    "#### There are 6 layers that compose the network \n",
    "\n",
    "\n",
    "* Layer 1: Embedding parameters:  137,896\n",
    "\n",
    "* Layer 2: Bidirectional parameters: 55,808\n",
    "\n",
    "* Layer 3: Dense parameters: 12,900\n",
    "\n",
    "* Layer 4: Dropout parameters: 0\n",
    "\n",
    "* Layer 5: Dense parameters: 5,050\n",
    "\n",
    "* Layer 6: Dense parameters: 102\n",
    "\n",
    "#### There are a total number of 211,756 parameters, which are all trainable."
   ]
  },
  {
   "cell_type": "markdown",
   "id": "83b42ef9",
   "metadata": {},
   "source": [
    "### C3: Hyperparameters"
   ]
  },
  {
   "cell_type": "markdown",
   "id": "ff0f4de0",
   "metadata": {},
   "source": [
    "#### C3a: Activation functions\n",
    "* Sigmoid was chosen for our activation function since it is best suited for binary data"
   ]
  },
  {
   "cell_type": "markdown",
   "id": "eec56250",
   "metadata": {},
   "source": [
    "#### C3b: Number of nodes per layer\n",
    "* There are 4 layers that contain nodes. The first layer containing nodes is a Bidirectional LSTM Layer containing 64 units por nodes. The first of the Dense Layers contains 100 nodes, the second has 50 nodes, and the third contains 2 nodes. "
   ]
  },
  {
   "cell_type": "markdown",
   "id": "f880bb68",
   "metadata": {},
   "source": [
    "#### C3c: Loss function\n",
    "* Sentiment values being binary led me to choose binary crossentropy as the best loss function."
   ]
  },
  {
   "cell_type": "markdown",
   "id": "a6eb4429",
   "metadata": {},
   "source": [
    "#### C3d: Optimizer\n",
    "* Adam is commonly used as the optimization algorithm due to its efficiency and ease of implementation."
   ]
  },
  {
   "cell_type": "markdown",
   "id": "2623f22e",
   "metadata": {},
   "source": [
    "#### C3e: Stopping criteria\n",
    "* Stopping criteria is employed so that overfitting does not occur on the training set. This can lead to high training accuracy but low test accuracy. The patience was set to 3 so that the model will not exceed running 3 times without a noticeable improvement to the model. Training will stop if there is no model improvement within the set limit discussed prior."
   ]
  },
  {
   "cell_type": "markdown",
   "id": "1810b3a1",
   "metadata": {},
   "source": [
    "#### C3f: Evaluation metric\n",
    "* The model accuracy is calculated with the code below. I have calculated the accuracies for both the training and test sets."
   ]
  },
  {
   "cell_type": "code",
   "execution_count": 31,
   "id": "7c9379c7",
   "metadata": {
    "scrolled": true
   },
   "outputs": [
    {
     "name": "stdout",
     "output_type": "stream",
     "text": [
      "Test accuracy: {0.7850000262260437}\n"
     ]
    }
   ],
   "source": [
    "# Model accuracy - test data: \n",
    "score = model.evaluate(X_test, y_test, verbose=0)\n",
    "print('Test accuracy:', {score[1]})"
   ]
  },
  {
   "cell_type": "code",
   "execution_count": 32,
   "id": "8df98498",
   "metadata": {},
   "outputs": [
    {
     "name": "stdout",
     "output_type": "stream",
     "text": [
      "Train accuracy: {0.987500011920929}\n"
     ]
    }
   ],
   "source": [
    "# For comparison, model accuracy of the train data:  \n",
    "score = model.evaluate(X_train, y_train, verbose=0)\n",
    "print('Train accuracy:', {score[1]})"
   ]
  },
  {
   "cell_type": "markdown",
   "id": "01c39050",
   "metadata": {},
   "source": [
    "### D1: Stopping Criteria\n",
    "* Establishing stopping criteria helps to prevent overfitting. The stopping criteria is set to 3. Therefore, the model will not run past 3 consecutive times if there is no observed improvement. The parameter for epochs has been set to 20, therefore, the model will run for 20 iterations before stopping. However, this maximum number of 20 may not be hit if the stopping criteria is met first, since that is given precedence over the number of epochs set. \n"
   ]
  },
  {
   "cell_type": "markdown",
   "id": "67edff42",
   "metadata": {},
   "source": [
    "### D2: Fitness\n",
    "* The model fitness was based on the chosen criteria of accuracy. Model accuracy for both the train and test sets were computed with the following code in the cells below. As previously mentioned, we established stopping criteria, which helps to prevent overfitting. The stopping criteria is set to 3. Therefore, the model will not run past 3 consecutive times if there is no observed improvement. The parameter for epochs has been set to 20, therefore, the model will run for 20 iterations before stopping. However, this maximum number of 20 may not be hit if the stopping criteria is met first, since that is given precedence over the number of epochs set.\n",
    "* Additionally, I incorporated a Dropout Layer. I specified a Dropout of 0.1, meaning 10% of the neurons are randomly turned off. This means they don’t contribute to the forward and backward passes for that particular batch. This layer prevents the model from relying too heavily on any specific neuron, promoting a more distributed and collaborative effort among neurons. It also introduces noise during training, discouraging any neuron from fitting too closely to the training data. \n"
   ]
  },
  {
   "cell_type": "markdown",
   "id": "8f8229d5",
   "metadata": {},
   "source": [
    "* Most specifically, our model fitness was assessed on its test accuracy as seen below. The train accuracy has been included for comparison purposes"
   ]
  },
  {
   "cell_type": "code",
   "execution_count": 33,
   "id": "1ee2e2ac",
   "metadata": {},
   "outputs": [
    {
     "name": "stdout",
     "output_type": "stream",
     "text": [
      "Test accuracy: {0.7850000262260437}\n"
     ]
    }
   ],
   "source": [
    "# Model accuracy - test data: \n",
    "score = model.evaluate(X_test, y_test, verbose=0)\n",
    "print('Test accuracy:', {score[1]})"
   ]
  },
  {
   "cell_type": "code",
   "execution_count": 34,
   "id": "28fd01cf",
   "metadata": {},
   "outputs": [
    {
     "name": "stdout",
     "output_type": "stream",
     "text": [
      "Train accuracy: {0.987500011920929}\n"
     ]
    }
   ],
   "source": [
    "# For comparison, model accuracy of the train data:  \n",
    "score = model.evaluate(X_train, y_train, verbose=0)\n",
    "print('Train accuracy:', {score[1]})"
   ]
  },
  {
   "cell_type": "markdown",
   "id": "acc2206e",
   "metadata": {},
   "source": [
    "### D3: Training Process\n",
    "* Keras/Tensorflow was used to create the model. The code to set the model parameters and instantiate it is displayed in Section C1\n",
    "* Separate history graphs have been generated to show the model accuracy and loss\n"
   ]
  },
  {
   "cell_type": "code",
   "execution_count": 30,
   "id": "c79ae158",
   "metadata": {
    "scrolled": true
   },
   "outputs": [
    {
     "data": {
      "text/html": [
       "<pre style=\"white-space:pre;overflow-x:auto;line-height:normal;font-family:Menlo,'DejaVu Sans Mono',consolas,'Courier New',monospace\"><span style=\"font-weight: bold\">Model: \"sequential\"</span>\n",
       "</pre>\n"
      ],
      "text/plain": [
       "\u001b[1mModel: \"sequential\"\u001b[0m\n"
      ]
     },
     "metadata": {},
     "output_type": "display_data"
    },
    {
     "data": {
      "text/html": [
       "<pre style=\"white-space:pre;overflow-x:auto;line-height:normal;font-family:Menlo,'DejaVu Sans Mono',consolas,'Courier New',monospace\">┏━━━━━━━━━━━━━━━━━━━━━━━━━━━━━━━━━┳━━━━━━━━━━━━━━━━━━━━━━━━┳━━━━━━━━━━━━━━━┓\n",
       "┃<span style=\"font-weight: bold\"> Layer (type)                    </span>┃<span style=\"font-weight: bold\"> Output Shape           </span>┃<span style=\"font-weight: bold\">       Param # </span>┃\n",
       "┡━━━━━━━━━━━━━━━━━━━━━━━━━━━━━━━━━╇━━━━━━━━━━━━━━━━━━━━━━━━╇━━━━━━━━━━━━━━━┩\n",
       "│ embedding (<span style=\"color: #0087ff; text-decoration-color: #0087ff\">Embedding</span>)           │ (<span style=\"color: #00d7ff; text-decoration-color: #00d7ff\">None</span>, <span style=\"color: #00af00; text-decoration-color: #00af00\">44</span>, <span style=\"color: #00af00; text-decoration-color: #00af00\">44</span>)         │       <span style=\"color: #00af00; text-decoration-color: #00af00\">137,896</span> │\n",
       "├─────────────────────────────────┼────────────────────────┼───────────────┤\n",
       "│ bidirectional (<span style=\"color: #0087ff; text-decoration-color: #0087ff\">Bidirectional</span>)   │ (<span style=\"color: #00d7ff; text-decoration-color: #00d7ff\">None</span>, <span style=\"color: #00af00; text-decoration-color: #00af00\">128</span>)            │        <span style=\"color: #00af00; text-decoration-color: #00af00\">55,808</span> │\n",
       "├─────────────────────────────────┼────────────────────────┼───────────────┤\n",
       "│ dense (<span style=\"color: #0087ff; text-decoration-color: #0087ff\">Dense</span>)                   │ (<span style=\"color: #00d7ff; text-decoration-color: #00d7ff\">None</span>, <span style=\"color: #00af00; text-decoration-color: #00af00\">100</span>)            │        <span style=\"color: #00af00; text-decoration-color: #00af00\">12,900</span> │\n",
       "├─────────────────────────────────┼────────────────────────┼───────────────┤\n",
       "│ dropout (<span style=\"color: #0087ff; text-decoration-color: #0087ff\">Dropout</span>)               │ (<span style=\"color: #00d7ff; text-decoration-color: #00d7ff\">None</span>, <span style=\"color: #00af00; text-decoration-color: #00af00\">100</span>)            │             <span style=\"color: #00af00; text-decoration-color: #00af00\">0</span> │\n",
       "├─────────────────────────────────┼────────────────────────┼───────────────┤\n",
       "│ dense_1 (<span style=\"color: #0087ff; text-decoration-color: #0087ff\">Dense</span>)                 │ (<span style=\"color: #00d7ff; text-decoration-color: #00d7ff\">None</span>, <span style=\"color: #00af00; text-decoration-color: #00af00\">50</span>)             │         <span style=\"color: #00af00; text-decoration-color: #00af00\">5,050</span> │\n",
       "├─────────────────────────────────┼────────────────────────┼───────────────┤\n",
       "│ dense_2 (<span style=\"color: #0087ff; text-decoration-color: #0087ff\">Dense</span>)                 │ (<span style=\"color: #00d7ff; text-decoration-color: #00d7ff\">None</span>, <span style=\"color: #00af00; text-decoration-color: #00af00\">2</span>)              │           <span style=\"color: #00af00; text-decoration-color: #00af00\">102</span> │\n",
       "└─────────────────────────────────┴────────────────────────┴───────────────┘\n",
       "</pre>\n"
      ],
      "text/plain": [
       "┏━━━━━━━━━━━━━━━━━━━━━━━━━━━━━━━━━┳━━━━━━━━━━━━━━━━━━━━━━━━┳━━━━━━━━━━━━━━━┓\n",
       "┃\u001b[1m \u001b[0m\u001b[1mLayer (type)                   \u001b[0m\u001b[1m \u001b[0m┃\u001b[1m \u001b[0m\u001b[1mOutput Shape          \u001b[0m\u001b[1m \u001b[0m┃\u001b[1m \u001b[0m\u001b[1m      Param #\u001b[0m\u001b[1m \u001b[0m┃\n",
       "┡━━━━━━━━━━━━━━━━━━━━━━━━━━━━━━━━━╇━━━━━━━━━━━━━━━━━━━━━━━━╇━━━━━━━━━━━━━━━┩\n",
       "│ embedding (\u001b[38;5;33mEmbedding\u001b[0m)           │ (\u001b[38;5;45mNone\u001b[0m, \u001b[38;5;34m44\u001b[0m, \u001b[38;5;34m44\u001b[0m)         │       \u001b[38;5;34m137,896\u001b[0m │\n",
       "├─────────────────────────────────┼────────────────────────┼───────────────┤\n",
       "│ bidirectional (\u001b[38;5;33mBidirectional\u001b[0m)   │ (\u001b[38;5;45mNone\u001b[0m, \u001b[38;5;34m128\u001b[0m)            │        \u001b[38;5;34m55,808\u001b[0m │\n",
       "├─────────────────────────────────┼────────────────────────┼───────────────┤\n",
       "│ dense (\u001b[38;5;33mDense\u001b[0m)                   │ (\u001b[38;5;45mNone\u001b[0m, \u001b[38;5;34m100\u001b[0m)            │        \u001b[38;5;34m12,900\u001b[0m │\n",
       "├─────────────────────────────────┼────────────────────────┼───────────────┤\n",
       "│ dropout (\u001b[38;5;33mDropout\u001b[0m)               │ (\u001b[38;5;45mNone\u001b[0m, \u001b[38;5;34m100\u001b[0m)            │             \u001b[38;5;34m0\u001b[0m │\n",
       "├─────────────────────────────────┼────────────────────────┼───────────────┤\n",
       "│ dense_1 (\u001b[38;5;33mDense\u001b[0m)                 │ (\u001b[38;5;45mNone\u001b[0m, \u001b[38;5;34m50\u001b[0m)             │         \u001b[38;5;34m5,050\u001b[0m │\n",
       "├─────────────────────────────────┼────────────────────────┼───────────────┤\n",
       "│ dense_2 (\u001b[38;5;33mDense\u001b[0m)                 │ (\u001b[38;5;45mNone\u001b[0m, \u001b[38;5;34m2\u001b[0m)              │           \u001b[38;5;34m102\u001b[0m │\n",
       "└─────────────────────────────────┴────────────────────────┴───────────────┘\n"
      ]
     },
     "metadata": {},
     "output_type": "display_data"
    },
    {
     "data": {
      "text/html": [
       "<pre style=\"white-space:pre;overflow-x:auto;line-height:normal;font-family:Menlo,'DejaVu Sans Mono',consolas,'Courier New',monospace\"><span style=\"font-weight: bold\"> Total params: </span><span style=\"color: #00af00; text-decoration-color: #00af00\">211,756</span> (827.17 KB)\n",
       "</pre>\n"
      ],
      "text/plain": [
       "\u001b[1m Total params: \u001b[0m\u001b[38;5;34m211,756\u001b[0m (827.17 KB)\n"
      ]
     },
     "metadata": {},
     "output_type": "display_data"
    },
    {
     "data": {
      "text/html": [
       "<pre style=\"white-space:pre;overflow-x:auto;line-height:normal;font-family:Menlo,'DejaVu Sans Mono',consolas,'Courier New',monospace\"><span style=\"font-weight: bold\"> Trainable params: </span><span style=\"color: #00af00; text-decoration-color: #00af00\">211,756</span> (827.17 KB)\n",
       "</pre>\n"
      ],
      "text/plain": [
       "\u001b[1m Trainable params: \u001b[0m\u001b[38;5;34m211,756\u001b[0m (827.17 KB)\n"
      ]
     },
     "metadata": {},
     "output_type": "display_data"
    },
    {
     "data": {
      "text/html": [
       "<pre style=\"white-space:pre;overflow-x:auto;line-height:normal;font-family:Menlo,'DejaVu Sans Mono',consolas,'Courier New',monospace\"><span style=\"font-weight: bold\"> Non-trainable params: </span><span style=\"color: #00af00; text-decoration-color: #00af00\">0</span> (0.00 B)\n",
       "</pre>\n"
      ],
      "text/plain": [
       "\u001b[1m Non-trainable params: \u001b[0m\u001b[38;5;34m0\u001b[0m (0.00 B)\n"
      ]
     },
     "metadata": {},
     "output_type": "display_data"
    },
    {
     "name": "stdout",
     "output_type": "stream",
     "text": [
      "Epoch 1/20\n",
      "\u001b[1m8/8\u001b[0m \u001b[32m━━━━━━━━━━━━━━━━━━━━\u001b[0m\u001b[37m\u001b[0m \u001b[1m23s\u001b[0m 658ms/step - accuracy: 0.5163 - loss: 0.6930 - val_accuracy: 0.5100 - val_loss: 0.6930\n",
      "Epoch 2/20\n",
      "\u001b[1m8/8\u001b[0m \u001b[32m━━━━━━━━━━━━━━━━━━━━\u001b[0m\u001b[37m\u001b[0m \u001b[1m3s\u001b[0m 308ms/step - accuracy: 0.6265 - loss: 0.6901 - val_accuracy: 0.5700 - val_loss: 0.6902\n",
      "Epoch 3/20\n",
      "\u001b[1m8/8\u001b[0m \u001b[32m━━━━━━━━━━━━━━━━━━━━\u001b[0m\u001b[37m\u001b[0m \u001b[1m2s\u001b[0m 305ms/step - accuracy: 0.6327 - loss: 0.6800 - val_accuracy: 0.5450 - val_loss: 0.6841\n",
      "Epoch 4/20\n",
      "\u001b[1m8/8\u001b[0m \u001b[32m━━━━━━━━━━━━━━━━━━━━\u001b[0m\u001b[37m\u001b[0m \u001b[1m3s\u001b[0m 336ms/step - accuracy: 0.6979 - loss: 0.6456 - val_accuracy: 0.5850 - val_loss: 0.6704\n",
      "Epoch 5/20\n",
      "\u001b[1m8/8\u001b[0m \u001b[32m━━━━━━━━━━━━━━━━━━━━\u001b[0m\u001b[37m\u001b[0m \u001b[1m3s\u001b[0m 336ms/step - accuracy: 0.7535 - loss: 0.5761 - val_accuracy: 0.6150 - val_loss: 0.6383\n",
      "Epoch 6/20\n",
      "\u001b[1m8/8\u001b[0m \u001b[32m━━━━━━━━━━━━━━━━━━━━\u001b[0m\u001b[37m\u001b[0m \u001b[1m5s\u001b[0m 305ms/step - accuracy: 0.8776 - loss: 0.4339 - val_accuracy: 0.7650 - val_loss: 0.5130\n",
      "Epoch 7/20\n",
      "\u001b[1m8/8\u001b[0m \u001b[32m━━━━━━━━━━━━━━━━━━━━\u001b[0m\u001b[37m\u001b[0m \u001b[1m3s\u001b[0m 315ms/step - accuracy: 0.9422 - loss: 0.2283 - val_accuracy: 0.7900 - val_loss: 0.4628\n",
      "Epoch 8/20\n",
      "\u001b[1m8/8\u001b[0m \u001b[32m━━━━━━━━━━━━━━━━━━━━\u001b[0m\u001b[37m\u001b[0m \u001b[1m2s\u001b[0m 274ms/step - accuracy: 0.9664 - loss: 0.1215 - val_accuracy: 0.7750 - val_loss: 0.5083\n",
      "Epoch 9/20\n",
      "\u001b[1m8/8\u001b[0m \u001b[32m━━━━━━━━━━━━━━━━━━━━\u001b[0m\u001b[37m\u001b[0m \u001b[1m2s\u001b[0m 288ms/step - accuracy: 0.9689 - loss: 0.0796 - val_accuracy: 0.7700 - val_loss: 0.6272\n",
      "Epoch 10/20\n",
      "\u001b[1m8/8\u001b[0m \u001b[32m━━━━━━━━━━━━━━━━━━━━\u001b[0m\u001b[37m\u001b[0m \u001b[1m2s\u001b[0m 290ms/step - accuracy: 0.9751 - loss: 0.0667 - val_accuracy: 0.7850 - val_loss: 0.6990\n"
     ]
    }
   ],
   "source": [
    "# This is the exact same code used in section C1\n",
    "\n",
    "\n",
    "#Batch size 100 and epochs set to 20\n",
    "\n",
    "activation = 'sigmoid'\n",
    "loss = 'binary_crossentropy'\n",
    "optimizer = 'adam' \n",
    "num_epochs = 20\n",
    "\n",
    "# Define early stopping monitor and checkpoint\n",
    "early_stop = keras.callbacks.EarlyStopping(monitor='val_loss', patience=3)\n",
    "checkpoint = keras.callbacks.ModelCheckpoint(\"best_model.keras\", save_best_only=True)\n",
    "\n",
    "model = tf.keras.Sequential([\n",
    "    tf.keras.layers.Input(shape=(int(review_max),)), \n",
    "    tf.keras.layers.Embedding(word_count, review_max, input_length=review_max),\n",
    "    tf.keras.layers.Bidirectional(keras.layers.LSTM(64)),\n",
    "    tf.keras.layers.Dense(100, activation='relu'),\n",
    "    tf.keras.layers.Dropout(0.1),\n",
    "    tf.keras.layers.Dense(50, activation='relu'),\n",
    "    tf.keras.layers.Dense(2, activation=activation)\n",
    "])\n",
    "\n",
    "# Compilation of our model. The metric we have chosen is accuracy\n",
    "model.compile(loss=loss,optimizer=optimizer,metrics=['accuracy'])\n",
    "\n",
    "\n",
    "# Summary statistics of our model\n",
    "model.summary()\n",
    "\n",
    "\n",
    "history = model.fit(X_train, y_train, epochs=20, batch_size=100, validation_data=(X_test, y_test), \n",
    "                    callbacks=[early_stop, checkpoint], verbose=True)\n",
    "\n"
   ]
  },
  {
   "cell_type": "markdown",
   "id": "097ccd56",
   "metadata": {},
   "source": [
    "* The following code for both accuracy and loss plots was adapted from the Sentiment Analysis Presentation provided by WGU (WGU, n.d.)."
   ]
  },
  {
   "cell_type": "markdown",
   "id": "78d57574",
   "metadata": {},
   "source": [
    "#### Plot of Accuracy & Plot of Loss"
   ]
  },
  {
   "cell_type": "code",
   "execution_count": 36,
   "id": "3a0edb74",
   "metadata": {},
   "outputs": [
    {
     "data": {
      "image/png": "[encoded data removed]",
      "text/plain": [
       "<Figure size 1000x500 with 2 Axes>"
      ]
     },
     "metadata": {},
     "output_type": "display_data"
    }
   ],
   "source": [
    "\n",
    "# Plotting the history \n",
    "metrics = history.history \n",
    "plt.figure(figsize=(10, 5)) \n",
    "\n",
    "# Plotting training and validation loss \n",
    "plt.subplot(1, 2, 1) \n",
    "plt.plot(history.epoch, metrics['loss'], metrics['val_loss']) \n",
    "plt.legend(['loss', 'val_loss']) \n",
    "plt.xlabel('Epoch') \n",
    "plt.ylabel('Loss') \n",
    "\n",
    "# Plotting training and validation accuracy \n",
    "plt.subplot(1, 2, 2) \n",
    "plt.plot(history.epoch, metrics['accuracy'], \n",
    "metrics['val_accuracy']) \n",
    "plt.legend(['accuracy', 'val_accuracy']) \n",
    "plt.xlabel('Epoch') \n",
    "plt.ylabel('Accuracy')\n",
    "\n",
    "plt.show()"
   ]
  },
  {
   "cell_type": "markdown",
   "id": "5b8aa003",
   "metadata": {},
   "source": [
    "### D4: Predictive Accuracy\n",
    "* The model's predictive accuracy is its calculated test accuracy, which is 0.785. This means that about 78.5% of the time, the model can predict whether a customer movie review is conveying a positive or negative sentiment,"
   ]
  },
  {
   "cell_type": "code",
   "execution_count": 37,
   "id": "437167f7",
   "metadata": {
    "scrolled": true
   },
   "outputs": [
    {
     "name": "stdout",
     "output_type": "stream",
     "text": [
      "Test accuracy: {0.7850000262260437}\n"
     ]
    }
   ],
   "source": [
    "# Model accuracy - test data: \n",
    "score = model.evaluate(X_test, y_test, verbose=0)\n",
    "print('Test accuracy:', {score[1]})"
   ]
  },
  {
   "cell_type": "markdown",
   "id": "517da183",
   "metadata": {},
   "source": [
    "### E: Code\n",
    "* The following code is used to saved the trained network within the neural network.\n"
   ]
  },
  {
   "cell_type": "code",
   "execution_count": 38,
   "id": "d7f07474",
   "metadata": {
    "scrolled": true
   },
   "outputs": [],
   "source": [
    "model.save('SentimentAnalysisModel.keras')"
   ]
  },
  {
   "cell_type": "markdown",
   "id": "ec45f9e2",
   "metadata": {},
   "source": [
    "### F: Functionality\n",
    "* This dataset used to create this model is composed of 1,000 rows of film reviews. The model was trained on 80% of the overall dataset and tested on the remaining 20%. The constructed model was able to predict sentiment with an accuracy of about 98.8% on the train set and about 78.5% on the test set. The overall neural network architecture as well as the chosen set of hyperparameters contributed to these scores. \n",
    "* Subjectively, I believe that the neural network is moderately effective at performing the sentiment analysis that I tasked it with, achieving an accuracy of about 78.5% on the test set. However, the loss value of the best model is quite high, around  0.6990. This is an indication that the correctness of its predictions does not have high confidence. Further optimization is certainly possible to increase the accuracies but is beyond the scope of this assigment. Ultimately, I can conclude that the current model provides for a successful sentiment analysis.\n",
    "\n"
   ]
  },
  {
   "cell_type": "markdown",
   "id": "a07c6edb",
   "metadata": {},
   "source": [
    "### G: Recommendations\n",
    "* Based on our research question, yes, we  can use this model to discern whether sentiments based on movie reviews are positive or negative. However, our rather high loss value of 0.6990 mentioned prior might lead to poor precision. \n",
    "* Our current model is essentially one with moderate/high accuracy but low precision. I suggest that improving the training set and optimizing the parameters of the model and even experimenting with different model variations would certainly provide models with high/higher accuracy and lower loss values/higher precision. Additionally, a larger dataset to train the model on would prove beneficial since our working set of 1000 observations is still quite small in comparison to other sets frequently used in real-life scenarios. Overall, I think that this model is a good starting point and is feasible enough to be implemented on other test sets.  "
   ]
  },
  {
   "cell_type": "markdown",
   "id": "f505a28e",
   "metadata": {},
   "source": [
    "### H: Reporting\n",
    "* This report in its entirety will be attached in its original .ipynb form and as a .pdf file"
   ]
  },
  {
   "cell_type": "markdown",
   "id": "ad67ab06",
   "metadata": {},
   "source": [
    "### I: Sources for Third-Party Code \n",
    "* D213 Sentiment Analysis Presentation _ 3_default_da1cc82b [Webinar]. WGU. https://wgu.hosted.panopto.com/Panopto/Pages/Viewer.aspx?id=fe172002-6cbb-40c0-92a3-b07d01025504\n",
    "* Elleh, F. D213 Task 2 Cohort Webinar [PowerPoint Slides].\n",
    "* GeeksforGeeks. (2025, February 27). Training of recurrent neural networks (RNN) in tensorflow. https://www.geeksforgeeks.org/training-of-recurrent-neural-networks-rnn-in-tensorflow/ \n",
    "* Luay, M. (2023, September 22). Sentiment analysis using recurrent neural network(rnn),long short term memory(lstm) and... Medium. https://medium.com/@muhammadluay45/sentiment-analysis-using-recurrent-neural-network-rnn-long-short-term-memory-lstm-and-38d6e670173f "
   ]
  },
  {
   "cell_type": "markdown",
   "id": "b415d4a7",
   "metadata": {},
   "source": [
    "### J: Sources\n",
    "* Al-Ma’arif, Q. (2024, January 21). Sentiment Analysis in action: A case study with movie reviews using NLP techniques. Medium. https://medium.com/@datailm/sentiment-analysis-in-action-a-case-study-with-movie-reviews-using-nlp-techniques-52f7fe26206d \n",
    "* Asomani, K. (2023, August 1). Movie Review Sentimental Classification with recurrent neural network in TENSORFLOW. Medium. https://medium.com/@kwasiasomani85/movie-review-sentimental-classification-with-recurrent-neural-network-in-tensorflow-3c0ce1c1fea6 \n",
    "* Elleh, F. D213 Task 2 Cohort Webinar [PowerPoint Slides].\n"
   ]
  }
 ],
 "metadata": {
  "kernelspec": {
   "display_name": "Python 3 (ipykernel)",
   "language": "python",
   "name": "python3"
  },
  "language_info": {
   "codemirror_mode": {
    "name": "ipython",
    "version": 3
   },
   "file_extension": ".py",
   "mimetype": "text/x-python",
   "name": "python",
   "nbconvert_exporter": "python",
   "pygments_lexer": "ipython3",
   "version": "3.10.9"
  }
 },
 "nbformat": 4,
 "nbformat_minor": 5
}
