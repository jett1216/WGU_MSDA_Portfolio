{
 "cells": [
  {
   "cell_type": "markdown",
   "id": "975e6ea6",
   "metadata": {},
   "source": [
    "# D209 Data Mining 1 - Task 1: Classification Analysis"
   ]
  },
  {
   "cell_type": "markdown",
   "id": "94e26358",
   "metadata": {},
   "source": [
    "## Jan Francis Mitchell Barlaan "
   ]
  },
  {
   "cell_type": "markdown",
   "id": "7dcc8d11",
   "metadata": {},
   "source": [
    "### A1: PROPOSAL OF QUESTION\n",
    "* The research question I aim to answer in this task using k-nearest neighbor (KNN) is which customer socioeconomic factors influence churn the most? I believe this is important in custom-tailoring services and plans on an individual customer basis, which can help promote customer satisfaction and continued service subscription."
   ]
  },
  {
   "cell_type": "markdown",
   "id": "46ba835a",
   "metadata": {},
   "source": [
    "### A2: GOALS \n",
    "* The goal for this analysis is to discover patterns and specific variables that are more likely to contribute to customer churn and see how this model's accuracy compares to the logistic regression model accuracy that we have previously seen in the prior course. An ideal outcome would be better accuracy and at minimum an equivalent with that of the logistic regression model accuracy. "
   ]
  },
  {
   "cell_type": "markdown",
   "id": "5dc6fde1",
   "metadata": {},
   "source": [
    "### B1: EXPLANATION OF CLASSIFICATION METHOD \n",
    "* I chose KNN since it does not require any assumptions about underlying data distribution, and it can also handle both numerical and categorical data. Another useful characteristic of KNN is that it is less sensitive to outliers compared to other algorithms (GeeksforGeeks, K-Nearest Neighbor(KNN) algorithm 2024).\n",
    "\n"
   ]
  },
  {
   "cell_type": "markdown",
   "id": "063fe4ea",
   "metadata": {},
   "source": [
    "### B2: SUMMARY OF METHOD ASSUMPTION\n",
    "* KNN is a non-parametric method that makes predictions based on the similarity of data points in a given dataset. It works by finding the K nearest neighbors to a given data point based on a distance metric, such as Euclidean distance (Sharma, 2024). The class or value of the data point is then determined by the majority vote or average of the K neighbors. This approach allows the algorithm to adapt to different patterns and make predictions based on the local structure of the data (Kumar, 2020)."
   ]
  },
  {
   "cell_type": "markdown",
   "id": "91fd14ab",
   "metadata": {},
   "source": [
    "### B3: PACKAGES OR LIBRARIES LIST\n",
    "I chose to use Python 3 kernel within the Jupyter Notebook IDE to perform this task due to its ease of use and integration with visualization and statistical modeling. Using Python as the main programming language also enabled me to use several libraries:\n",
    "* Pandas was used to easily handle large datasets\n",
    "* Numpy was used in mathematical calculations and operations\n",
    "* Matplotlib and Seaborn was used for visualizations\n",
    "* Scipy assisted in MLR modeling \n",
    "* Scikit-learn was used to perform the train test "
   ]
  },
  {
   "cell_type": "markdown",
   "id": "bc97e1c4",
   "metadata": {},
   "source": [
    "### C1:DATA PREPROCESSING\n",
    "* My data preprocessing goals involve the same basic data cleaning steps that I have performed in previous tasks, which include detecting duplicates, nulls, and outliers and addressing them if present. Outliers will be detected for with boxplots and Z-score calculations. Yes/No categorical variables will also be re-expressed in binary 1/0 format so that the KNN algorithm can properly process them. Also, in a later step I will create a new dataframe with only the columns that include my chosen dependent and independent variables for analysis. The following code is what I used to accomplish these data cleaning goals."
   ]
  },
  {
   "cell_type": "code",
   "execution_count": 1,
   "id": "5b830e55",
   "metadata": {},
   "outputs": [],
   "source": [
    "#Importing the necessary libraries\n",
    "\n",
    "import pandas as pd\n",
    "import numpy as np\n",
    "import matplotlib.pyplot as plt\n",
    "import seaborn as sns\n",
    "from scipy import stats\n",
    "from sklearn.neighbors import KNeighborsClassifier\n",
    "from sklearn.model_selection import GridSearchCV\n",
    "from sklearn.model_selection import train_test_split\n",
    "from sklearn.metrics import auc, roc_curve, roc_auc_score, classification_report, confusion_matrix, accuracy_score\n",
    "\n",
    "# Disabling warnings\n",
    "import warnings\n",
    "warnings.filterwarnings('ignore')"
   ]
  },
  {
   "cell_type": "code",
   "execution_count": 2,
   "id": "f47ca0d5",
   "metadata": {},
   "outputs": [],
   "source": [
    "#Load CSV\n",
    "\n",
    "# The first column is an index. We will duplicate this and create a column without it\n",
    "df = pd.read_csv(r'C:\\Users\\neoka\\OneDrive\\Desktop\\WGU MSDA Course Material\\D209\\Starting Datasets\\Churn/churn_clean.csv', index_col=0)"
   ]
  },
  {
   "cell_type": "code",
   "execution_count": 3,
   "id": "37de1096",
   "metadata": {},
   "outputs": [
    {
     "name": "stdout",
     "output_type": "stream",
     "text": [
      "<class 'pandas.core.frame.DataFrame'>\n",
      "Int64Index: 10000 entries, 1 to 10000\n",
      "Data columns (total 49 columns):\n",
      " #   Column                Non-Null Count  Dtype  \n",
      "---  ------                --------------  -----  \n",
      " 0   Customer_id           10000 non-null  object \n",
      " 1   Interaction           10000 non-null  object \n",
      " 2   UID                   10000 non-null  object \n",
      " 3   City                  10000 non-null  object \n",
      " 4   State                 10000 non-null  object \n",
      " 5   County                10000 non-null  object \n",
      " 6   Zip                   10000 non-null  int64  \n",
      " 7   Lat                   10000 non-null  float64\n",
      " 8   Lng                   10000 non-null  float64\n",
      " 9   Population            10000 non-null  int64  \n",
      " 10  Area                  10000 non-null  object \n",
      " 11  TimeZone              10000 non-null  object \n",
      " 12  Job                   10000 non-null  object \n",
      " 13  Children              10000 non-null  int64  \n",
      " 14  Age                   10000 non-null  int64  \n",
      " 15  Income                10000 non-null  float64\n",
      " 16  Marital               10000 non-null  object \n",
      " 17  Gender                10000 non-null  object \n",
      " 18  Churn                 10000 non-null  object \n",
      " 19  Outage_sec_perweek    10000 non-null  float64\n",
      " 20  Email                 10000 non-null  int64  \n",
      " 21  Contacts              10000 non-null  int64  \n",
      " 22  Yearly_equip_failure  10000 non-null  int64  \n",
      " 23  Techie                10000 non-null  object \n",
      " 24  Contract              10000 non-null  object \n",
      " 25  Port_modem            10000 non-null  object \n",
      " 26  Tablet                10000 non-null  object \n",
      " 27  InternetService       10000 non-null  object \n",
      " 28  Phone                 10000 non-null  object \n",
      " 29  Multiple              10000 non-null  object \n",
      " 30  OnlineSecurity        10000 non-null  object \n",
      " 31  OnlineBackup          10000 non-null  object \n",
      " 32  DeviceProtection      10000 non-null  object \n",
      " 33  TechSupport           10000 non-null  object \n",
      " 34  StreamingTV           10000 non-null  object \n",
      " 35  StreamingMovies       10000 non-null  object \n",
      " 36  PaperlessBilling      10000 non-null  object \n",
      " 37  PaymentMethod         10000 non-null  object \n",
      " 38  Tenure                10000 non-null  float64\n",
      " 39  MonthlyCharge         10000 non-null  float64\n",
      " 40  Bandwidth_GB_Year     10000 non-null  float64\n",
      " 41  Item1                 10000 non-null  int64  \n",
      " 42  Item2                 10000 non-null  int64  \n",
      " 43  Item3                 10000 non-null  int64  \n",
      " 44  Item4                 10000 non-null  int64  \n",
      " 45  Item5                 10000 non-null  int64  \n",
      " 46  Item6                 10000 non-null  int64  \n",
      " 47  Item7                 10000 non-null  int64  \n",
      " 48  Item8                 10000 non-null  int64  \n",
      "dtypes: float64(7), int64(15), object(27)\n",
      "memory usage: 3.8+ MB\n"
     ]
    }
   ],
   "source": [
    "#Preview loaded data\n",
    "\n",
    "df.info()"
   ]
  },
  {
   "cell_type": "code",
   "execution_count": 4,
   "id": "312b2203",
   "metadata": {},
   "outputs": [
    {
     "data": {
      "text/plain": [
       "CaseOrder\n",
       "1        False\n",
       "2        False\n",
       "3        False\n",
       "4        False\n",
       "5        False\n",
       "         ...  \n",
       "9996     False\n",
       "9997     False\n",
       "9998     False\n",
       "9999     False\n",
       "10000    False\n",
       "Length: 10000, dtype: bool"
      ]
     },
     "execution_count": 4,
     "metadata": {},
     "output_type": "execute_result"
    }
   ],
   "source": [
    "#Check for duplicates\n",
    "\n",
    "df.duplicated()"
   ]
  },
  {
   "cell_type": "code",
   "execution_count": 5,
   "id": "76916dfe",
   "metadata": {},
   "outputs": [
    {
     "name": "stdout",
     "output_type": "stream",
     "text": [
      "False    10000\n",
      "dtype: int64\n"
     ]
    }
   ],
   "source": [
    "#Show number of duplicates. False = no duplicates \n",
    "\n",
    "print(df.duplicated().value_counts())"
   ]
  },
  {
   "cell_type": "code",
   "execution_count": 6,
   "id": "7d5418cd",
   "metadata": {
    "scrolled": true
   },
   "outputs": [
    {
     "data": {
      "text/plain": [
       "Customer_id             0\n",
       "Interaction             0\n",
       "UID                     0\n",
       "City                    0\n",
       "State                   0\n",
       "County                  0\n",
       "Zip                     0\n",
       "Lat                     0\n",
       "Lng                     0\n",
       "Population              0\n",
       "Area                    0\n",
       "TimeZone                0\n",
       "Job                     0\n",
       "Children                0\n",
       "Age                     0\n",
       "Income                  0\n",
       "Marital                 0\n",
       "Gender                  0\n",
       "Churn                   0\n",
       "Outage_sec_perweek      0\n",
       "Email                   0\n",
       "Contacts                0\n",
       "Yearly_equip_failure    0\n",
       "Techie                  0\n",
       "Contract                0\n",
       "Port_modem              0\n",
       "Tablet                  0\n",
       "InternetService         0\n",
       "Phone                   0\n",
       "Multiple                0\n",
       "OnlineSecurity          0\n",
       "OnlineBackup            0\n",
       "DeviceProtection        0\n",
       "TechSupport             0\n",
       "StreamingTV             0\n",
       "StreamingMovies         0\n",
       "PaperlessBilling        0\n",
       "PaymentMethod           0\n",
       "Tenure                  0\n",
       "MonthlyCharge           0\n",
       "Bandwidth_GB_Year       0\n",
       "Item1                   0\n",
       "Item2                   0\n",
       "Item3                   0\n",
       "Item4                   0\n",
       "Item5                   0\n",
       "Item6                   0\n",
       "Item7                   0\n",
       "Item8                   0\n",
       "dtype: int64"
      ]
     },
     "execution_count": 6,
     "metadata": {},
     "output_type": "execute_result"
    }
   ],
   "source": [
    "#Count of null/missing values in each column\n",
    "\n",
    "df.isnull().sum()"
   ]
  },
  {
   "cell_type": "code",
   "execution_count": 7,
   "id": "36a3107c",
   "metadata": {
    "scrolled": false
   },
   "outputs": [
    {
     "data": {
      "image/png": "[encoded data removed]",
      "text/plain": [
       "<Figure size 2500x1000 with 2 Axes>"
      ]
     },
     "metadata": {},
     "output_type": "display_data"
    }
   ],
   "source": [
    "#Import missingno to visualize missing/null values \n",
    "\n",
    "import missingno as msno\n",
    "msno.matrix(df, fontsize=12, labels=True)\n",
    "plt.title('Missing data matrix')\n",
    "plt.show()\n"
   ]
  },
  {
   "cell_type": "markdown",
   "id": "089437b7",
   "metadata": {},
   "source": [
    "### C2: DATA SET VARIABLES\n",
    "* The following variables will be used in this task: Churn, Techie, TechSupport, StreamingTV, StreamingMovies, Phone, Multiple, Tablet, DeviceProtection, OnlineSecurity, OnlineBackup, PaperlessBilling, MonthlyCharge, Bandwidth_GB_Year\n",
    "\n",
    "* Churn will be our dependent variable and the other 13 will be our independent variables\n",
    "| Variable    | Categorical/Continuous | Independent/Dependent |\n",
    "| :--------: | :-------: |:-------: |\n",
    "| Churn  | Categorical | Dependent |\n",
    "| Techie | Categorical | Independent |\n",
    "| TechSupport | Categorical | Independent |\n",
    "| StreamingTV | Categorical | Independent |\n",
    "| StreamingMovies | Categorical | Independent |\n",
    "| Phone | Categorical | Independent |\n",
    "| Multiple | Categorical | Independent |\n",
    "| Tablet | Categorical | Independent |\n",
    "| DeviceProtection | Categorical | Independent |\n",
    "| OnlineSecurity | Categorical | Independent |\n",
    "| OnlineBackup | Categorical | Independent |\n",
    "| PaperlessBilling | Categorical | Independent |\n",
    "| MonthlyCharge | Continuous | Independent |\n",
    "| Bandwidth_GB_Year | Continuous | Independent |\n"
   ]
  },
  {
   "cell_type": "code",
   "execution_count": 8,
   "id": "cec9a49a",
   "metadata": {},
   "outputs": [
    {
     "data": {
      "image/png": "[encoded data removed]",
      "text/plain": [
       "<Figure size 640x480 with 1 Axes>"
      ]
     },
     "metadata": {},
     "output_type": "display_data"
    }
   ],
   "source": [
    "#Outlier check with boxplot on numerical continuous independent variable 'Bandwidth_GB_Year'\n",
    "\n",
    "boxplot=sns.boxplot(x='Bandwidth_GB_Year',data=df)"
   ]
  },
  {
   "cell_type": "code",
   "execution_count": 9,
   "id": "aa001be0",
   "metadata": {},
   "outputs": [
    {
     "data": {
      "text/html": [
       "<div>\n",
       "<style scoped>\n",
       "    .dataframe tbody tr th:only-of-type {\n",
       "        vertical-align: middle;\n",
       "    }\n",
       "\n",
       "    .dataframe tbody tr th {\n",
       "        vertical-align: top;\n",
       "    }\n",
       "\n",
       "    .dataframe thead th {\n",
       "        text-align: right;\n",
       "    }\n",
       "</style>\n",
       "<table border=\"1\" class=\"dataframe\">\n",
       "  <thead>\n",
       "    <tr style=\"text-align: right;\">\n",
       "      <th></th>\n",
       "      <th>Bandwidth_GB_Year</th>\n",
       "      <th>Z_Score_Bandwidth_GB_Year</th>\n",
       "    </tr>\n",
       "    <tr>\n",
       "      <th>CaseOrder</th>\n",
       "      <th></th>\n",
       "      <th></th>\n",
       "    </tr>\n",
       "  </thead>\n",
       "  <tbody>\n",
       "    <tr>\n",
       "      <th>1</th>\n",
       "      <td>904.536110</td>\n",
       "      <td>-1.138487</td>\n",
       "    </tr>\n",
       "    <tr>\n",
       "      <th>2</th>\n",
       "      <td>800.982766</td>\n",
       "      <td>-1.185876</td>\n",
       "    </tr>\n",
       "    <tr>\n",
       "      <th>3</th>\n",
       "      <td>2054.706961</td>\n",
       "      <td>-0.612138</td>\n",
       "    </tr>\n",
       "    <tr>\n",
       "      <th>4</th>\n",
       "      <td>2164.579412</td>\n",
       "      <td>-0.561857</td>\n",
       "    </tr>\n",
       "    <tr>\n",
       "      <th>5</th>\n",
       "      <td>271.493436</td>\n",
       "      <td>-1.428184</td>\n",
       "    </tr>\n",
       "    <tr>\n",
       "      <th>6</th>\n",
       "      <td>1039.357983</td>\n",
       "      <td>-1.076789</td>\n",
       "    </tr>\n",
       "    <tr>\n",
       "      <th>7</th>\n",
       "      <td>1907.242972</td>\n",
       "      <td>-0.679621</td>\n",
       "    </tr>\n",
       "    <tr>\n",
       "      <th>8</th>\n",
       "      <td>979.612708</td>\n",
       "      <td>-1.104130</td>\n",
       "    </tr>\n",
       "    <tr>\n",
       "      <th>9</th>\n",
       "      <td>1312.874964</td>\n",
       "      <td>-0.951620</td>\n",
       "    </tr>\n",
       "    <tr>\n",
       "      <th>10</th>\n",
       "      <td>508.763791</td>\n",
       "      <td>-1.319603</td>\n",
       "    </tr>\n",
       "    <tr>\n",
       "      <th>11</th>\n",
       "      <td>2728.767869</td>\n",
       "      <td>-0.303669</td>\n",
       "    </tr>\n",
       "    <tr>\n",
       "      <th>12</th>\n",
       "      <td>1180.588788</td>\n",
       "      <td>-1.012158</td>\n",
       "    </tr>\n",
       "    <tr>\n",
       "      <th>13</th>\n",
       "      <td>1196.388018</td>\n",
       "      <td>-1.004928</td>\n",
       "    </tr>\n",
       "    <tr>\n",
       "      <th>14</th>\n",
       "      <td>1948.694497</td>\n",
       "      <td>-0.660652</td>\n",
       "    </tr>\n",
       "    <tr>\n",
       "      <th>15</th>\n",
       "      <td>1582.295235</td>\n",
       "      <td>-0.828326</td>\n",
       "    </tr>\n",
       "    <tr>\n",
       "      <th>16</th>\n",
       "      <td>1840.014467</td>\n",
       "      <td>-0.710387</td>\n",
       "    </tr>\n",
       "    <tr>\n",
       "      <th>17</th>\n",
       "      <td>2070.376729</td>\n",
       "      <td>-0.604967</td>\n",
       "    </tr>\n",
       "    <tr>\n",
       "      <th>18</th>\n",
       "      <td>882.098593</td>\n",
       "      <td>-1.148755</td>\n",
       "    </tr>\n",
       "    <tr>\n",
       "      <th>19</th>\n",
       "      <td>1833.096700</td>\n",
       "      <td>-0.713553</td>\n",
       "    </tr>\n",
       "    <tr>\n",
       "      <th>20</th>\n",
       "      <td>1954.080809</td>\n",
       "      <td>-0.658187</td>\n",
       "    </tr>\n",
       "    <tr>\n",
       "      <th>21</th>\n",
       "      <td>2330.319383</td>\n",
       "      <td>-0.486010</td>\n",
       "    </tr>\n",
       "    <tr>\n",
       "      <th>22</th>\n",
       "      <td>594.105428</td>\n",
       "      <td>-1.280548</td>\n",
       "    </tr>\n",
       "    <tr>\n",
       "      <th>23</th>\n",
       "      <td>713.063309</td>\n",
       "      <td>-1.226110</td>\n",
       "    </tr>\n",
       "    <tr>\n",
       "      <th>24</th>\n",
       "      <td>945.380293</td>\n",
       "      <td>-1.119796</td>\n",
       "    </tr>\n",
       "    <tr>\n",
       "      <th>25</th>\n",
       "      <td>870.763980</td>\n",
       "      <td>-1.153942</td>\n",
       "    </tr>\n",
       "    <tr>\n",
       "      <th>26</th>\n",
       "      <td>774.293707</td>\n",
       "      <td>-1.198089</td>\n",
       "    </tr>\n",
       "    <tr>\n",
       "      <th>27</th>\n",
       "      <td>1506.446527</td>\n",
       "      <td>-0.863037</td>\n",
       "    </tr>\n",
       "    <tr>\n",
       "      <th>28</th>\n",
       "      <td>419.050871</td>\n",
       "      <td>-1.360658</td>\n",
       "    </tr>\n",
       "    <tr>\n",
       "      <th>29</th>\n",
       "      <td>1259.415493</td>\n",
       "      <td>-0.976085</td>\n",
       "    </tr>\n",
       "    <tr>\n",
       "      <th>30</th>\n",
       "      <td>1745.125956</td>\n",
       "      <td>-0.753810</td>\n",
       "    </tr>\n",
       "    <tr>\n",
       "      <th>31</th>\n",
       "      <td>1795.465729</td>\n",
       "      <td>-0.730774</td>\n",
       "    </tr>\n",
       "    <tr>\n",
       "      <th>32</th>\n",
       "      <td>492.477147</td>\n",
       "      <td>-1.327056</td>\n",
       "    </tr>\n",
       "    <tr>\n",
       "      <th>33</th>\n",
       "      <td>1013.993166</td>\n",
       "      <td>-1.088397</td>\n",
       "    </tr>\n",
       "    <tr>\n",
       "      <th>34</th>\n",
       "      <td>2680.762173</td>\n",
       "      <td>-0.325638</td>\n",
       "    </tr>\n",
       "    <tr>\n",
       "      <th>35</th>\n",
       "      <td>1081.814362</td>\n",
       "      <td>-1.057360</td>\n",
       "    </tr>\n",
       "    <tr>\n",
       "      <th>36</th>\n",
       "      <td>1209.961168</td>\n",
       "      <td>-0.998716</td>\n",
       "    </tr>\n",
       "    <tr>\n",
       "      <th>37</th>\n",
       "      <td>897.591914</td>\n",
       "      <td>-1.141665</td>\n",
       "    </tr>\n",
       "    <tr>\n",
       "      <th>38</th>\n",
       "      <td>1340.930156</td>\n",
       "      <td>-0.938781</td>\n",
       "    </tr>\n",
       "    <tr>\n",
       "      <th>39</th>\n",
       "      <td>1113.993679</td>\n",
       "      <td>-1.042634</td>\n",
       "    </tr>\n",
       "    <tr>\n",
       "      <th>40</th>\n",
       "      <td>1530.107690</td>\n",
       "      <td>-0.852209</td>\n",
       "    </tr>\n",
       "  </tbody>\n",
       "</table>\n",
       "</div>"
      ],
      "text/plain": [
       "           Bandwidth_GB_Year  Z_Score_Bandwidth_GB_Year\n",
       "CaseOrder                                              \n",
       "1                 904.536110                  -1.138487\n",
       "2                 800.982766                  -1.185876\n",
       "3                2054.706961                  -0.612138\n",
       "4                2164.579412                  -0.561857\n",
       "5                 271.493436                  -1.428184\n",
       "6                1039.357983                  -1.076789\n",
       "7                1907.242972                  -0.679621\n",
       "8                 979.612708                  -1.104130\n",
       "9                1312.874964                  -0.951620\n",
       "10                508.763791                  -1.319603\n",
       "11               2728.767869                  -0.303669\n",
       "12               1180.588788                  -1.012158\n",
       "13               1196.388018                  -1.004928\n",
       "14               1948.694497                  -0.660652\n",
       "15               1582.295235                  -0.828326\n",
       "16               1840.014467                  -0.710387\n",
       "17               2070.376729                  -0.604967\n",
       "18                882.098593                  -1.148755\n",
       "19               1833.096700                  -0.713553\n",
       "20               1954.080809                  -0.658187\n",
       "21               2330.319383                  -0.486010\n",
       "22                594.105428                  -1.280548\n",
       "23                713.063309                  -1.226110\n",
       "24                945.380293                  -1.119796\n",
       "25                870.763980                  -1.153942\n",
       "26                774.293707                  -1.198089\n",
       "27               1506.446527                  -0.863037\n",
       "28                419.050871                  -1.360658\n",
       "29               1259.415493                  -0.976085\n",
       "30               1745.125956                  -0.753810\n",
       "31               1795.465729                  -0.730774\n",
       "32                492.477147                  -1.327056\n",
       "33               1013.993166                  -1.088397\n",
       "34               2680.762173                  -0.325638\n",
       "35               1081.814362                  -1.057360\n",
       "36               1209.961168                  -0.998716\n",
       "37                897.591914                  -1.141665\n",
       "38               1340.930156                  -0.938781\n",
       "39               1113.993679                  -1.042634\n",
       "40               1530.107690                  -0.852209"
      ]
     },
     "execution_count": 9,
     "metadata": {},
     "output_type": "execute_result"
    }
   ],
   "source": [
    "#Calculate Z-score for 'Bandwidth_GB_Year'\n",
    "\n",
    "df['Z_Score_Bandwidth_GB_Year']=stats.zscore(df['Bandwidth_GB_Year'])\n",
    "df[['Bandwidth_GB_Year','Z_Score_Bandwidth_GB_Year']].head(40)"
   ]
  },
  {
   "cell_type": "code",
   "execution_count": 10,
   "id": "7919b250",
   "metadata": {},
   "outputs": [
    {
     "name": "stdout",
     "output_type": "stream",
     "text": [
      "Number of outliers: 0\n",
      "Outlier values: dict_values([])\n"
     ]
    }
   ],
   "source": [
    "#Print number of outliers based on z-score for 'Bandwidth_GB_Year'\n",
    "\n",
    "df_outliers = df.query('(Z_Score_Bandwidth_GB_Year > 3) | (Z_Score_Bandwidth_GB_Year < -3)')\n",
    "print(\"Number of outliers:\", df_outliers.shape[0])\n",
    "print(\"Outlier values:\", df_outliers['Bandwidth_GB_Year'].to_dict().values())"
   ]
  },
  {
   "cell_type": "code",
   "execution_count": 11,
   "id": "8c436811",
   "metadata": {},
   "outputs": [
    {
     "data": {
      "image/png": "[encoded data removed]",
      "text/plain": [
       "<Figure size 640x480 with 1 Axes>"
      ]
     },
     "metadata": {},
     "output_type": "display_data"
    }
   ],
   "source": [
    "#Outlier check with boxplot on numerical continuous independent variable 'MonthlyCharge'\n",
    "\n",
    "boxplot=sns.boxplot(x='MonthlyCharge',data=df)"
   ]
  },
  {
   "cell_type": "code",
   "execution_count": 12,
   "id": "4f9dc007",
   "metadata": {},
   "outputs": [
    {
     "data": {
      "text/html": [
       "<div>\n",
       "<style scoped>\n",
       "    .dataframe tbody tr th:only-of-type {\n",
       "        vertical-align: middle;\n",
       "    }\n",
       "\n",
       "    .dataframe tbody tr th {\n",
       "        vertical-align: top;\n",
       "    }\n",
       "\n",
       "    .dataframe thead th {\n",
       "        text-align: right;\n",
       "    }\n",
       "</style>\n",
       "<table border=\"1\" class=\"dataframe\">\n",
       "  <thead>\n",
       "    <tr style=\"text-align: right;\">\n",
       "      <th></th>\n",
       "      <th>MonthlyCharge</th>\n",
       "      <th>Z_Score_MonthlyCharge</th>\n",
       "    </tr>\n",
       "    <tr>\n",
       "      <th>CaseOrder</th>\n",
       "      <th></th>\n",
       "      <th></th>\n",
       "    </tr>\n",
       "  </thead>\n",
       "  <tbody>\n",
       "    <tr>\n",
       "      <th>1</th>\n",
       "      <td>172.455519</td>\n",
       "      <td>-0.003943</td>\n",
       "    </tr>\n",
       "    <tr>\n",
       "      <th>2</th>\n",
       "      <td>242.632554</td>\n",
       "      <td>1.630326</td>\n",
       "    </tr>\n",
       "    <tr>\n",
       "      <th>3</th>\n",
       "      <td>159.947583</td>\n",
       "      <td>-0.295225</td>\n",
       "    </tr>\n",
       "    <tr>\n",
       "      <th>4</th>\n",
       "      <td>119.956840</td>\n",
       "      <td>-1.226521</td>\n",
       "    </tr>\n",
       "    <tr>\n",
       "      <th>5</th>\n",
       "      <td>149.948316</td>\n",
       "      <td>-0.528086</td>\n",
       "    </tr>\n",
       "    <tr>\n",
       "      <th>6</th>\n",
       "      <td>185.007692</td>\n",
       "      <td>0.288370</td>\n",
       "    </tr>\n",
       "    <tr>\n",
       "      <th>7</th>\n",
       "      <td>200.118516</td>\n",
       "      <td>0.640268</td>\n",
       "    </tr>\n",
       "    <tr>\n",
       "      <th>8</th>\n",
       "      <td>114.950905</td>\n",
       "      <td>-1.343098</td>\n",
       "    </tr>\n",
       "    <tr>\n",
       "      <th>9</th>\n",
       "      <td>117.468591</td>\n",
       "      <td>-1.284467</td>\n",
       "    </tr>\n",
       "    <tr>\n",
       "      <th>10</th>\n",
       "      <td>162.482694</td>\n",
       "      <td>-0.236188</td>\n",
       "    </tr>\n",
       "    <tr>\n",
       "      <th>11</th>\n",
       "      <td>174.958118</td>\n",
       "      <td>0.054337</td>\n",
       "    </tr>\n",
       "    <tr>\n",
       "      <th>12</th>\n",
       "      <td>149.962093</td>\n",
       "      <td>-0.527765</td>\n",
       "    </tr>\n",
       "    <tr>\n",
       "      <th>13</th>\n",
       "      <td>137.439154</td>\n",
       "      <td>-0.819397</td>\n",
       "    </tr>\n",
       "    <tr>\n",
       "      <th>14</th>\n",
       "      <td>184.971516</td>\n",
       "      <td>0.287527</td>\n",
       "    </tr>\n",
       "    <tr>\n",
       "      <th>15</th>\n",
       "      <td>159.965581</td>\n",
       "      <td>-0.294806</td>\n",
       "    </tr>\n",
       "    <tr>\n",
       "      <th>16</th>\n",
       "      <td>177.650760</td>\n",
       "      <td>0.117043</td>\n",
       "    </tr>\n",
       "    <tr>\n",
       "      <th>17</th>\n",
       "      <td>194.966286</td>\n",
       "      <td>0.520284</td>\n",
       "    </tr>\n",
       "    <tr>\n",
       "      <th>18</th>\n",
       "      <td>202.682861</td>\n",
       "      <td>0.699986</td>\n",
       "    </tr>\n",
       "    <tr>\n",
       "      <th>19</th>\n",
       "      <td>152.490739</td>\n",
       "      <td>-0.468878</td>\n",
       "    </tr>\n",
       "    <tr>\n",
       "      <th>20</th>\n",
       "      <td>149.944668</td>\n",
       "      <td>-0.528171</td>\n",
       "    </tr>\n",
       "    <tr>\n",
       "      <th>21</th>\n",
       "      <td>184.978458</td>\n",
       "      <td>0.287689</td>\n",
       "    </tr>\n",
       "    <tr>\n",
       "      <th>22</th>\n",
       "      <td>127.495766</td>\n",
       "      <td>-1.050956</td>\n",
       "    </tr>\n",
       "    <tr>\n",
       "      <th>23</th>\n",
       "      <td>124.964303</td>\n",
       "      <td>-1.109908</td>\n",
       "    </tr>\n",
       "    <tr>\n",
       "      <th>24</th>\n",
       "      <td>149.948316</td>\n",
       "      <td>-0.528086</td>\n",
       "    </tr>\n",
       "    <tr>\n",
       "      <th>25</th>\n",
       "      <td>162.511928</td>\n",
       "      <td>-0.235507</td>\n",
       "    </tr>\n",
       "    <tr>\n",
       "      <th>26</th>\n",
       "      <td>92.455141</td>\n",
       "      <td>-1.866975</td>\n",
       "    </tr>\n",
       "    <tr>\n",
       "      <th>27</th>\n",
       "      <td>222.649979</td>\n",
       "      <td>1.164976</td>\n",
       "    </tr>\n",
       "    <tr>\n",
       "      <th>28</th>\n",
       "      <td>139.981577</td>\n",
       "      <td>-0.760189</td>\n",
       "    </tr>\n",
       "    <tr>\n",
       "      <th>29</th>\n",
       "      <td>200.132293</td>\n",
       "      <td>0.640589</td>\n",
       "    </tr>\n",
       "    <tr>\n",
       "      <th>30</th>\n",
       "      <td>257.651257</td>\n",
       "      <td>1.980078</td>\n",
       "    </tr>\n",
       "    <tr>\n",
       "      <th>31</th>\n",
       "      <td>230.105118</td>\n",
       "      <td>1.338590</td>\n",
       "    </tr>\n",
       "    <tr>\n",
       "      <th>32</th>\n",
       "      <td>147.489301</td>\n",
       "      <td>-0.585351</td>\n",
       "    </tr>\n",
       "    <tr>\n",
       "      <th>33</th>\n",
       "      <td>230.105118</td>\n",
       "      <td>1.338590</td>\n",
       "    </tr>\n",
       "    <tr>\n",
       "      <th>34</th>\n",
       "      <td>174.958118</td>\n",
       "      <td>0.054337</td>\n",
       "    </tr>\n",
       "    <tr>\n",
       "      <th>35</th>\n",
       "      <td>267.664655</td>\n",
       "      <td>2.213268</td>\n",
       "    </tr>\n",
       "    <tr>\n",
       "      <th>36</th>\n",
       "      <td>162.483267</td>\n",
       "      <td>-0.236174</td>\n",
       "    </tr>\n",
       "    <tr>\n",
       "      <th>37</th>\n",
       "      <td>229.993134</td>\n",
       "      <td>1.335982</td>\n",
       "    </tr>\n",
       "    <tr>\n",
       "      <th>38</th>\n",
       "      <td>140.001280</td>\n",
       "      <td>-0.759730</td>\n",
       "    </tr>\n",
       "    <tr>\n",
       "      <th>39</th>\n",
       "      <td>184.964681</td>\n",
       "      <td>0.287368</td>\n",
       "    </tr>\n",
       "    <tr>\n",
       "      <th>40</th>\n",
       "      <td>147.473844</td>\n",
       "      <td>-0.585711</td>\n",
       "    </tr>\n",
       "  </tbody>\n",
       "</table>\n",
       "</div>"
      ],
      "text/plain": [
       "           MonthlyCharge  Z_Score_MonthlyCharge\n",
       "CaseOrder                                      \n",
       "1             172.455519              -0.003943\n",
       "2             242.632554               1.630326\n",
       "3             159.947583              -0.295225\n",
       "4             119.956840              -1.226521\n",
       "5             149.948316              -0.528086\n",
       "6             185.007692               0.288370\n",
       "7             200.118516               0.640268\n",
       "8             114.950905              -1.343098\n",
       "9             117.468591              -1.284467\n",
       "10            162.482694              -0.236188\n",
       "11            174.958118               0.054337\n",
       "12            149.962093              -0.527765\n",
       "13            137.439154              -0.819397\n",
       "14            184.971516               0.287527\n",
       "15            159.965581              -0.294806\n",
       "16            177.650760               0.117043\n",
       "17            194.966286               0.520284\n",
       "18            202.682861               0.699986\n",
       "19            152.490739              -0.468878\n",
       "20            149.944668              -0.528171\n",
       "21            184.978458               0.287689\n",
       "22            127.495766              -1.050956\n",
       "23            124.964303              -1.109908\n",
       "24            149.948316              -0.528086\n",
       "25            162.511928              -0.235507\n",
       "26             92.455141              -1.866975\n",
       "27            222.649979               1.164976\n",
       "28            139.981577              -0.760189\n",
       "29            200.132293               0.640589\n",
       "30            257.651257               1.980078\n",
       "31            230.105118               1.338590\n",
       "32            147.489301              -0.585351\n",
       "33            230.105118               1.338590\n",
       "34            174.958118               0.054337\n",
       "35            267.664655               2.213268\n",
       "36            162.483267              -0.236174\n",
       "37            229.993134               1.335982\n",
       "38            140.001280              -0.759730\n",
       "39            184.964681               0.287368\n",
       "40            147.473844              -0.585711"
      ]
     },
     "execution_count": 12,
     "metadata": {},
     "output_type": "execute_result"
    }
   ],
   "source": [
    "#Calculate Z-score for 'MonthlyCharge'\n",
    "\n",
    "df['Z_Score_MonthlyCharge']=stats.zscore(df['MonthlyCharge'])\n",
    "df[['MonthlyCharge','Z_Score_MonthlyCharge']].head(40)"
   ]
  },
  {
   "cell_type": "code",
   "execution_count": 13,
   "id": "29500ade",
   "metadata": {},
   "outputs": [
    {
     "name": "stdout",
     "output_type": "stream",
     "text": [
      "Number of outliers: 0\n",
      "Outlier values: dict_values([])\n"
     ]
    }
   ],
   "source": [
    "#Print number of outliers based on z-score for 'MonthlyCharge'\n",
    "\n",
    "df_outliers = df.query('(Z_Score_MonthlyCharge > 3) | (Z_Score_MonthlyCharge < -3)')\n",
    "print(\"Number of outliers:\", df_outliers.shape[0])\n",
    "print(\"Outlier values:\", df_outliers['MonthlyCharge'].to_dict().values())\n"
   ]
  },
  {
   "cell_type": "code",
   "execution_count": 14,
   "id": "67ffebe4",
   "metadata": {
    "scrolled": true
   },
   "outputs": [
    {
     "name": "stdout",
     "output_type": "stream",
     "text": [
      "<class 'pandas.core.frame.DataFrame'>\n",
      "Int64Index: 10000 entries, 1 to 10000\n",
      "Data columns (total 51 columns):\n",
      " #   Column                     Non-Null Count  Dtype  \n",
      "---  ------                     --------------  -----  \n",
      " 0   Customer_id                10000 non-null  object \n",
      " 1   Interaction                10000 non-null  object \n",
      " 2   UID                        10000 non-null  object \n",
      " 3   City                       10000 non-null  object \n",
      " 4   State                      10000 non-null  object \n",
      " 5   County                     10000 non-null  object \n",
      " 6   Zip                        10000 non-null  int64  \n",
      " 7   Lat                        10000 non-null  float64\n",
      " 8   Lng                        10000 non-null  float64\n",
      " 9   Population                 10000 non-null  int64  \n",
      " 10  Area                       10000 non-null  object \n",
      " 11  TimeZone                   10000 non-null  object \n",
      " 12  Job                        10000 non-null  object \n",
      " 13  Children                   10000 non-null  int64  \n",
      " 14  Age                        10000 non-null  int64  \n",
      " 15  Income                     10000 non-null  float64\n",
      " 16  Marital                    10000 non-null  object \n",
      " 17  Gender                     10000 non-null  object \n",
      " 18  Churn                      10000 non-null  object \n",
      " 19  Outage_sec_perweek         10000 non-null  float64\n",
      " 20  Email                      10000 non-null  int64  \n",
      " 21  Contacts                   10000 non-null  int64  \n",
      " 22  Yearly_equip_failure       10000 non-null  int64  \n",
      " 23  Techie                     10000 non-null  object \n",
      " 24  Contract                   10000 non-null  object \n",
      " 25  Port_modem                 10000 non-null  object \n",
      " 26  Tablet                     10000 non-null  object \n",
      " 27  InternetService            10000 non-null  object \n",
      " 28  Phone                      10000 non-null  object \n",
      " 29  Multiple                   10000 non-null  object \n",
      " 30  OnlineSecurity             10000 non-null  object \n",
      " 31  OnlineBackup               10000 non-null  object \n",
      " 32  DeviceProtection           10000 non-null  object \n",
      " 33  TechSupport                10000 non-null  object \n",
      " 34  StreamingTV                10000 non-null  object \n",
      " 35  StreamingMovies            10000 non-null  object \n",
      " 36  PaperlessBilling           10000 non-null  object \n",
      " 37  PaymentMethod              10000 non-null  object \n",
      " 38  Tenure                     10000 non-null  float64\n",
      " 39  MonthlyCharge              10000 non-null  float64\n",
      " 40  Bandwidth_GB_Year          10000 non-null  float64\n",
      " 41  Item1                      10000 non-null  int64  \n",
      " 42  Item2                      10000 non-null  int64  \n",
      " 43  Item3                      10000 non-null  int64  \n",
      " 44  Item4                      10000 non-null  int64  \n",
      " 45  Item5                      10000 non-null  int64  \n",
      " 46  Item6                      10000 non-null  int64  \n",
      " 47  Item7                      10000 non-null  int64  \n",
      " 48  Item8                      10000 non-null  int64  \n",
      " 49  Z_Score_Bandwidth_GB_Year  10000 non-null  float64\n",
      " 50  Z_Score_MonthlyCharge      10000 non-null  float64\n",
      "dtypes: float64(9), int64(15), object(27)\n",
      "memory usage: 4.0+ MB\n"
     ]
    }
   ],
   "source": [
    "df.info()"
   ]
  },
  {
   "cell_type": "markdown",
   "id": "adca1b9d",
   "metadata": {},
   "source": [
    "### C3: STEPS FOR ANALYSIS\n",
    "* The following code shows the summary statistics for my chosen dependent and independent variables. My chosen dependent variable 'Churn' is a binary categorical variable as well as 11 of the 13 independent variables I have chosen for this analysis. Therefore, summary statistics for those variables will be shown with the value_counts() function, which shows the 'Yes' and 'No' count breakdowns. The other two independent variables 'MonthlyCharge' and 'Bandwidth_GB_Year' are continuous numerical variables, therefore I will use the describe() function to show their summary statistics. This function shows percentiles, standard deviation, min, max, and mean.\n",
    "\n",
    "* After data cleaning and summary statistics, the following code shows the transformation and preparation steps I have taken with this data set prior to runing the KNN model. I established boolean indexing to my categorical variables and converted the yes/no format to 1/0. Next, I check the correlation coefficients for our chosen features against 'Churn'. Finally, I saved only the 14 chosen variables into a new data frame called 'KNN_prepared_df'."
   ]
  },
  {
   "cell_type": "code",
   "execution_count": 15,
   "id": "df4d24e7",
   "metadata": {},
   "outputs": [],
   "source": [
    "#Categorical variables"
   ]
  },
  {
   "cell_type": "code",
   "execution_count": 16,
   "id": "b5a0dd82",
   "metadata": {
    "scrolled": true
   },
   "outputs": [
    {
     "data": {
      "text/plain": [
       "No     7350\n",
       "Yes    2650\n",
       "Name: Churn, dtype: int64"
      ]
     },
     "execution_count": 16,
     "metadata": {},
     "output_type": "execute_result"
    }
   ],
   "source": [
    "df.Churn.value_counts()"
   ]
  },
  {
   "cell_type": "code",
   "execution_count": 17,
   "id": "1abf4aa7",
   "metadata": {},
   "outputs": [
    {
     "data": {
      "text/plain": [
       "No     8321\n",
       "Yes    1679\n",
       "Name: Techie, dtype: int64"
      ]
     },
     "execution_count": 17,
     "metadata": {},
     "output_type": "execute_result"
    }
   ],
   "source": [
    "df.Techie.value_counts()"
   ]
  },
  {
   "cell_type": "code",
   "execution_count": 18,
   "id": "2f5bca6e",
   "metadata": {},
   "outputs": [
    {
     "data": {
      "text/plain": [
       "No     6250\n",
       "Yes    3750\n",
       "Name: TechSupport, dtype: int64"
      ]
     },
     "execution_count": 18,
     "metadata": {},
     "output_type": "execute_result"
    }
   ],
   "source": [
    "df.TechSupport.value_counts()"
   ]
  },
  {
   "cell_type": "code",
   "execution_count": 19,
   "id": "0b47dff4",
   "metadata": {},
   "outputs": [
    {
     "data": {
      "text/plain": [
       "No     5071\n",
       "Yes    4929\n",
       "Name: StreamingTV, dtype: int64"
      ]
     },
     "execution_count": 19,
     "metadata": {},
     "output_type": "execute_result"
    }
   ],
   "source": [
    "df.StreamingTV.value_counts()"
   ]
  },
  {
   "cell_type": "code",
   "execution_count": 20,
   "id": "6171fbac",
   "metadata": {},
   "outputs": [
    {
     "data": {
      "text/plain": [
       "No     5110\n",
       "Yes    4890\n",
       "Name: StreamingMovies, dtype: int64"
      ]
     },
     "execution_count": 20,
     "metadata": {},
     "output_type": "execute_result"
    }
   ],
   "source": [
    "df.StreamingMovies.value_counts()"
   ]
  },
  {
   "cell_type": "code",
   "execution_count": 21,
   "id": "27681f37",
   "metadata": {},
   "outputs": [
    {
     "data": {
      "text/plain": [
       "Yes    9067\n",
       "No      933\n",
       "Name: Phone, dtype: int64"
      ]
     },
     "execution_count": 21,
     "metadata": {},
     "output_type": "execute_result"
    }
   ],
   "source": [
    "df.Phone.value_counts()"
   ]
  },
  {
   "cell_type": "code",
   "execution_count": 22,
   "id": "54ebd3d8",
   "metadata": {},
   "outputs": [
    {
     "data": {
      "text/plain": [
       "No     5392\n",
       "Yes    4608\n",
       "Name: Multiple, dtype: int64"
      ]
     },
     "execution_count": 22,
     "metadata": {},
     "output_type": "execute_result"
    }
   ],
   "source": [
    "df.Multiple.value_counts()"
   ]
  },
  {
   "cell_type": "code",
   "execution_count": 23,
   "id": "ce16a6a4",
   "metadata": {},
   "outputs": [
    {
     "data": {
      "text/plain": [
       "No     7009\n",
       "Yes    2991\n",
       "Name: Tablet, dtype: int64"
      ]
     },
     "execution_count": 23,
     "metadata": {},
     "output_type": "execute_result"
    }
   ],
   "source": [
    "df.Tablet.value_counts()"
   ]
  },
  {
   "cell_type": "code",
   "execution_count": 24,
   "id": "a2c6c6bf",
   "metadata": {},
   "outputs": [
    {
     "data": {
      "text/plain": [
       "No     5614\n",
       "Yes    4386\n",
       "Name: DeviceProtection, dtype: int64"
      ]
     },
     "execution_count": 24,
     "metadata": {},
     "output_type": "execute_result"
    }
   ],
   "source": [
    "df.DeviceProtection.value_counts()"
   ]
  },
  {
   "cell_type": "code",
   "execution_count": 25,
   "id": "1e5d7c8a",
   "metadata": {},
   "outputs": [
    {
     "data": {
      "text/plain": [
       "No     6424\n",
       "Yes    3576\n",
       "Name: OnlineSecurity, dtype: int64"
      ]
     },
     "execution_count": 25,
     "metadata": {},
     "output_type": "execute_result"
    }
   ],
   "source": [
    "df.OnlineSecurity.value_counts()"
   ]
  },
  {
   "cell_type": "code",
   "execution_count": 26,
   "id": "fd3e4958",
   "metadata": {
    "scrolled": true
   },
   "outputs": [
    {
     "data": {
      "text/plain": [
       "No     5494\n",
       "Yes    4506\n",
       "Name: OnlineBackup, dtype: int64"
      ]
     },
     "execution_count": 26,
     "metadata": {},
     "output_type": "execute_result"
    }
   ],
   "source": [
    "df.OnlineBackup.value_counts()"
   ]
  },
  {
   "cell_type": "code",
   "execution_count": 27,
   "id": "7cf5c058",
   "metadata": {
    "scrolled": true
   },
   "outputs": [
    {
     "data": {
      "text/plain": [
       "Yes    5882\n",
       "No     4118\n",
       "Name: PaperlessBilling, dtype: int64"
      ]
     },
     "execution_count": 27,
     "metadata": {},
     "output_type": "execute_result"
    }
   ],
   "source": [
    "df.PaperlessBilling  .value_counts()"
   ]
  },
  {
   "cell_type": "code",
   "execution_count": 28,
   "id": "06d883a3",
   "metadata": {},
   "outputs": [],
   "source": [
    "#Numerical variables"
   ]
  },
  {
   "cell_type": "code",
   "execution_count": 29,
   "id": "2db6dc73",
   "metadata": {},
   "outputs": [
    {
     "data": {
      "text/plain": [
       "count    10000.000000\n",
       "mean       172.624816\n",
       "std         42.943094\n",
       "min         79.978860\n",
       "25%        139.979239\n",
       "50%        167.484700\n",
       "75%        200.734725\n",
       "max        290.160419\n",
       "Name: MonthlyCharge, dtype: float64"
      ]
     },
     "execution_count": 29,
     "metadata": {},
     "output_type": "execute_result"
    }
   ],
   "source": [
    "df.MonthlyCharge.describe() "
   ]
  },
  {
   "cell_type": "code",
   "execution_count": 30,
   "id": "847d319b",
   "metadata": {
    "scrolled": true
   },
   "outputs": [
    {
     "data": {
      "text/plain": [
       "count    10000.000000\n",
       "mean      3392.341550\n",
       "std       2185.294852\n",
       "min        155.506715\n",
       "25%       1236.470827\n",
       "50%       3279.536903\n",
       "75%       5586.141370\n",
       "max       7158.981530\n",
       "Name: Bandwidth_GB_Year, dtype: float64"
      ]
     },
     "execution_count": 30,
     "metadata": {},
     "output_type": "execute_result"
    }
   ],
   "source": [
    "df.Bandwidth_GB_Year.describe() "
   ]
  },
  {
   "cell_type": "code",
   "execution_count": 31,
   "id": "f78e30fc",
   "metadata": {},
   "outputs": [],
   "source": [
    "#Re-expression of categorical variables\n",
    "\n",
    "#Establish boolean indexing\n",
    "boolean_mapping = {'Yes' : 1, 'No' : 0}\n",
    "\n",
    "#Then, convert 'Churn', 'Techie','TechSupport', 'StreamingTV', 'StreamingMovies', 'Phone', 'Multiple', 'Tablet', 'DeviceProtection', 'OnlineSecurity','OnlineBackup', and 'PaperlessBilling' columns to booleans from string\n",
    "df['Churn'] = df['Churn'].map(boolean_mapping)\n",
    "df['Techie'] = df['Techie'].map(boolean_mapping)\n",
    "df['TechSupport'] = df['TechSupport'].map(boolean_mapping)\n",
    "df['StreamingTV'] = df['StreamingTV'].map(boolean_mapping)\n",
    "df['StreamingMovies'] = df['StreamingMovies'].map(boolean_mapping)\n",
    "df['Phone'] = df['Phone'].map(boolean_mapping)\n",
    "df['Multiple'] = df['Multiple'].map(boolean_mapping)\n",
    "df['Tablet'] = df['Tablet'].map(boolean_mapping)\n",
    "df['DeviceProtection'] = df['DeviceProtection'].map(boolean_mapping)\n",
    "df['OnlineSecurity'] = df['OnlineSecurity'].map(boolean_mapping)\n",
    "df['OnlineBackup'] = df['OnlineBackup'].map(boolean_mapping)\n",
    "df['PaperlessBilling'] = df['PaperlessBilling'].map(boolean_mapping)\n"
   ]
  },
  {
   "cell_type": "code",
   "execution_count": 32,
   "id": "358b3da6",
   "metadata": {
    "scrolled": true
   },
   "outputs": [
    {
     "name": "stdout",
     "output_type": "stream",
     "text": [
      "<class 'pandas.core.frame.DataFrame'>\n",
      "Int64Index: 10000 entries, 1 to 10000\n",
      "Data columns (total 14 columns):\n",
      " #   Column             Non-Null Count  Dtype  \n",
      "---  ------             --------------  -----  \n",
      " 0   Churn              10000 non-null  int64  \n",
      " 1   Techie             10000 non-null  int64  \n",
      " 2   TechSupport        10000 non-null  int64  \n",
      " 3   StreamingTV        10000 non-null  int64  \n",
      " 4   StreamingMovies    10000 non-null  int64  \n",
      " 5   Phone              10000 non-null  int64  \n",
      " 6   Multiple           10000 non-null  int64  \n",
      " 7   Tablet             10000 non-null  int64  \n",
      " 8   DeviceProtection   10000 non-null  int64  \n",
      " 9   OnlineSecurity     10000 non-null  int64  \n",
      " 10  OnlineBackup       10000 non-null  int64  \n",
      " 11  PaperlessBilling   10000 non-null  int64  \n",
      " 12  MonthlyCharge      10000 non-null  float64\n",
      " 13  Bandwidth_GB_Year  10000 non-null  float64\n",
      "dtypes: float64(2), int64(12)\n",
      "memory usage: 1.1 MB\n"
     ]
    }
   ],
   "source": [
    "#Create new dataframe\n",
    "KNN_prepared_df = df[['Churn', 'Techie', 'TechSupport', 'StreamingTV', 'StreamingMovies', 'Phone', 'Multiple', 'Tablet', 'DeviceProtection', 'OnlineSecurity', 'OnlineBackup', 'PaperlessBilling', 'MonthlyCharge', 'Bandwidth_GB_Year']]\n",
    "\n",
    "KNN_prepared_df.info()\n",
    "\n"
   ]
  },
  {
   "cell_type": "code",
   "execution_count": 33,
   "id": "f8735700",
   "metadata": {},
   "outputs": [
    {
     "data": {
      "text/html": [
       "<div>\n",
       "<style scoped>\n",
       "    .dataframe tbody tr th:only-of-type {\n",
       "        vertical-align: middle;\n",
       "    }\n",
       "\n",
       "    .dataframe tbody tr th {\n",
       "        vertical-align: top;\n",
       "    }\n",
       "\n",
       "    .dataframe thead th {\n",
       "        text-align: right;\n",
       "    }\n",
       "</style>\n",
       "<table border=\"1\" class=\"dataframe\">\n",
       "  <thead>\n",
       "    <tr style=\"text-align: right;\">\n",
       "      <th></th>\n",
       "      <th>Churn</th>\n",
       "      <th>Techie</th>\n",
       "      <th>TechSupport</th>\n",
       "      <th>StreamingTV</th>\n",
       "      <th>StreamingMovies</th>\n",
       "      <th>Phone</th>\n",
       "      <th>Multiple</th>\n",
       "      <th>Tablet</th>\n",
       "      <th>DeviceProtection</th>\n",
       "      <th>OnlineSecurity</th>\n",
       "      <th>OnlineBackup</th>\n",
       "      <th>PaperlessBilling</th>\n",
       "      <th>MonthlyCharge</th>\n",
       "      <th>Bandwidth_GB_Year</th>\n",
       "    </tr>\n",
       "    <tr>\n",
       "      <th>CaseOrder</th>\n",
       "      <th></th>\n",
       "      <th></th>\n",
       "      <th></th>\n",
       "      <th></th>\n",
       "      <th></th>\n",
       "      <th></th>\n",
       "      <th></th>\n",
       "      <th></th>\n",
       "      <th></th>\n",
       "      <th></th>\n",
       "      <th></th>\n",
       "      <th></th>\n",
       "      <th></th>\n",
       "      <th></th>\n",
       "    </tr>\n",
       "  </thead>\n",
       "  <tbody>\n",
       "    <tr>\n",
       "      <th>1</th>\n",
       "      <td>0</td>\n",
       "      <td>0</td>\n",
       "      <td>0</td>\n",
       "      <td>0</td>\n",
       "      <td>1</td>\n",
       "      <td>1</td>\n",
       "      <td>0</td>\n",
       "      <td>1</td>\n",
       "      <td>0</td>\n",
       "      <td>1</td>\n",
       "      <td>1</td>\n",
       "      <td>1</td>\n",
       "      <td>172.455519</td>\n",
       "      <td>904.536110</td>\n",
       "    </tr>\n",
       "    <tr>\n",
       "      <th>2</th>\n",
       "      <td>1</td>\n",
       "      <td>1</td>\n",
       "      <td>0</td>\n",
       "      <td>1</td>\n",
       "      <td>1</td>\n",
       "      <td>1</td>\n",
       "      <td>1</td>\n",
       "      <td>1</td>\n",
       "      <td>0</td>\n",
       "      <td>1</td>\n",
       "      <td>0</td>\n",
       "      <td>1</td>\n",
       "      <td>242.632554</td>\n",
       "      <td>800.982766</td>\n",
       "    </tr>\n",
       "    <tr>\n",
       "      <th>3</th>\n",
       "      <td>0</td>\n",
       "      <td>1</td>\n",
       "      <td>0</td>\n",
       "      <td>0</td>\n",
       "      <td>1</td>\n",
       "      <td>1</td>\n",
       "      <td>1</td>\n",
       "      <td>0</td>\n",
       "      <td>0</td>\n",
       "      <td>0</td>\n",
       "      <td>0</td>\n",
       "      <td>1</td>\n",
       "      <td>159.947583</td>\n",
       "      <td>2054.706961</td>\n",
       "    </tr>\n",
       "    <tr>\n",
       "      <th>4</th>\n",
       "      <td>0</td>\n",
       "      <td>1</td>\n",
       "      <td>0</td>\n",
       "      <td>1</td>\n",
       "      <td>0</td>\n",
       "      <td>1</td>\n",
       "      <td>0</td>\n",
       "      <td>0</td>\n",
       "      <td>0</td>\n",
       "      <td>1</td>\n",
       "      <td>0</td>\n",
       "      <td>1</td>\n",
       "      <td>119.956840</td>\n",
       "      <td>2164.579412</td>\n",
       "    </tr>\n",
       "    <tr>\n",
       "      <th>5</th>\n",
       "      <td>1</td>\n",
       "      <td>0</td>\n",
       "      <td>1</td>\n",
       "      <td>1</td>\n",
       "      <td>0</td>\n",
       "      <td>0</td>\n",
       "      <td>0</td>\n",
       "      <td>0</td>\n",
       "      <td>0</td>\n",
       "      <td>0</td>\n",
       "      <td>0</td>\n",
       "      <td>0</td>\n",
       "      <td>149.948316</td>\n",
       "      <td>271.493436</td>\n",
       "    </tr>\n",
       "  </tbody>\n",
       "</table>\n",
       "</div>"
      ],
      "text/plain": [
       "           Churn  Techie  TechSupport  StreamingTV  StreamingMovies  Phone  \\\n",
       "CaseOrder                                                                    \n",
       "1              0       0            0            0                1      1   \n",
       "2              1       1            0            1                1      1   \n",
       "3              0       1            0            0                1      1   \n",
       "4              0       1            0            1                0      1   \n",
       "5              1       0            1            1                0      0   \n",
       "\n",
       "           Multiple  Tablet  DeviceProtection  OnlineSecurity  OnlineBackup  \\\n",
       "CaseOrder                                                                     \n",
       "1                 0       1                 0               1             1   \n",
       "2                 1       1                 0               1             0   \n",
       "3                 1       0                 0               0             0   \n",
       "4                 0       0                 0               1             0   \n",
       "5                 0       0                 0               0             0   \n",
       "\n",
       "           PaperlessBilling  MonthlyCharge  Bandwidth_GB_Year  \n",
       "CaseOrder                                                      \n",
       "1                         1     172.455519         904.536110  \n",
       "2                         1     242.632554         800.982766  \n",
       "3                         1     159.947583        2054.706961  \n",
       "4                         1     119.956840        2164.579412  \n",
       "5                         0     149.948316         271.493436  "
      ]
     },
     "execution_count": 33,
     "metadata": {},
     "output_type": "execute_result"
    }
   ],
   "source": [
    "KNN_prepared_df.head()"
   ]
  },
  {
   "cell_type": "code",
   "execution_count": 34,
   "id": "f6e1b42c",
   "metadata": {
    "scrolled": true
   },
   "outputs": [
    {
     "data": {
      "text/html": [
       "<div>\n",
       "<style scoped>\n",
       "    .dataframe tbody tr th:only-of-type {\n",
       "        vertical-align: middle;\n",
       "    }\n",
       "\n",
       "    .dataframe tbody tr th {\n",
       "        vertical-align: top;\n",
       "    }\n",
       "\n",
       "    .dataframe thead th {\n",
       "        text-align: right;\n",
       "    }\n",
       "</style>\n",
       "<table border=\"1\" class=\"dataframe\">\n",
       "  <thead>\n",
       "    <tr style=\"text-align: right;\">\n",
       "      <th></th>\n",
       "      <th>Churn</th>\n",
       "      <th>Techie</th>\n",
       "      <th>TechSupport</th>\n",
       "      <th>StreamingTV</th>\n",
       "      <th>StreamingMovies</th>\n",
       "      <th>Phone</th>\n",
       "      <th>Multiple</th>\n",
       "      <th>Tablet</th>\n",
       "      <th>DeviceProtection</th>\n",
       "      <th>OnlineSecurity</th>\n",
       "      <th>OnlineBackup</th>\n",
       "      <th>PaperlessBilling</th>\n",
       "      <th>MonthlyCharge</th>\n",
       "      <th>Bandwidth_GB_Year</th>\n",
       "    </tr>\n",
       "  </thead>\n",
       "  <tbody>\n",
       "    <tr>\n",
       "      <th>Churn</th>\n",
       "      <td>1.000000</td>\n",
       "      <td>0.066722</td>\n",
       "      <td>0.018838</td>\n",
       "      <td>0.230151</td>\n",
       "      <td>0.289262</td>\n",
       "      <td>0.026297</td>\n",
       "      <td>0.131771</td>\n",
       "      <td>0.002779</td>\n",
       "      <td>0.056489</td>\n",
       "      <td>0.013540</td>\n",
       "      <td>0.050508</td>\n",
       "      <td>0.007030</td>\n",
       "      <td>0.372938</td>\n",
       "      <td>0.441669</td>\n",
       "    </tr>\n",
       "    <tr>\n",
       "      <th>Bandwidth_GB_Year</th>\n",
       "      <td>0.441669</td>\n",
       "      <td>0.009455</td>\n",
       "      <td>0.000120</td>\n",
       "      <td>0.054314</td>\n",
       "      <td>0.045600</td>\n",
       "      <td>0.001332</td>\n",
       "      <td>0.006823</td>\n",
       "      <td>0.002129</td>\n",
       "      <td>0.007856</td>\n",
       "      <td>0.021006</td>\n",
       "      <td>0.041740</td>\n",
       "      <td>0.002470</td>\n",
       "      <td>0.060406</td>\n",
       "      <td>1.000000</td>\n",
       "    </tr>\n",
       "    <tr>\n",
       "      <th>MonthlyCharge</th>\n",
       "      <td>0.372938</td>\n",
       "      <td>0.007185</td>\n",
       "      <td>0.120301</td>\n",
       "      <td>0.482312</td>\n",
       "      <td>0.608115</td>\n",
       "      <td>0.018977</td>\n",
       "      <td>0.385979</td>\n",
       "      <td>0.007280</td>\n",
       "      <td>0.162735</td>\n",
       "      <td>0.047734</td>\n",
       "      <td>0.259440</td>\n",
       "      <td>0.001348</td>\n",
       "      <td>1.000000</td>\n",
       "      <td>0.060406</td>\n",
       "    </tr>\n",
       "    <tr>\n",
       "      <th>StreamingMovies</th>\n",
       "      <td>0.289262</td>\n",
       "      <td>0.004298</td>\n",
       "      <td>0.013533</td>\n",
       "      <td>0.010516</td>\n",
       "      <td>1.000000</td>\n",
       "      <td>0.002588</td>\n",
       "      <td>0.004691</td>\n",
       "      <td>0.020710</td>\n",
       "      <td>0.019450</td>\n",
       "      <td>0.010575</td>\n",
       "      <td>0.001434</td>\n",
       "      <td>0.000692</td>\n",
       "      <td>0.608115</td>\n",
       "      <td>0.045600</td>\n",
       "    </tr>\n",
       "    <tr>\n",
       "      <th>StreamingTV</th>\n",
       "      <td>0.230151</td>\n",
       "      <td>0.003436</td>\n",
       "      <td>0.003047</td>\n",
       "      <td>1.000000</td>\n",
       "      <td>0.010516</td>\n",
       "      <td>0.012464</td>\n",
       "      <td>0.003097</td>\n",
       "      <td>0.018233</td>\n",
       "      <td>0.002878</td>\n",
       "      <td>0.001415</td>\n",
       "      <td>0.008043</td>\n",
       "      <td>0.016353</td>\n",
       "      <td>0.482312</td>\n",
       "      <td>0.054314</td>\n",
       "    </tr>\n",
       "    <tr>\n",
       "      <th>Multiple</th>\n",
       "      <td>0.131771</td>\n",
       "      <td>0.004661</td>\n",
       "      <td>0.010360</td>\n",
       "      <td>0.003097</td>\n",
       "      <td>0.004691</td>\n",
       "      <td>0.003398</td>\n",
       "      <td>1.000000</td>\n",
       "      <td>0.019828</td>\n",
       "      <td>0.003207</td>\n",
       "      <td>0.002436</td>\n",
       "      <td>0.002566</td>\n",
       "      <td>0.004657</td>\n",
       "      <td>0.385979</td>\n",
       "      <td>0.006823</td>\n",
       "    </tr>\n",
       "    <tr>\n",
       "      <th>Techie</th>\n",
       "      <td>0.066722</td>\n",
       "      <td>1.000000</td>\n",
       "      <td>0.007391</td>\n",
       "      <td>0.003436</td>\n",
       "      <td>0.004298</td>\n",
       "      <td>0.003081</td>\n",
       "      <td>0.004661</td>\n",
       "      <td>0.010992</td>\n",
       "      <td>0.021346</td>\n",
       "      <td>0.015300</td>\n",
       "      <td>0.004540</td>\n",
       "      <td>0.001311</td>\n",
       "      <td>0.007185</td>\n",
       "      <td>0.009455</td>\n",
       "    </tr>\n",
       "    <tr>\n",
       "      <th>DeviceProtection</th>\n",
       "      <td>0.056489</td>\n",
       "      <td>0.021346</td>\n",
       "      <td>0.004475</td>\n",
       "      <td>0.002878</td>\n",
       "      <td>0.019450</td>\n",
       "      <td>0.030339</td>\n",
       "      <td>0.003207</td>\n",
       "      <td>0.005657</td>\n",
       "      <td>1.000000</td>\n",
       "      <td>0.012852</td>\n",
       "      <td>0.009991</td>\n",
       "      <td>0.013166</td>\n",
       "      <td>0.162735</td>\n",
       "      <td>0.007856</td>\n",
       "    </tr>\n",
       "    <tr>\n",
       "      <th>OnlineBackup</th>\n",
       "      <td>0.050508</td>\n",
       "      <td>0.004540</td>\n",
       "      <td>0.002802</td>\n",
       "      <td>0.008043</td>\n",
       "      <td>0.001434</td>\n",
       "      <td>0.003172</td>\n",
       "      <td>0.002566</td>\n",
       "      <td>0.003400</td>\n",
       "      <td>0.009991</td>\n",
       "      <td>0.010338</td>\n",
       "      <td>1.000000</td>\n",
       "      <td>0.010034</td>\n",
       "      <td>0.259440</td>\n",
       "      <td>0.041740</td>\n",
       "    </tr>\n",
       "    <tr>\n",
       "      <th>Phone</th>\n",
       "      <td>0.026297</td>\n",
       "      <td>0.003081</td>\n",
       "      <td>0.005060</td>\n",
       "      <td>0.012464</td>\n",
       "      <td>0.002588</td>\n",
       "      <td>1.000000</td>\n",
       "      <td>0.003398</td>\n",
       "      <td>0.024825</td>\n",
       "      <td>0.030339</td>\n",
       "      <td>0.001177</td>\n",
       "      <td>0.003172</td>\n",
       "      <td>0.009228</td>\n",
       "      <td>0.018977</td>\n",
       "      <td>0.001332</td>\n",
       "    </tr>\n",
       "    <tr>\n",
       "      <th>TechSupport</th>\n",
       "      <td>0.018838</td>\n",
       "      <td>0.007391</td>\n",
       "      <td>1.000000</td>\n",
       "      <td>0.003047</td>\n",
       "      <td>0.013533</td>\n",
       "      <td>0.005060</td>\n",
       "      <td>0.010360</td>\n",
       "      <td>0.010658</td>\n",
       "      <td>0.004475</td>\n",
       "      <td>0.010774</td>\n",
       "      <td>0.002802</td>\n",
       "      <td>0.000944</td>\n",
       "      <td>0.120301</td>\n",
       "      <td>0.000120</td>\n",
       "    </tr>\n",
       "    <tr>\n",
       "      <th>OnlineSecurity</th>\n",
       "      <td>0.013540</td>\n",
       "      <td>0.015300</td>\n",
       "      <td>0.010774</td>\n",
       "      <td>0.001415</td>\n",
       "      <td>0.010575</td>\n",
       "      <td>0.001177</td>\n",
       "      <td>0.002436</td>\n",
       "      <td>0.008849</td>\n",
       "      <td>0.012852</td>\n",
       "      <td>1.000000</td>\n",
       "      <td>0.010338</td>\n",
       "      <td>0.001019</td>\n",
       "      <td>0.047734</td>\n",
       "      <td>0.021006</td>\n",
       "    </tr>\n",
       "    <tr>\n",
       "      <th>PaperlessBilling</th>\n",
       "      <td>0.007030</td>\n",
       "      <td>0.001311</td>\n",
       "      <td>0.000944</td>\n",
       "      <td>0.016353</td>\n",
       "      <td>0.000692</td>\n",
       "      <td>0.009228</td>\n",
       "      <td>0.004657</td>\n",
       "      <td>0.018502</td>\n",
       "      <td>0.013166</td>\n",
       "      <td>0.001019</td>\n",
       "      <td>0.010034</td>\n",
       "      <td>1.000000</td>\n",
       "      <td>0.001348</td>\n",
       "      <td>0.002470</td>\n",
       "    </tr>\n",
       "    <tr>\n",
       "      <th>Tablet</th>\n",
       "      <td>0.002779</td>\n",
       "      <td>0.010992</td>\n",
       "      <td>0.010658</td>\n",
       "      <td>0.018233</td>\n",
       "      <td>0.020710</td>\n",
       "      <td>0.024825</td>\n",
       "      <td>0.019828</td>\n",
       "      <td>1.000000</td>\n",
       "      <td>0.005657</td>\n",
       "      <td>0.008849</td>\n",
       "      <td>0.003400</td>\n",
       "      <td>0.018502</td>\n",
       "      <td>0.007280</td>\n",
       "      <td>0.002129</td>\n",
       "    </tr>\n",
       "  </tbody>\n",
       "</table>\n",
       "</div>"
      ],
      "text/plain": [
       "                      Churn    Techie  TechSupport  StreamingTV  \\\n",
       "Churn              1.000000  0.066722     0.018838     0.230151   \n",
       "Bandwidth_GB_Year  0.441669  0.009455     0.000120     0.054314   \n",
       "MonthlyCharge      0.372938  0.007185     0.120301     0.482312   \n",
       "StreamingMovies    0.289262  0.004298     0.013533     0.010516   \n",
       "StreamingTV        0.230151  0.003436     0.003047     1.000000   \n",
       "Multiple           0.131771  0.004661     0.010360     0.003097   \n",
       "Techie             0.066722  1.000000     0.007391     0.003436   \n",
       "DeviceProtection   0.056489  0.021346     0.004475     0.002878   \n",
       "OnlineBackup       0.050508  0.004540     0.002802     0.008043   \n",
       "Phone              0.026297  0.003081     0.005060     0.012464   \n",
       "TechSupport        0.018838  0.007391     1.000000     0.003047   \n",
       "OnlineSecurity     0.013540  0.015300     0.010774     0.001415   \n",
       "PaperlessBilling   0.007030  0.001311     0.000944     0.016353   \n",
       "Tablet             0.002779  0.010992     0.010658     0.018233   \n",
       "\n",
       "                   StreamingMovies     Phone  Multiple    Tablet  \\\n",
       "Churn                     0.289262  0.026297  0.131771  0.002779   \n",
       "Bandwidth_GB_Year         0.045600  0.001332  0.006823  0.002129   \n",
       "MonthlyCharge             0.608115  0.018977  0.385979  0.007280   \n",
       "StreamingMovies           1.000000  0.002588  0.004691  0.020710   \n",
       "StreamingTV               0.010516  0.012464  0.003097  0.018233   \n",
       "Multiple                  0.004691  0.003398  1.000000  0.019828   \n",
       "Techie                    0.004298  0.003081  0.004661  0.010992   \n",
       "DeviceProtection          0.019450  0.030339  0.003207  0.005657   \n",
       "OnlineBackup              0.001434  0.003172  0.002566  0.003400   \n",
       "Phone                     0.002588  1.000000  0.003398  0.024825   \n",
       "TechSupport               0.013533  0.005060  0.010360  0.010658   \n",
       "OnlineSecurity            0.010575  0.001177  0.002436  0.008849   \n",
       "PaperlessBilling          0.000692  0.009228  0.004657  0.018502   \n",
       "Tablet                    0.020710  0.024825  0.019828  1.000000   \n",
       "\n",
       "                   DeviceProtection  OnlineSecurity  OnlineBackup  \\\n",
       "Churn                      0.056489        0.013540      0.050508   \n",
       "Bandwidth_GB_Year          0.007856        0.021006      0.041740   \n",
       "MonthlyCharge              0.162735        0.047734      0.259440   \n",
       "StreamingMovies            0.019450        0.010575      0.001434   \n",
       "StreamingTV                0.002878        0.001415      0.008043   \n",
       "Multiple                   0.003207        0.002436      0.002566   \n",
       "Techie                     0.021346        0.015300      0.004540   \n",
       "DeviceProtection           1.000000        0.012852      0.009991   \n",
       "OnlineBackup               0.009991        0.010338      1.000000   \n",
       "Phone                      0.030339        0.001177      0.003172   \n",
       "TechSupport                0.004475        0.010774      0.002802   \n",
       "OnlineSecurity             0.012852        1.000000      0.010338   \n",
       "PaperlessBilling           0.013166        0.001019      0.010034   \n",
       "Tablet                     0.005657        0.008849      0.003400   \n",
       "\n",
       "                   PaperlessBilling  MonthlyCharge  Bandwidth_GB_Year  \n",
       "Churn                      0.007030       0.372938           0.441669  \n",
       "Bandwidth_GB_Year          0.002470       0.060406           1.000000  \n",
       "MonthlyCharge              0.001348       1.000000           0.060406  \n",
       "StreamingMovies            0.000692       0.608115           0.045600  \n",
       "StreamingTV                0.016353       0.482312           0.054314  \n",
       "Multiple                   0.004657       0.385979           0.006823  \n",
       "Techie                     0.001311       0.007185           0.009455  \n",
       "DeviceProtection           0.013166       0.162735           0.007856  \n",
       "OnlineBackup               0.010034       0.259440           0.041740  \n",
       "Phone                      0.009228       0.018977           0.001332  \n",
       "TechSupport                0.000944       0.120301           0.000120  \n",
       "OnlineSecurity             0.001019       0.047734           0.021006  \n",
       "PaperlessBilling           1.000000       0.001348           0.002470  \n",
       "Tablet                     0.018502       0.007280           0.002129  "
      ]
     },
     "execution_count": 34,
     "metadata": {},
     "output_type": "execute_result"
    }
   ],
   "source": [
    "#Checking correlations between variables\n",
    "\n",
    "KNN_prepared_df.corr().abs().sort_values(by='Churn', ascending=False)"
   ]
  },
  {
   "cell_type": "code",
   "execution_count": 35,
   "id": "59318932",
   "metadata": {
    "scrolled": true
   },
   "outputs": [
    {
     "data": {
      "text/html": [
       "<div>\n",
       "<style scoped>\n",
       "    .dataframe tbody tr th:only-of-type {\n",
       "        vertical-align: middle;\n",
       "    }\n",
       "\n",
       "    .dataframe tbody tr th {\n",
       "        vertical-align: top;\n",
       "    }\n",
       "\n",
       "    .dataframe thead th {\n",
       "        text-align: right;\n",
       "    }\n",
       "</style>\n",
       "<table border=\"1\" class=\"dataframe\">\n",
       "  <thead>\n",
       "    <tr style=\"text-align: right;\">\n",
       "      <th></th>\n",
       "      <th>Churn</th>\n",
       "      <th>Techie</th>\n",
       "      <th>TechSupport</th>\n",
       "      <th>StreamingTV</th>\n",
       "      <th>StreamingMovies</th>\n",
       "      <th>Phone</th>\n",
       "      <th>Multiple</th>\n",
       "      <th>Tablet</th>\n",
       "      <th>DeviceProtection</th>\n",
       "      <th>OnlineSecurity</th>\n",
       "      <th>OnlineBackup</th>\n",
       "      <th>PaperlessBilling</th>\n",
       "      <th>MonthlyCharge</th>\n",
       "      <th>Bandwidth_GB_Year</th>\n",
       "    </tr>\n",
       "    <tr>\n",
       "      <th>CaseOrder</th>\n",
       "      <th></th>\n",
       "      <th></th>\n",
       "      <th></th>\n",
       "      <th></th>\n",
       "      <th></th>\n",
       "      <th></th>\n",
       "      <th></th>\n",
       "      <th></th>\n",
       "      <th></th>\n",
       "      <th></th>\n",
       "      <th></th>\n",
       "      <th></th>\n",
       "      <th></th>\n",
       "      <th></th>\n",
       "    </tr>\n",
       "  </thead>\n",
       "  <tbody>\n",
       "    <tr>\n",
       "      <th>1</th>\n",
       "      <td>0</td>\n",
       "      <td>0</td>\n",
       "      <td>0</td>\n",
       "      <td>0</td>\n",
       "      <td>1</td>\n",
       "      <td>1</td>\n",
       "      <td>0</td>\n",
       "      <td>1</td>\n",
       "      <td>0</td>\n",
       "      <td>1</td>\n",
       "      <td>1</td>\n",
       "      <td>1</td>\n",
       "      <td>172.455519</td>\n",
       "      <td>904.536110</td>\n",
       "    </tr>\n",
       "    <tr>\n",
       "      <th>2</th>\n",
       "      <td>1</td>\n",
       "      <td>1</td>\n",
       "      <td>0</td>\n",
       "      <td>1</td>\n",
       "      <td>1</td>\n",
       "      <td>1</td>\n",
       "      <td>1</td>\n",
       "      <td>1</td>\n",
       "      <td>0</td>\n",
       "      <td>1</td>\n",
       "      <td>0</td>\n",
       "      <td>1</td>\n",
       "      <td>242.632554</td>\n",
       "      <td>800.982766</td>\n",
       "    </tr>\n",
       "    <tr>\n",
       "      <th>3</th>\n",
       "      <td>0</td>\n",
       "      <td>1</td>\n",
       "      <td>0</td>\n",
       "      <td>0</td>\n",
       "      <td>1</td>\n",
       "      <td>1</td>\n",
       "      <td>1</td>\n",
       "      <td>0</td>\n",
       "      <td>0</td>\n",
       "      <td>0</td>\n",
       "      <td>0</td>\n",
       "      <td>1</td>\n",
       "      <td>159.947583</td>\n",
       "      <td>2054.706961</td>\n",
       "    </tr>\n",
       "    <tr>\n",
       "      <th>4</th>\n",
       "      <td>0</td>\n",
       "      <td>1</td>\n",
       "      <td>0</td>\n",
       "      <td>1</td>\n",
       "      <td>0</td>\n",
       "      <td>1</td>\n",
       "      <td>0</td>\n",
       "      <td>0</td>\n",
       "      <td>0</td>\n",
       "      <td>1</td>\n",
       "      <td>0</td>\n",
       "      <td>1</td>\n",
       "      <td>119.956840</td>\n",
       "      <td>2164.579412</td>\n",
       "    </tr>\n",
       "    <tr>\n",
       "      <th>5</th>\n",
       "      <td>1</td>\n",
       "      <td>0</td>\n",
       "      <td>1</td>\n",
       "      <td>1</td>\n",
       "      <td>0</td>\n",
       "      <td>0</td>\n",
       "      <td>0</td>\n",
       "      <td>0</td>\n",
       "      <td>0</td>\n",
       "      <td>0</td>\n",
       "      <td>0</td>\n",
       "      <td>0</td>\n",
       "      <td>149.948316</td>\n",
       "      <td>271.493436</td>\n",
       "    </tr>\n",
       "  </tbody>\n",
       "</table>\n",
       "</div>"
      ],
      "text/plain": [
       "           Churn  Techie  TechSupport  StreamingTV  StreamingMovies  Phone  \\\n",
       "CaseOrder                                                                    \n",
       "1              0       0            0            0                1      1   \n",
       "2              1       1            0            1                1      1   \n",
       "3              0       1            0            0                1      1   \n",
       "4              0       1            0            1                0      1   \n",
       "5              1       0            1            1                0      0   \n",
       "\n",
       "           Multiple  Tablet  DeviceProtection  OnlineSecurity  OnlineBackup  \\\n",
       "CaseOrder                                                                     \n",
       "1                 0       1                 0               1             1   \n",
       "2                 1       1                 0               1             0   \n",
       "3                 1       0                 0               0             0   \n",
       "4                 0       0                 0               1             0   \n",
       "5                 0       0                 0               0             0   \n",
       "\n",
       "           PaperlessBilling  MonthlyCharge  Bandwidth_GB_Year  \n",
       "CaseOrder                                                      \n",
       "1                         1     172.455519         904.536110  \n",
       "2                         1     242.632554         800.982766  \n",
       "3                         1     159.947583        2054.706961  \n",
       "4                         1     119.956840        2164.579412  \n",
       "5                         0     149.948316         271.493436  "
      ]
     },
     "execution_count": 35,
     "metadata": {},
     "output_type": "execute_result"
    }
   ],
   "source": [
    "#Checking the transformed data one final time prior to exportation into our working .csv file\n",
    "\n",
    "KNN_prepared_df.head()"
   ]
  },
  {
   "cell_type": "markdown",
   "id": "6470c54c",
   "metadata": {},
   "source": [
    "### C4: CLEANED DATA SET\n",
    "* The cell below contains the code run to create the prepared dataset for the KNN model"
   ]
  },
  {
   "cell_type": "code",
   "execution_count": 36,
   "id": "f2096da0",
   "metadata": {},
   "outputs": [],
   "source": [
    "# Save dataframe to CSV and ignore index \n",
    "\n",
    "KNN_prepared_df.to_csv (r'C:\\Users\\neoka\\OneDrive\\Desktop\\WGU MSDA Course Material\\D209\\PA Task 1\\KNN_churn_prepared.csv', index = False)"
   ]
  },
  {
   "cell_type": "markdown",
   "id": "b7fdb533",
   "metadata": {},
   "source": [
    "### D1: SPLITTING THE DATA\n",
    "\n",
    "* In this step, I chose the standard good practice 80:20 split for train-test. This is also known as the Pareto Principle. This principle states that, in most cases, 80% of effects come from 20% of causes (Detective, 2020). "
   ]
  },
  {
   "cell_type": "code",
   "execution_count": 37,
   "id": "119b7c77",
   "metadata": {},
   "outputs": [],
   "source": [
    "#Data split into train data and test data. I will choose the standard good practice train-test split of 80:20,\n",
    "\n",
    "X = df[['Techie', 'TechSupport', 'StreamingTV', 'StreamingMovies', 'Phone', 'Multiple', 'Tablet', 'DeviceProtection', 'OnlineSecurity', 'OnlineBackup', 'PaperlessBilling', 'MonthlyCharge', 'Bandwidth_GB_Year']].assign(const=1)\n",
    "\n",
    "y = df['Churn']\n",
    "\n",
    "X_train, X_test, y_train, y_test = train_test_split(X, y, train_size = 0.8, test_size=0.2, random_state = 42, stratify = y)"
   ]
  },
  {
   "cell_type": "code",
   "execution_count": 38,
   "id": "569900bd",
   "metadata": {},
   "outputs": [],
   "source": [
    "#Saving four train/test datasets for X/y to CSV \n",
    "X_train.to_csv('D209_Task_1_X_train.csv', index=False)\n",
    "X_test.to_csv('D209_Task_1_X_test.csv', index=False)\n",
    "y_train.to_csv('D209_Task_1_y_train.csv', index=False)\n",
    "y_test.to_csv('D209_Task_1_y_test.csv', index=False)"
   ]
  },
  {
   "cell_type": "markdown",
   "id": "e448237c",
   "metadata": {},
   "source": [
    "### D2: OUTPUT AND INTERMEDIATE CALCULATIONS\n",
    "* In order to determine the appropriate value of 'k' for our mode, I used GridSearchCV to test values and pick the one that produces the model with the highest accuracy (Shah, 2024). In our case, this number is 17. Subsequently, I moved forward with KNN classification and generated the AUC score and ROC curve with the code below (Bhandari, 2024). "
   ]
  },
  {
   "cell_type": "code",
   "execution_count": 39,
   "id": "460e5ec1",
   "metadata": {},
   "outputs": [
    {
     "data": {
      "text/plain": [
       "{'n_neighbors': 17}"
      ]
     },
     "execution_count": 39,
     "metadata": {},
     "output_type": "execute_result"
    }
   ],
   "source": [
    "# Determine what is the best number of neighbors to use for KNN classification, from values of k = 1 to k = 50\n",
    "param_grid = {'n_neighbors' : np.arange(1, 50)}\n",
    "\n",
    "# Instantiate the KNeighborsClassifier object\n",
    "knn = KNeighborsClassifier()\n",
    "\n",
    "# Instantiate the GridSearchCV object, searching across the provided parameter grid and 5 fold cross validation\n",
    "knn_cv = GridSearchCV(knn, param_grid, cv=5)\n",
    "\n",
    "# Fit to training data\n",
    "knn_cv.fit(X_train, y_train)\n",
    "\n",
    "# Find best parameter from GridSearchCV\n",
    "knn_cv.best_params_"
   ]
  },
  {
   "cell_type": "code",
   "execution_count": 40,
   "id": "58d618ac",
   "metadata": {},
   "outputs": [
    {
     "data": {
      "text/plain": [
       "0.8258749999999999"
      ]
     },
     "execution_count": 40,
     "metadata": {},
     "output_type": "execute_result"
    }
   ],
   "source": [
    "# Find score of best parameter from GridSearchCV\n",
    "knn_cv.best_score_"
   ]
  },
  {
   "cell_type": "code",
   "execution_count": 41,
   "id": "b31e3a59",
   "metadata": {
    "scrolled": false
   },
   "outputs": [
    {
     "name": "stdout",
     "output_type": "stream",
     "text": [
      "The confusion matrix for this KNN model:\n",
      "Predicted No Churn | Predicted Churn\n",
      "                 [1362  108] Actual No Churn\n",
      "                 [228 302] Actual Churn\n",
      "The training accuracy of this KNN classification is 0.842625.\n",
      "The testing accuracy of this KNN classification model is 0.832.\n"
     ]
    },
    {
     "data": {
      "image/png": "[encoded data removed]",
      "text/plain": [
       "<Figure size 640x480 with 1 Axes>"
      ]
     },
     "metadata": {},
     "output_type": "display_data"
    },
    {
     "name": "stdout",
     "output_type": "stream",
     "text": [
      "The Area Under the Curve (AUC) score is: 0.886940059042485\n",
      "\n",
      "              precision    recall  f1-score   support\n",
      "\n",
      "           0       0.86      0.93      0.89      1470\n",
      "           1       0.74      0.57      0.64       530\n",
      "\n",
      "    accuracy                           0.83      2000\n",
      "   macro avg       0.80      0.75      0.77      2000\n",
      "weighted avg       0.82      0.83      0.82      2000\n",
      "\n"
     ]
    }
   ],
   "source": [
    "# Perform KNN using the value of k=17 from the above grid search\n",
    "knn = KNeighborsClassifier(n_neighbors = 17)\n",
    "\n",
    "# Fit to the training data\n",
    "knn.fit(X_train, y_train)\n",
    "\n",
    "# Generate y_pred array for model's confusion matrix\n",
    "y_pred = knn.predict(X_test)\n",
    "final_matrix = confusion_matrix(y_test, y_pred)\n",
    "\n",
    "# Print confusion matrix and accuracy score of model\n",
    "print(\"The confusion matrix for this KNN model:\")\n",
    "print(\"Predicted No Churn | Predicted Churn\")\n",
    "print(f\"                 {final_matrix[0]} Actual No Churn\")\n",
    "print(f\"                 {final_matrix[1]} Actual Churn\")\n",
    "print(f\"The training accuracy of this KNN classification is {knn.score(X_train, y_train)}.\")\n",
    "print(f\"The testing accuracy of this KNN classification model is {knn.score(X_test, y_test)}.\")\n",
    "\n",
    "\n",
    "# Generate AUC score and print\n",
    "y_pred_prob = knn.predict_proba(X_test)[:, 1]\n",
    "fpr, tpr, thresholds = roc_curve(y_test, y_pred_prob)\n",
    "plt.plot([0, 1], [0, 1], 'k--')\n",
    "plt.plot(fpr, tpr)\n",
    "plt.xlabel('False Positive Rate')\n",
    "plt.ylabel('True Positive Rate')\n",
    "plt.title('ROC Curve for KNN Classification')\n",
    "plt.show()\n",
    "print(f\"The Area Under the Curve (AUC) score is: {roc_auc_score(y_test, y_pred_prob)}\\n\")\n",
    "print(classification_report(y_test, y_pred))\n"
   ]
  },
  {
   "cell_type": "markdown",
   "id": "89fd7648",
   "metadata": {},
   "source": [
    "### D3: CODE EXECUTION"
   ]
  },
  {
   "cell_type": "code",
   "execution_count": 42,
   "id": "0dca8611",
   "metadata": {},
   "outputs": [],
   "source": [
    "#Data split into train data and test data. I will choose the standard good practice train-test split of 80:20,\n",
    "\n",
    "X = df[['Techie', 'TechSupport', 'StreamingTV', 'StreamingMovies', 'Phone', 'Multiple', 'Tablet', 'DeviceProtection', 'OnlineSecurity', 'OnlineBackup', 'PaperlessBilling', 'MonthlyCharge', 'Bandwidth_GB_Year']].assign(const=1)\n",
    "\n",
    "y = df['Churn']\n",
    "\n",
    "X_train, X_test, y_train, y_test = train_test_split(X, y, train_size = 0.8, test_size=0.2, random_state = 42, stratify = y)"
   ]
  },
  {
   "cell_type": "code",
   "execution_count": 43,
   "id": "5d1cbf3b",
   "metadata": {},
   "outputs": [
    {
     "data": {
      "text/plain": [
       "{'n_neighbors': 17}"
      ]
     },
     "execution_count": 43,
     "metadata": {},
     "output_type": "execute_result"
    }
   ],
   "source": [
    "# Determine what is the best number of neighbors to use for KNN classification, from values of k = 1 to k = 50\n",
    "param_grid = {'n_neighbors' : np.arange(1, 50)}\n",
    "\n",
    "# Instantiate the KNeighborsClassifier object\n",
    "knn = KNeighborsClassifier()\n",
    "\n",
    "# Instantiate the GridSearchCV object, searching across the provided parameter grid and 5 fold cross validation\n",
    "knn_cv = GridSearchCV(knn, param_grid, cv=5)\n",
    "\n",
    "# Fit to training data\n",
    "knn_cv.fit(X_train, y_train)\n",
    "\n",
    "# Find best parameter from GridSearchCV\n",
    "knn_cv.best_params_"
   ]
  },
  {
   "cell_type": "code",
   "execution_count": 44,
   "id": "a90eac61",
   "metadata": {},
   "outputs": [
    {
     "data": {
      "text/plain": [
       "0.8258749999999999"
      ]
     },
     "execution_count": 44,
     "metadata": {},
     "output_type": "execute_result"
    }
   ],
   "source": [
    "# Find score of best parameter from GridSearchCV\n",
    "knn_cv.best_score_"
   ]
  },
  {
   "cell_type": "code",
   "execution_count": 45,
   "id": "5834fe2b",
   "metadata": {},
   "outputs": [
    {
     "name": "stdout",
     "output_type": "stream",
     "text": [
      "The confusion matrix for this KNN model:\n",
      "Predicted No Churn | Predicted Churn\n",
      "                 [1362  108] Actual No Churn\n",
      "                 [228 302] Actual Churn\n",
      "The training accuracy of this KNN classification is 0.842625.\n",
      "The testing accuracy of this KNN classification model is 0.832.\n"
     ]
    },
    {
     "data": {
      "image/png": "[encoded data removed]",
      "text/plain": [
       "<Figure size 640x480 with 1 Axes>"
      ]
     },
     "metadata": {},
     "output_type": "display_data"
    },
    {
     "name": "stdout",
     "output_type": "stream",
     "text": [
      "The Area Under the Curve (AUC) score is: 0.886940059042485\n",
      "\n",
      "              precision    recall  f1-score   support\n",
      "\n",
      "           0       0.86      0.93      0.89      1470\n",
      "           1       0.74      0.57      0.64       530\n",
      "\n",
      "    accuracy                           0.83      2000\n",
      "   macro avg       0.80      0.75      0.77      2000\n",
      "weighted avg       0.82      0.83      0.82      2000\n",
      "\n"
     ]
    }
   ],
   "source": [
    "# Perform KNN using the value of k=17 from the above grid search\n",
    "knn = KNeighborsClassifier(n_neighbors = 17)\n",
    "\n",
    "# Fit to the training data\n",
    "knn.fit(X_train, y_train)\n",
    "\n",
    "# Generate y_pred array for model's confusion matrix\n",
    "y_pred = knn.predict(X_test)\n",
    "final_matrix = confusion_matrix(y_test, y_pred)\n",
    "\n",
    "# Print confusion matrix and accuracy score of model\n",
    "print(\"The confusion matrix for this KNN model:\")\n",
    "print(\"Predicted No Churn | Predicted Churn\")\n",
    "print(f\"                 {final_matrix[0]} Actual No Churn\")\n",
    "print(f\"                 {final_matrix[1]} Actual Churn\")\n",
    "print(f\"The training accuracy of this KNN classification is {knn.score(X_train, y_train)}.\")\n",
    "print(f\"The testing accuracy of this KNN classification model is {knn.score(X_test, y_test)}.\")\n",
    "\n",
    "\n",
    "# Generate AUC score and print\n",
    "y_pred_prob = knn.predict_proba(X_test)[:, 1]\n",
    "fpr, tpr, thresholds = roc_curve(y_test, y_pred_prob)\n",
    "plt.plot([0, 1], [0, 1], 'k--')\n",
    "plt.plot(fpr, tpr)\n",
    "plt.xlabel('False Positive Rate')\n",
    "plt.ylabel('True Positive Rate')\n",
    "plt.title('ROC Curve for KNN Classification')\n",
    "plt.show()\n",
    "print(f\"The Area Under the Curve (AUC) score is: {roc_auc_score(y_test, y_pred_prob)}\\n\")\n",
    "print(classification_report(y_test, y_pred))"
   ]
  },
  {
   "cell_type": "markdown",
   "id": "c3d7f593",
   "metadata": {},
   "source": [
    "### E1: ACCURACY AND AUC\n",
    "* The KNN Model is accurate around 83.2% of the time and is about the same as the logistic regression model with accuracy of about 84.3% of the time. According to the report, precision at 0.74 indicates that 74% of samples were predicted as churn and recall at 0.57 indicates that the model correctly identified 57% of the actual churn samples. \n",
    "\n",
    "* An AUC score of 1 would indicate that the model is able to correctly distinguish between all the Positive and the Negative class points. AUC of 0.5 would indicate that the model is randomly guessing and shows an inability to separate positive from negative classes, and AUC of 0 would indicate that the model cannot differentiate between positive and negative classes.\n",
    "\n",
    "* When AUC is greater than 0.5 and less than 1.0 there is a high chance that the classifier will be able to distinguish the positive class values from the negative ones. This is so because the classifier is able to detect more numbers of True positives and True negatives than False negatives and False positives (Ravindrasharmara, 2024).\n"
   ]
  },
  {
   "cell_type": "markdown",
   "id": "651bf991",
   "metadata": {},
   "source": [
    "### E2: RESULTS AND IMPLICATIONS\n",
    "* Our AUC score is 0.887, therefore, it suggests that our model has a good ability to discriminate between the positive and negative classes. Additionally, our accuracy of 83% indicates that the model is performing well. Accuracy values closest to 100% are ideal and our value of 83% comes close enough to this and is a realistic figure, consistent with the industry standard ranges of 70%-90% (How to know if your machine learning model has good performance: Obviously ai). "
   ]
  },
  {
   "cell_type": "markdown",
   "id": "f81ac9a8",
   "metadata": {},
   "source": [
    "### E3: LIMITATION\n",
    "* A potential limitation of this analysis could stem from the distance metric used in the model. I opted for the default Euclidean distance in my model which is suited for quantitative data. However, it is possible that the Jaccard index as the distance metric might be more appropriate since it is often used in applications when dealing with binarized data, which can apply to our case since we re-expressed our nominal categorical variables into 1/0 format (Hachcham, 2023). \n",
    "\n",
    "* Another possible limitation is the fact that churn can be a more complex variable. For example, is it churn if a customer only cancels a portion of their service and does not completely cease being a customer of the telecommunications provider? "
   ]
  },
  {
   "cell_type": "markdown",
   "id": "4aabd9fd",
   "metadata": {},
   "source": [
    "### E4: COURSE OF ACTION\n",
    "* My suggested course of action would be to ask the company if they have any additional metrics that causes them to label a customer a churn. Additionally, I would suggest that they make a more detailed threshold to consider a churn or no churn. For example, cancellation of 3 or more services would not be a churn, however, anytning above that to a complete cancellation of all services is a true churn. Also, a larger sample size beyond 10,000 observations might be more beneficial in trying to predict a complicated metric such as churn. "
   ]
  },
  {
   "cell_type": "markdown",
   "id": "8b20f1cf",
   "metadata": {},
   "source": [
    "### F: PANOPTO RECORDING\n",
    "* My Panopto Submission can be found at the following link: https://wgu.hosted.panopto.com/Panopto/Pages/Viewer.aspx?id=d27b279d-add9-4b31-aade-b243004d76e3"
   ]
  },
  {
   "cell_type": "markdown",
   "id": "6b505edf",
   "metadata": {},
   "source": [
    "### G: SOURCES FOR THIRD-PARTY CODE\n",
    "Bhandari, A. (2024, December 10). Guide to AUC ROC curve in machine learning. Analytics Vidhya. https://www.analyticsvidhya.com/blog/2020/06/auc-roc-curve-machine-learning/ \n",
    "\n",
    "Shah, R. (2024, November 8). Tune hyperparameters with GRIDSEARCHCV. Analytics Vidhya. https://www.analyticsvidhya.com/blog/2021/06/tune-hyperparameters-with-gridsearchcv/ "
   ]
  },
  {
   "cell_type": "markdown",
   "id": "89df8148",
   "metadata": {},
   "source": [
    "### H: SOURCES\n",
    "Bhandari, A. (2024, December 10). Guide to AUC ROC curve in machine learning. Analytics Vidhya. https://www.analyticsvidhya.com/blog/2020/06/auc-roc-curve-machine-learning/ \n",
    "\n",
    "Detective, T. D. (2020, January 31). Finally: Why we use an 80/20 split for training and Test Data Plus an alternative method (oh yes...). Medium. https://towardsdatascience.com/finally-why-we-use-an-80-20-split-for-training-and-test-data-plus-an-alternative-method-oh-yes-edc77e96295d \n",
    "\n",
    "GeeksforGeeks. (2024, July 15). K-Nearest Neighbor(KNN) algorithm. GeeksforGeeks. https://www.geeksforgeeks.org/k-nearest-neighbours/ \n",
    "\n",
    "Hachcham, A. (2023, August 11). The KNN algorithm - explanation, opportunities, limitations. neptune.ai. https://neptune.ai/blog/knn-algorithm-explanation-opportunities-limitations \n",
    "\n",
    "How to know if your machine learning model has good performance: Obviously ai. Data Science without Code. (n.d.). https://www.obviously.ai/post/machine-learning-model-performance#:~:text=But%20in%20our%20opinion%2C%20anything,not%20only%20ideal%2C%20it’s%20realistic. \n",
    "\n",
    "Kumar, A. (2020, May 27). KNN algorithm: What?when?why?how?. Medium. https://towardsdatascience.com/knn-algorithm-what-when-why-how-41405c16c36f \n",
    "\n",
    "Ravindrasharmara. (2024, August 6). Auc Roc Curve in machine learning. GeeksforGeeks. https://www.geeksforgeeks.org/auc-roc-curve/ \n",
    "\n",
    "Shah, R. (2024, November 8). Tune hyperparameters with GRIDSEARCHCV. Analytics Vidhya. https://www.analyticsvidhya.com/blog/2021/06/tune-hyperparameters-with-gridsearchcv/ \n",
    "\n",
    "Sharma, P. (2024, December 10). Understanding distance metrics used in machine learning. Analytics Vidhya. https://www.analyticsvidhya.com/blog/2020/02/4-types-of-distance-metrics-in-machine-learning/ "
   ]
  }
 ],
 "metadata": {
  "kernelspec": {
   "display_name": "Python 3 (ipykernel)",
   "language": "python",
   "name": "python3"
  },
  "language_info": {
   "codemirror_mode": {
    "name": "ipython",
    "version": 3
   },
   "file_extension": ".py",
   "mimetype": "text/x-python",
   "name": "python",
   "nbconvert_exporter": "python",
   "pygments_lexer": "ipython3",
   "version": "3.11.4"
  }
 },
 "nbformat": 4,
 "nbformat_minor": 5
}
