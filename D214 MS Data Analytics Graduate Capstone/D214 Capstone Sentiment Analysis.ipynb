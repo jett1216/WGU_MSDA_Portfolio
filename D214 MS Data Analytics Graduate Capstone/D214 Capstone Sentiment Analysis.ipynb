{
 "cells": [
  {
   "cell_type": "markdown",
   "id": "b30eaf61",
   "metadata": {},
   "source": [
    "#  Twitter Sentiment Analysis on Company Stock - Sentiment Analysis with Neural Networks and VADER \n"
   ]
  },
  {
   "cell_type": "markdown",
   "id": "42377915",
   "metadata": {},
   "source": [
    "## Jan Francis Mitchell Barlaan"
   ]
  },
  {
   "cell_type": "markdown",
   "id": "9e44568a-2532-491d-bc9e-a49155a68820",
   "metadata": {},
   "source": [
    "### Student ID: 011282929"
   ]
  },
  {
   "cell_type": "markdown",
   "id": "900251cd-f017-4d9e-9f79-a0ce5981fc98",
   "metadata": {},
   "source": [
    "### A1: Research Question"
   ]
  },
  {
   "cell_type": "markdown",
   "id": "c3fed747-5a98-42e4-ad7c-d6337a6bf0e7",
   "metadata": {},
   "source": [
    "* Using neural networks such as LSTM combined with other sentiment analysis techniques such as VADER, can we create a model that can accurately predict people's current sentiments and feelings towards investing in a company's stock, whether positive or negative, based on social media texts such as their tweets?"
   ]
  },
  {
   "cell_type": "markdown",
   "id": "b33f11e8",
   "metadata": {},
   "source": [
    "### A2: Context and Justification"
   ]
  },
  {
   "cell_type": "markdown",
   "id": "8d4bdd54",
   "metadata": {},
   "source": [
    "*\tCreating a model based on neural networks and VADER that can accurately conduct sentiment analysis on texts such as social media tweets can help gauge overall public opinion on company stocks. Those with positive sentiments may be worth investing in at that moment, while those carrying more negative public sentiments should be treated more cautiously when investing.\n",
    "*\tCombining Lexicon-based methods such as VADER with neural networks such as CNN-LSTMs is advantageous due to its hybrid nature. Lexicon-based methods rely on predefined dictionaries and provide a foundation for understanding sentiment, particularly for domain-specific language or less-trained deep-learning models. VADER is particularly suited to social media texts such as Tweets (Adam, 2023).\n",
    "*\tConversely, CNN-LSTM models excel at capturing contextual information and dependencies in text sequences. These types of networks can capture the nuances of language, including irony, sarcasm, and context-dependent meanings, which lexicons may struggle to process.\n",
    "*\tFor example, a customer review could say, \"The product is great, but the customer service was horrible.\" VADER might identify \"great\" as positive and \"horrible\" as negative. An LSTM network, however, can understand the context and relationship between these words, potentially recognizing that the overall sentiment of the review is negative due to the customer service experience. \n",
    "*\tFurther study and application of a model based on this type of sentiment analysis can be combined with forecasting methods such as time series analysis or even basic linear regression to determine whether a correlation of some sort exists between the current public opinion of a company/stock and whether the closing price of that stock increased or decreased relative to its opening price, however, for this capstone project, only the sentiment analysis portion will be conducted.\n"
   ]
  },
  {
   "cell_type": "markdown",
   "id": "16708a81-3b93-4ec2-9c64-a5070cc2363d",
   "metadata": {},
   "source": [
    "### A3: Hypotheses"
   ]
  },
  {
   "cell_type": "markdown",
   "id": "67c5695f-4c28-4a18-a7a4-46e4f4d57883",
   "metadata": {},
   "source": [
    "*\tNull hypothesis (H0) - Using neural networks and VADER, we cannot create a model that can accurately predict the sentiment behind a tweet or review with at least 70% accuracy. \n",
    "*\tAlternate Hypothesis (H1) - Using neural networks and VADER, we can successfully create a model that can accurately predict the sentiment behind a tweet or review with at least 70% accuracy. \n",
    "                  "
   ]
  },
  {
   "cell_type": "markdown",
   "id": "22a06fe0-abca-4eb9-be9c-cf801bed75e8",
   "metadata": {},
   "source": [
    "### B1: Data Collection"
   ]
  },
  {
   "cell_type": "markdown",
   "id": "91e101f5-c82c-4968-9e1e-54db4483ae3c",
   "metadata": {},
   "source": [
    "*\tThe Twitter data used in this analysis was obtained publicly through Kaggle and is stored in a CSV format. The raw data is composed of 80,794 different rows and four columns, with the first row being the header. Each row comprises the following columns: the Date, Tweet, Stock Name, and Company Name (Yukhymenko, 2022).\n",
    "*\tAn advantage this dataset holds is that it consists of 80,793 observations involving different companies. \n",
    "*\tOne disadvantage of this dataset is that it only covers sentiments from one social media platform, Twitter. This disadvantage can lend itself to a potential social media platform bias.\n",
    "*\tThe rubric specifies challenges regarding the collection of the data. However,  no real challenge was encountered or found in acquiring the dataset through Kaggle since it simply entailed downloading the compressed zip file and extracting the folder containing the necessary CSV file into the preferred directories on the system. \n"
   ]
  },
  {
   "cell_type": "markdown",
   "id": "f204f703-6651-44ca-82e5-3cd88276144a",
   "metadata": {},
   "source": [
    "### C: Data Extraction and Preparation"
   ]
  },
  {
   "cell_type": "markdown",
   "id": "891cd4c5-23a2-4cc2-b395-09cc1a99cf78",
   "metadata": {},
   "source": [
    "* Several tools and functions were used within the Jupyter Notebooks IDE using Python kernel, but the main tools used involved VADER, Tensorflow/Keras, NLTK, pandas, matplotlib, and seaborn.\n",
    "*\tVADER, Tensorflow/Keras, and NLTK were used for preparation and later analysis. Pandas, matplotlib, and seaborn were used in data visualization tasks.\n",
    "*\tThe steps below are outlined to describe the sequence of data extraction and preparation.\n"
   ]
  },
  {
   "cell_type": "markdown",
   "id": "7667d592-6202-4845-9353-555c6df3ded0",
   "metadata": {},
   "source": [
    "#### C1a: Steps to prepare the data\n",
    "*\tNecessary packages and the beginning dataset were imported\n",
    "*\tEDA was performed\n",
    "*\tData cleaning was performed\n",
    "*\tVocabulary size was determined\n",
    "*\tVADER Sentiment Intensity Analyzer was used to label the tweet sentiments\n",
    "*\tPlot the value counts of the sentiments to visualize the distribution\n",
    "*\tThe proposed word embedding length was determined\n",
    "*\tMaximum sequence length was determined\n",
    "*\tData tokenization\n",
    "*\tData padding\n",
    "*\tDetermined the number of categories\n",
    "*\tData was split into training, validation, and test sets\n",
    "*\tTrain, test, validation, and whole cleaned data sets were saved into individual CSV files\n"
   ]
  },
  {
   "cell_type": "markdown",
   "id": "4ad69f0e-0dc2-497a-ae42-e3438b2073cf",
   "metadata": {},
   "source": [
    "* The code below is used to perform all of the data preparation steps described above."
   ]
  },
  {
   "cell_type": "markdown",
   "id": "a18e5d2d",
   "metadata": {},
   "source": [
    "#### C1b: Data Cleaning and Exploration\n"
   ]
  },
  {
   "cell_type": "markdown",
   "id": "f864bf2b-7eba-4ae9-ab2b-f80f4798e88b",
   "metadata": {},
   "source": [
    "* The following packages were imported and used in the processes of both preparing and analyzing the data."
   ]
  },
  {
   "cell_type": "code",
   "execution_count": 23,
   "id": "08748703",
   "metadata": {
    "scrolled": true
   },
   "outputs": [],
   "source": [
    "# Import necessary packages \n",
    "\n",
    "import pandas as pd\n",
    "import numpy as np\n",
    "import csv\n",
    "\n",
    "import matplotlib.pyplot as plt\n",
    "import seaborn as sns\n",
    "\n",
    "import re\n",
    "\n",
    "import tensorflow as tf\n",
    "\n",
    "import keras\n",
    "\n",
    "import nltk\n",
    "from nltk.sentiment.vader import SentimentIntensityAnalyzer\n",
    "from sklearn.model_selection import train_test_split\n",
    "from tensorflow.keras.preprocessing.text import Tokenizer\n",
    "from tensorflow.keras.preprocessing.sequence import pad_sequences\n",
    "from tensorflow.keras.models import Sequential\n",
    "from tensorflow.keras.layers import Embedding, LSTM, Dense\n",
    "from tensorflow.keras.callbacks import EarlyStopping\n",
    "from tensorflow.keras.models import load_model\n",
    "\n",
    "\n",
    "import warnings\n",
    "warnings.filterwarnings(\"ignore\")\n",
    "\n"
   ]
  },
  {
   "cell_type": "markdown",
   "id": "ba82119c-1158-4f90-ae8c-4f70cffe0c13",
   "metadata": {},
   "source": [
    "* Only one CSV required importation for this analysis, the stock_tweets.csv file, which was obtained from Kaggle."
   ]
  },
  {
   "cell_type": "code",
   "execution_count": 25,
   "id": "70389fe0-3c39-4f42-a312-f68e87e0c20c",
   "metadata": {
    "scrolled": true
   },
   "outputs": [],
   "source": [
    "#Import csv\n",
    "\n",
    "df = pd.read_csv(r\"C:\\Users\\neoka\\OneDrive\\Desktop\\WGU MSDA Course Material\\D214\\Stock Tweets for Sentiment Analysis and Prediction\\stock_tweets.csv\") \n",
    "\n"
   ]
  },
  {
   "cell_type": "markdown",
   "id": "30271b61-c990-4c60-9905-495dab272bd8",
   "metadata": {},
   "source": [
    "* After the importation of the csv, the data frame was observed via the head, info, and shape functions in order to validate the structure."
   ]
  },
  {
   "cell_type": "code",
   "execution_count": 27,
   "id": "049796d9-02c8-41ea-9cde-2094ec78ada4",
   "metadata": {},
   "outputs": [
    {
     "data": {
      "text/html": [
       "<div>\n",
       "<style scoped>\n",
       "    .dataframe tbody tr th:only-of-type {\n",
       "        vertical-align: middle;\n",
       "    }\n",
       "\n",
       "    .dataframe tbody tr th {\n",
       "        vertical-align: top;\n",
       "    }\n",
       "\n",
       "    .dataframe thead th {\n",
       "        text-align: right;\n",
       "    }\n",
       "</style>\n",
       "<table border=\"1\" class=\"dataframe\">\n",
       "  <thead>\n",
       "    <tr style=\"text-align: right;\">\n",
       "      <th></th>\n",
       "      <th>Date</th>\n",
       "      <th>Tweet</th>\n",
       "      <th>Stock Name</th>\n",
       "      <th>Company Name</th>\n",
       "    </tr>\n",
       "  </thead>\n",
       "  <tbody>\n",
       "    <tr>\n",
       "      <th>0</th>\n",
       "      <td>2022-09-29 23:41:16+00:00</td>\n",
       "      <td>Mainstream media has done an amazing job at br...</td>\n",
       "      <td>TSLA</td>\n",
       "      <td>Tesla, Inc.</td>\n",
       "    </tr>\n",
       "    <tr>\n",
       "      <th>1</th>\n",
       "      <td>2022-09-29 23:24:43+00:00</td>\n",
       "      <td>Tesla delivery estimates are at around 364k fr...</td>\n",
       "      <td>TSLA</td>\n",
       "      <td>Tesla, Inc.</td>\n",
       "    </tr>\n",
       "    <tr>\n",
       "      <th>2</th>\n",
       "      <td>2022-09-29 23:18:08+00:00</td>\n",
       "      <td>3/ Even if I include 63.0M unvested RSUs as of...</td>\n",
       "      <td>TSLA</td>\n",
       "      <td>Tesla, Inc.</td>\n",
       "    </tr>\n",
       "    <tr>\n",
       "      <th>3</th>\n",
       "      <td>2022-09-29 22:40:07+00:00</td>\n",
       "      <td>@RealDanODowd @WholeMarsBlog @Tesla Hahaha why...</td>\n",
       "      <td>TSLA</td>\n",
       "      <td>Tesla, Inc.</td>\n",
       "    </tr>\n",
       "    <tr>\n",
       "      <th>4</th>\n",
       "      <td>2022-09-29 22:27:05+00:00</td>\n",
       "      <td>@RealDanODowd @Tesla Stop trying to kill kids,...</td>\n",
       "      <td>TSLA</td>\n",
       "      <td>Tesla, Inc.</td>\n",
       "    </tr>\n",
       "    <tr>\n",
       "      <th>...</th>\n",
       "      <td>...</td>\n",
       "      <td>...</td>\n",
       "      <td>...</td>\n",
       "      <td>...</td>\n",
       "    </tr>\n",
       "    <tr>\n",
       "      <th>80788</th>\n",
       "      <td>2021-10-07 17:11:57+00:00</td>\n",
       "      <td>Some of the fastest growing tech stocks on the...</td>\n",
       "      <td>XPEV</td>\n",
       "      <td>XPeng Inc.</td>\n",
       "    </tr>\n",
       "    <tr>\n",
       "      <th>80789</th>\n",
       "      <td>2021-10-04 17:05:59+00:00</td>\n",
       "      <td>With earnings on the horizon, here is a quick ...</td>\n",
       "      <td>XPEV</td>\n",
       "      <td>XPeng Inc.</td>\n",
       "    </tr>\n",
       "    <tr>\n",
       "      <th>80790</th>\n",
       "      <td>2021-10-01 04:43:41+00:00</td>\n",
       "      <td>Our record delivery results are a testimony of...</td>\n",
       "      <td>XPEV</td>\n",
       "      <td>XPeng Inc.</td>\n",
       "    </tr>\n",
       "    <tr>\n",
       "      <th>80791</th>\n",
       "      <td>2021-10-01 00:03:32+00:00</td>\n",
       "      <td>We delivered 10,412 Smart EVs in Sep 2021, rea...</td>\n",
       "      <td>XPEV</td>\n",
       "      <td>XPeng Inc.</td>\n",
       "    </tr>\n",
       "    <tr>\n",
       "      <th>80792</th>\n",
       "      <td>2021-09-30 10:22:52+00:00</td>\n",
       "      <td>Why can XPeng P5 deliver outstanding performan...</td>\n",
       "      <td>XPEV</td>\n",
       "      <td>XPeng Inc.</td>\n",
       "    </tr>\n",
       "  </tbody>\n",
       "</table>\n",
       "<p>80793 rows × 4 columns</p>\n",
       "</div>"
      ],
      "text/plain": [
       "                            Date  \\\n",
       "0      2022-09-29 23:41:16+00:00   \n",
       "1      2022-09-29 23:24:43+00:00   \n",
       "2      2022-09-29 23:18:08+00:00   \n",
       "3      2022-09-29 22:40:07+00:00   \n",
       "4      2022-09-29 22:27:05+00:00   \n",
       "...                          ...   \n",
       "80788  2021-10-07 17:11:57+00:00   \n",
       "80789  2021-10-04 17:05:59+00:00   \n",
       "80790  2021-10-01 04:43:41+00:00   \n",
       "80791  2021-10-01 00:03:32+00:00   \n",
       "80792  2021-09-30 10:22:52+00:00   \n",
       "\n",
       "                                                   Tweet Stock Name  \\\n",
       "0      Mainstream media has done an amazing job at br...       TSLA   \n",
       "1      Tesla delivery estimates are at around 364k fr...       TSLA   \n",
       "2      3/ Even if I include 63.0M unvested RSUs as of...       TSLA   \n",
       "3      @RealDanODowd @WholeMarsBlog @Tesla Hahaha why...       TSLA   \n",
       "4      @RealDanODowd @Tesla Stop trying to kill kids,...       TSLA   \n",
       "...                                                  ...        ...   \n",
       "80788  Some of the fastest growing tech stocks on the...       XPEV   \n",
       "80789  With earnings on the horizon, here is a quick ...       XPEV   \n",
       "80790  Our record delivery results are a testimony of...       XPEV   \n",
       "80791  We delivered 10,412 Smart EVs in Sep 2021, rea...       XPEV   \n",
       "80792  Why can XPeng P5 deliver outstanding performan...       XPEV   \n",
       "\n",
       "      Company Name  \n",
       "0      Tesla, Inc.  \n",
       "1      Tesla, Inc.  \n",
       "2      Tesla, Inc.  \n",
       "3      Tesla, Inc.  \n",
       "4      Tesla, Inc.  \n",
       "...            ...  \n",
       "80788   XPeng Inc.  \n",
       "80789   XPeng Inc.  \n",
       "80790   XPeng Inc.  \n",
       "80791   XPeng Inc.  \n",
       "80792   XPeng Inc.  \n",
       "\n",
       "[80793 rows x 4 columns]"
      ]
     },
     "execution_count": 27,
     "metadata": {},
     "output_type": "execute_result"
    }
   ],
   "source": [
    "#Preview dataframe\n",
    "\n",
    "df"
   ]
  },
  {
   "cell_type": "code",
   "execution_count": 28,
   "id": "b30096cc-43b0-445d-bd82-dff5ad181320",
   "metadata": {},
   "outputs": [
    {
     "data": {
      "text/html": [
       "<div>\n",
       "<style scoped>\n",
       "    .dataframe tbody tr th:only-of-type {\n",
       "        vertical-align: middle;\n",
       "    }\n",
       "\n",
       "    .dataframe tbody tr th {\n",
       "        vertical-align: top;\n",
       "    }\n",
       "\n",
       "    .dataframe thead th {\n",
       "        text-align: right;\n",
       "    }\n",
       "</style>\n",
       "<table border=\"1\" class=\"dataframe\">\n",
       "  <thead>\n",
       "    <tr style=\"text-align: right;\">\n",
       "      <th></th>\n",
       "      <th>Date</th>\n",
       "      <th>Tweet</th>\n",
       "      <th>Stock Name</th>\n",
       "      <th>Company Name</th>\n",
       "    </tr>\n",
       "  </thead>\n",
       "  <tbody>\n",
       "    <tr>\n",
       "      <th>0</th>\n",
       "      <td>2022-09-29 23:41:16+00:00</td>\n",
       "      <td>Mainstream media has done an amazing job at br...</td>\n",
       "      <td>TSLA</td>\n",
       "      <td>Tesla, Inc.</td>\n",
       "    </tr>\n",
       "    <tr>\n",
       "      <th>1</th>\n",
       "      <td>2022-09-29 23:24:43+00:00</td>\n",
       "      <td>Tesla delivery estimates are at around 364k fr...</td>\n",
       "      <td>TSLA</td>\n",
       "      <td>Tesla, Inc.</td>\n",
       "    </tr>\n",
       "    <tr>\n",
       "      <th>2</th>\n",
       "      <td>2022-09-29 23:18:08+00:00</td>\n",
       "      <td>3/ Even if I include 63.0M unvested RSUs as of...</td>\n",
       "      <td>TSLA</td>\n",
       "      <td>Tesla, Inc.</td>\n",
       "    </tr>\n",
       "    <tr>\n",
       "      <th>3</th>\n",
       "      <td>2022-09-29 22:40:07+00:00</td>\n",
       "      <td>@RealDanODowd @WholeMarsBlog @Tesla Hahaha why...</td>\n",
       "      <td>TSLA</td>\n",
       "      <td>Tesla, Inc.</td>\n",
       "    </tr>\n",
       "    <tr>\n",
       "      <th>4</th>\n",
       "      <td>2022-09-29 22:27:05+00:00</td>\n",
       "      <td>@RealDanODowd @Tesla Stop trying to kill kids,...</td>\n",
       "      <td>TSLA</td>\n",
       "      <td>Tesla, Inc.</td>\n",
       "    </tr>\n",
       "  </tbody>\n",
       "</table>\n",
       "</div>"
      ],
      "text/plain": [
       "                        Date  \\\n",
       "0  2022-09-29 23:41:16+00:00   \n",
       "1  2022-09-29 23:24:43+00:00   \n",
       "2  2022-09-29 23:18:08+00:00   \n",
       "3  2022-09-29 22:40:07+00:00   \n",
       "4  2022-09-29 22:27:05+00:00   \n",
       "\n",
       "                                               Tweet Stock Name Company Name  \n",
       "0  Mainstream media has done an amazing job at br...       TSLA  Tesla, Inc.  \n",
       "1  Tesla delivery estimates are at around 364k fr...       TSLA  Tesla, Inc.  \n",
       "2  3/ Even if I include 63.0M unvested RSUs as of...       TSLA  Tesla, Inc.  \n",
       "3  @RealDanODowd @WholeMarsBlog @Tesla Hahaha why...       TSLA  Tesla, Inc.  \n",
       "4  @RealDanODowd @Tesla Stop trying to kill kids,...       TSLA  Tesla, Inc.  "
      ]
     },
     "execution_count": 28,
     "metadata": {},
     "output_type": "execute_result"
    }
   ],
   "source": [
    "# Validates the structure and displays the first 5 rows of the new dataframe  \n",
    "\n",
    "df.head()"
   ]
  },
  {
   "cell_type": "code",
   "execution_count": 29,
   "id": "1eb4292b-52f1-477a-883f-a1427cafeddd",
   "metadata": {},
   "outputs": [
    {
     "data": {
      "text/plain": [
       "(80793, 4)"
      ]
     },
     "execution_count": 29,
     "metadata": {},
     "output_type": "execute_result"
    }
   ],
   "source": [
    "# Shows the number of observations and variables (rows and columns)\n",
    "\n",
    "df.shape"
   ]
  },
  {
   "cell_type": "code",
   "execution_count": 30,
   "id": "e19feaf6-399c-4f66-b1e5-b54c572b9391",
   "metadata": {
    "scrolled": true
   },
   "outputs": [
    {
     "name": "stdout",
     "output_type": "stream",
     "text": [
      "<class 'pandas.core.frame.DataFrame'>\n",
      "RangeIndex: 80793 entries, 0 to 80792\n",
      "Data columns (total 4 columns):\n",
      " #   Column        Non-Null Count  Dtype \n",
      "---  ------        --------------  ----- \n",
      " 0   Date          80793 non-null  object\n",
      " 1   Tweet         80793 non-null  object\n",
      " 2   Stock Name    80793 non-null  object\n",
      " 3   Company Name  80793 non-null  object\n",
      "dtypes: object(4)\n",
      "memory usage: 2.5+ MB\n"
     ]
    }
   ],
   "source": [
    "# Shows information about the dataframe such as types, etc.\n",
    "\n",
    "\n",
    "df.info()"
   ]
  },
  {
   "cell_type": "markdown",
   "id": "375c5102-b36d-47ef-86cf-b7c4f130a664",
   "metadata": {},
   "source": [
    "* Next, we check for the presence of duplicates."
   ]
  },
  {
   "cell_type": "code",
   "execution_count": 32,
   "id": "1f1e8ea8-c068-4c24-bb6d-1d2388a01f2e",
   "metadata": {},
   "outputs": [
    {
     "data": {
      "text/plain": [
       "0        False\n",
       "1        False\n",
       "2        False\n",
       "3        False\n",
       "4        False\n",
       "         ...  \n",
       "80788    False\n",
       "80789    False\n",
       "80790    False\n",
       "80791    False\n",
       "80792    False\n",
       "Length: 80793, dtype: bool"
      ]
     },
     "execution_count": 32,
     "metadata": {},
     "output_type": "execute_result"
    }
   ],
   "source": [
    "#Check for duplicates\n",
    "\n",
    "df.duplicated()"
   ]
  },
  {
   "cell_type": "code",
   "execution_count": 33,
   "id": "a51a0508-d88c-4764-9572-4815baebcbc9",
   "metadata": {},
   "outputs": [
    {
     "name": "stdout",
     "output_type": "stream",
     "text": [
      "False    80793\n",
      "Name: count, dtype: int64\n"
     ]
    }
   ],
   "source": [
    "#Show number of duplicates. False = no duplicates\n",
    "\n",
    "print(df.duplicated().value_counts())"
   ]
  },
  {
   "cell_type": "markdown",
   "id": "9c5f643e-486b-4a67-9f4c-af4071e79908",
   "metadata": {},
   "source": [
    "* No duplicate entries were found. Therefore, we moved on to check for nulls."
   ]
  },
  {
   "cell_type": "code",
   "execution_count": 35,
   "id": "1b98d6fe",
   "metadata": {},
   "outputs": [
    {
     "data": {
      "text/plain": [
       "Date            0\n",
       "Tweet           0\n",
       "Stock Name      0\n",
       "Company Name    0\n",
       "dtype: int64"
      ]
     },
     "execution_count": 35,
     "metadata": {},
     "output_type": "execute_result"
    }
   ],
   "source": [
    "#Count of null/missing values in each column\n",
    "\n",
    "df.isnull().sum()"
   ]
  },
  {
   "cell_type": "markdown",
   "id": "1cfea01c-967d-409f-85c0-f4097bb0c824",
   "metadata": {},
   "source": [
    "* No nulls were found, missingno was also used to confirm the lack of nulls visually."
   ]
  },
  {
   "cell_type": "code",
   "execution_count": 37,
   "id": "efb1f9a8",
   "metadata": {},
   "outputs": [
    {
     "data": {
      "image/png": "[encoded data removed]",
      "text/plain": [
       "<Figure size 2500x1000 with 2 Axes>"
      ]
     },
     "metadata": {},
     "output_type": "display_data"
    }
   ],
   "source": [
    "#Import missingno to visualize missing/null values \n",
    "\n",
    "import missingno as msno\n",
    "msno.matrix(df, fontsize=12, labels=True)\n",
    "plt.title('Missing data matrix')\n",
    "plt.show()\n"
   ]
  },
  {
   "cell_type": "markdown",
   "id": "b45e6e71-4be1-406b-b659-adc23fbec0e0",
   "metadata": {},
   "source": [
    "* The following VADER Sentiment Analysis is counted as a data preparation step in the case of this specific dataset since the tweets are unlabeled regarding sentiment."
   ]
  },
  {
   "cell_type": "markdown",
   "id": "96277f8e-d261-4564-b8c2-4dc3255babfe",
   "metadata": {},
   "source": [
    "* VADER Sentiment Intensity Analyzer can label text sentiments as positive, negative, or neutral. Only positive and negative sentiments will be labeled for simplicity and the purpose of this analysis. Code from a Medium article was adapted and slightly modified to perform the following sentiment labeling (Adam, 2023)."
   ]
  },
  {
   "cell_type": "code",
   "execution_count": 40,
   "id": "15f0a40a-f71a-4878-97fe-85e2eddbfe1f",
   "metadata": {},
   "outputs": [],
   "source": [
    "# Initialize VADER sentiment analyzer\n",
    "\n",
    "analyzer = SentimentIntensityAnalyzer()\n"
   ]
  },
  {
   "cell_type": "code",
   "execution_count": 41,
   "id": "e1364ff7-68da-4034-ae46-2f2459bd843d",
   "metadata": {},
   "outputs": [],
   "source": [
    "# Function to label sentiments as positive or negative (excluding neutral)\n",
    "\n",
    "def label_sentiment(text):\n",
    "    scores = analyzer.polarity_scores(text)\n",
    "    if scores['compound'] >= 0.05:\n",
    "        return 'positive'\n",
    "    elif scores['compound'] <= -0.05:\n",
    "        return 'negative'\n",
    "    else:\n",
    "        return None  # Exclude neutral sentiments\n",
    "\n"
   ]
  },
  {
   "cell_type": "code",
   "execution_count": 42,
   "id": "8b72da83-c925-4c68-a524-44de1248fefd",
   "metadata": {},
   "outputs": [
    {
     "data": {
      "text/html": [
       "<div>\n",
       "<style scoped>\n",
       "    .dataframe tbody tr th:only-of-type {\n",
       "        vertical-align: middle;\n",
       "    }\n",
       "\n",
       "    .dataframe tbody tr th {\n",
       "        vertical-align: top;\n",
       "    }\n",
       "\n",
       "    .dataframe thead th {\n",
       "        text-align: right;\n",
       "    }\n",
       "</style>\n",
       "<table border=\"1\" class=\"dataframe\">\n",
       "  <thead>\n",
       "    <tr style=\"text-align: right;\">\n",
       "      <th></th>\n",
       "      <th>Date</th>\n",
       "      <th>Tweet</th>\n",
       "      <th>Stock Name</th>\n",
       "      <th>Company Name</th>\n",
       "      <th>Sentiment</th>\n",
       "    </tr>\n",
       "  </thead>\n",
       "  <tbody>\n",
       "    <tr>\n",
       "      <th>0</th>\n",
       "      <td>2022-09-29 23:41:16+00:00</td>\n",
       "      <td>Mainstream media has done an amazing job at br...</td>\n",
       "      <td>TSLA</td>\n",
       "      <td>Tesla, Inc.</td>\n",
       "      <td>positive</td>\n",
       "    </tr>\n",
       "    <tr>\n",
       "      <th>1</th>\n",
       "      <td>2022-09-29 23:18:08+00:00</td>\n",
       "      <td>3/ Even if I include 63.0M unvested RSUs as of...</td>\n",
       "      <td>TSLA</td>\n",
       "      <td>Tesla, Inc.</td>\n",
       "      <td>positive</td>\n",
       "    </tr>\n",
       "    <tr>\n",
       "      <th>2</th>\n",
       "      <td>2022-09-29 22:40:07+00:00</td>\n",
       "      <td>@RealDanODowd @WholeMarsBlog @Tesla Hahaha why...</td>\n",
       "      <td>TSLA</td>\n",
       "      <td>Tesla, Inc.</td>\n",
       "      <td>negative</td>\n",
       "    </tr>\n",
       "    <tr>\n",
       "      <th>3</th>\n",
       "      <td>2022-09-29 22:27:05+00:00</td>\n",
       "      <td>@RealDanODowd @Tesla Stop trying to kill kids,...</td>\n",
       "      <td>TSLA</td>\n",
       "      <td>Tesla, Inc.</td>\n",
       "      <td>negative</td>\n",
       "    </tr>\n",
       "    <tr>\n",
       "      <th>4</th>\n",
       "      <td>2022-09-29 22:24:22+00:00</td>\n",
       "      <td>For years @WholeMarsBlog viciously silenced @T...</td>\n",
       "      <td>TSLA</td>\n",
       "      <td>Tesla, Inc.</td>\n",
       "      <td>negative</td>\n",
       "    </tr>\n",
       "    <tr>\n",
       "      <th>...</th>\n",
       "      <td>...</td>\n",
       "      <td>...</td>\n",
       "      <td>...</td>\n",
       "      <td>...</td>\n",
       "      <td>...</td>\n",
       "    </tr>\n",
       "    <tr>\n",
       "      <th>55941</th>\n",
       "      <td>2021-10-07 17:11:57+00:00</td>\n",
       "      <td>Some of the fastest growing tech stocks on the...</td>\n",
       "      <td>XPEV</td>\n",
       "      <td>XPeng Inc.</td>\n",
       "      <td>positive</td>\n",
       "    </tr>\n",
       "    <tr>\n",
       "      <th>55942</th>\n",
       "      <td>2021-10-04 17:05:59+00:00</td>\n",
       "      <td>With earnings on the horizon, here is a quick ...</td>\n",
       "      <td>XPEV</td>\n",
       "      <td>XPeng Inc.</td>\n",
       "      <td>positive</td>\n",
       "    </tr>\n",
       "    <tr>\n",
       "      <th>55943</th>\n",
       "      <td>2021-10-01 04:43:41+00:00</td>\n",
       "      <td>Our record delivery results are a testimony of...</td>\n",
       "      <td>XPEV</td>\n",
       "      <td>XPeng Inc.</td>\n",
       "      <td>positive</td>\n",
       "    </tr>\n",
       "    <tr>\n",
       "      <th>55944</th>\n",
       "      <td>2021-10-01 00:03:32+00:00</td>\n",
       "      <td>We delivered 10,412 Smart EVs in Sep 2021, rea...</td>\n",
       "      <td>XPEV</td>\n",
       "      <td>XPeng Inc.</td>\n",
       "      <td>positive</td>\n",
       "    </tr>\n",
       "    <tr>\n",
       "      <th>55945</th>\n",
       "      <td>2021-09-30 10:22:52+00:00</td>\n",
       "      <td>Why can XPeng P5 deliver outstanding performan...</td>\n",
       "      <td>XPEV</td>\n",
       "      <td>XPeng Inc.</td>\n",
       "      <td>positive</td>\n",
       "    </tr>\n",
       "  </tbody>\n",
       "</table>\n",
       "<p>55946 rows × 5 columns</p>\n",
       "</div>"
      ],
      "text/plain": [
       "                            Date  \\\n",
       "0      2022-09-29 23:41:16+00:00   \n",
       "1      2022-09-29 23:18:08+00:00   \n",
       "2      2022-09-29 22:40:07+00:00   \n",
       "3      2022-09-29 22:27:05+00:00   \n",
       "4      2022-09-29 22:24:22+00:00   \n",
       "...                          ...   \n",
       "55941  2021-10-07 17:11:57+00:00   \n",
       "55942  2021-10-04 17:05:59+00:00   \n",
       "55943  2021-10-01 04:43:41+00:00   \n",
       "55944  2021-10-01 00:03:32+00:00   \n",
       "55945  2021-09-30 10:22:52+00:00   \n",
       "\n",
       "                                                   Tweet Stock Name  \\\n",
       "0      Mainstream media has done an amazing job at br...       TSLA   \n",
       "1      3/ Even if I include 63.0M unvested RSUs as of...       TSLA   \n",
       "2      @RealDanODowd @WholeMarsBlog @Tesla Hahaha why...       TSLA   \n",
       "3      @RealDanODowd @Tesla Stop trying to kill kids,...       TSLA   \n",
       "4      For years @WholeMarsBlog viciously silenced @T...       TSLA   \n",
       "...                                                  ...        ...   \n",
       "55941  Some of the fastest growing tech stocks on the...       XPEV   \n",
       "55942  With earnings on the horizon, here is a quick ...       XPEV   \n",
       "55943  Our record delivery results are a testimony of...       XPEV   \n",
       "55944  We delivered 10,412 Smart EVs in Sep 2021, rea...       XPEV   \n",
       "55945  Why can XPeng P5 deliver outstanding performan...       XPEV   \n",
       "\n",
       "      Company Name Sentiment  \n",
       "0      Tesla, Inc.  positive  \n",
       "1      Tesla, Inc.  positive  \n",
       "2      Tesla, Inc.  negative  \n",
       "3      Tesla, Inc.  negative  \n",
       "4      Tesla, Inc.  negative  \n",
       "...            ...       ...  \n",
       "55941   XPeng Inc.  positive  \n",
       "55942   XPeng Inc.  positive  \n",
       "55943   XPeng Inc.  positive  \n",
       "55944   XPeng Inc.  positive  \n",
       "55945   XPeng Inc.  positive  \n",
       "\n",
       "[55946 rows x 5 columns]"
      ]
     },
     "execution_count": 42,
     "metadata": {},
     "output_type": "execute_result"
    }
   ],
   "source": [
    "# Apply VADER labeling, excluding neutral sentiments\n",
    "\n",
    "df['Sentiment'] = df['Tweet'].apply(label_sentiment)\n",
    "df = df.dropna(subset=['Sentiment']).reset_index(drop=True) # Remove rows where sentiment is None\n",
    "\n",
    "# Examine dataframe after VADER labeling\n",
    "df\n"
   ]
  },
  {
   "cell_type": "markdown",
   "id": "ac33639a-94b8-4975-aabf-5623e35ec54d",
   "metadata": {},
   "source": [
    "* Here we visualize the distribution of our positive and negative sentiments."
   ]
  },
  {
   "cell_type": "code",
   "execution_count": 44,
   "id": "637cd930-444a-4584-9465-569f7bc565fe",
   "metadata": {},
   "outputs": [
    {
     "data": {
      "image/png": "[encoded data removed]",
      "text/plain": [
       "<Figure size 600x400 with 1 Axes>"
      ]
     },
     "metadata": {},
     "output_type": "display_data"
    }
   ],
   "source": [
    "#Plot the value counts\n",
    "\n",
    "plt.figure(figsize=(6, 4))\n",
    "sns.countplot(x='Sentiment', hue='Sentiment', data=df)\n",
    "plt.legend(bbox_to_anchor=(1.05, 1), loc='upper left')\n",
    "plt.show()"
   ]
  },
  {
   "cell_type": "markdown",
   "id": "d94c220a-60c0-47c1-b7e8-fc030cf25e2f",
   "metadata": {},
   "source": [
    "* Now that our dataset is labeled with sentiments via VADER, we can move on to the rest of the data preparation required before loading the texts into a neural network."
   ]
  },
  {
   "cell_type": "markdown",
   "id": "6819f262-b098-4c68-9136-d079c119d93d",
   "metadata": {},
   "source": [
    "* Below, we detected unusual characters and changed capital letters to lowercase. Tokenization, lemmatization, and stopword removal were also included in the 'for' loop.\n"
   ]
  },
  {
   "cell_type": "code",
   "execution_count": 47,
   "id": "a18bf2ed-2834-4acc-9ced-99e86b67120a",
   "metadata": {},
   "outputs": [
    {
     "name": "stdout",
     "output_type": "stream",
     "text": [
      "['M', 'a', 'i', 'n', 's', 't', 'r', 'e', 'm', ' ', 'd', 'h', 'o', 'z', 'g', 'j', 'b', 'w', 'p', 'l', '.', 'T', 'y', 'k', ',', 'c', 'v', '&', ';', 'I', '@', 'u', 'f', 'E', 'V', 'R', 'Y', 'O', 'N', '“', '2', '0', '”', '3', '/', '6', 'S', 'U', 'q', 'x', '$', '5', '4', '=', 'B', 'D', 'W', 'H', 'F', '!', 'G', '?', 'C', '-', '💩', ':', '8', \"'\", 'L', 'A', 'P', 'Z', '\\n', '❤', '️', 'J', '_', '1', 'K', '7', 'X', 'Q', '’', '🧐', '9', '(', ')', '#', '—', '…', '🙄', '%', '🤝', '\"', '🫣', '~', '♥', '+', '🫶', '✨', '💛', '🤖', '💦', '🤞', '🏾', '‘', '😉', '⚡', '✅', '📈', '📉', '🚗', '💻', '📱', '🔥', '💰', '🤯', '\\u2066', '\\u2069', '🇰', '🇷', '🏎', '💨', '[', ']', '🍻', '–', '•', '\\xa0', '🚀', '🌕', '🤔', '🔒', '📢', '🤣', '😄', '🇺', '🇸', '|', '👋', '🥰', '🙏', '🔋', '👀', '*', '🤗', '🌄', '🤷', '🏻', '\\u200d', '♂', '👉', '👇', '😂', '🧮', '🎁', '💪', '😵', '💫', '🙀', '🕯', '🐶', '🎊', '✌', '😭', '🐮', '😳', '⏰', '¥', '🌚', '🌏', '🎥', '🔌', '☀', '🥳', '🎉', '🏆', '💔', '💙', '💚', '🧡', '🖤', '🔻', '🇨', '🇳', '🇪', 'ü', '🤑', '🚖', '😏', '🌳', '⛰', '📸', '☹', '🤫', '🏣', '🎯', '👍', '🚨', '🔔', '🏁', '🦾', '🦿', '📝', '🕹', '🛒', '🛍', '💳', '👾', '👎', '🥱', '👌', '😎', '🇴', '📊', '😬', '👊', '🥂', '🤡', '😔', '💋', '😲', '🔊', '🤪', '🧵', '🍨', '💣', '💥', '🔹', '🌎', '😊', '🏌', '🇩', '🌍', '😥', '👿', 'π', '🤓', '🇦', '😹', '🥃', '🩸', '💯', '🧼', '🐺', '💭', '¢', '🏕', '🌙', '🐂', '⚠', '🌊', '😇', '💸', '🏼', '♀', '😆', '\\u202f', '😁', '🤨', '🐐', '😌', '🙌', '🏽', '😍', '™', '👏', '🤤', '🦇', '🌺', '🦕', '🧠', '🫢', '🎩', '🗣', '{', '}', '🐳', '👮', '🟢', '⛔', '🖨', '🔑', '🐢', '🚑', '☕', '🏊', '⁉', '💕', '⏩', '☝', '𝙖', '𝙣', '𝙙', '𝙥', '𝙤', '𝙨', '𝙞', '𝙗', '𝙡', '𝙮', '𝙀', '𝙪', '𝙧', '𝙚', '🍎', '💡', '⛽', '🖥', '🏦', '🎲', '🤩', '🧈', '😡', '🔄', '🍾', '😀', '🚌', '🫐', '\\u200b', '🏍', '🛻', '🚛', '🤮', '🙋', '🤠', '🥴', '😜', '🔁', '￼', '⚒', '🐻', '😱', '🕺', '❌', '⃣', '➡', '𝙝', '⭐', '🤭', '😝', '📌', '🕷', '🦖', '👈', '🛰', '🇫', '🐹', '💖', '♻', '😣', '🤦', '⬆', '📣', '😢', '🍿', '👽', '😛', '🔮', '😼', '▪', '🎬', '🥲', '🐕', '🤟', '🔟', '🤘', '😘', '°', '🥵', '🌈', '🥺', '☢', '🍺', '😓', '🛌', '🎈', '😅', '⤵', '🤜', '🤛', '🥋', '🏃', '^', '🖕', '🦅', '💀', '😺', '🍔', '🍑', '🩳', '→', '÷', '😻', '🏔', '🇹', '🕵', '📐', '🇮', '🐸', '💜', '👶', '🌱', '☺', '🇭', '🚕', '🪛', '🔴', '🚘', '🤌', '𝙻', '𝙸', '𝙺', '𝙴', '𝚁', '𝚃', '𝚆', '𝙲', '𝙾', '𝙼', '𝙽', '𝙵', '𝙰', '𝚂', '⚛', '🎞', '🏠', '🥶', '🚙', '😴', 'é', '🇵', '🎶', '🐑', 'ø', '🐦', '♟', '🎦', '♾', '👦', '🍀', '🧧', '🚐', '✏', '⛈', '⬇', '🥇', '😞', '🦗', '▫', '☮', '🇲', '―', '‼', '„', '🙂', '🌅', '💵', '⛺', '🎰', '🕳', '€', '🌦', '🐇', '🐾', '🤍', '💗', '￣', '＿', '\\\\', '◡', '📃', '🔜', '🕶', '🌹', '✋', '🍦', '👺', '😐', '👨', '🆕', '🎙', '📷', '⏬', '❣', '≈', '🗓', '🌑', '🤚', '📚', '📺', 'š', '\\xad', '🤸', 'ï', '😩', '🪄', '🛣', '🥹', '☠', '😈', '🏡', '😨', 'æ', '🦊', '🥛', '🚶', '🐌', '🌤', '🍩', '£', '😋', '😯', '𝗕', '𝘂', '𝘆', '𝗯', '𝗶', '𝗴', '𝘁', '𝗲', '𝗰', '𝗵', '🤙', '📡', '✈', '🐭', '😃', '👩', '🥜', '💲', '´', '🌿', '大', '翻', '译', '运', '动', '譯', '運', '動', '📽', '🦄', '🇧', '☔', '📲', '🌞', '😑', '🤕', '🍞', '❄', '🇯', '凄', 'い', 'モ', 'デ', 'ル', '🌲', '🎫', '🍏', '🚫', '⛑', '🍱', '🧬', '🎢', '≠', '₹', '😤', '💎', '✍', '🎺', '🎻', '🍆', '💾', '📓', '🥷', '🏝', '☑', '⚫', '⚪', '🔵', '🍕', '🧸', '🍟', '😫', '⏳', '▀', '¯', '⁄', '🕊', 'ツ', 'இ', 'ந', '்', 'த', 'ெ', 'ர', 'ு', 'எ', 'ன', 'வ', 'ி', 'ல', 'ை', '🪑', '🛑', '©', '🟥', '𝗹', '𝗽', '𝗳', '𝗿', '𝗮', '𝗱', '🔂', '💞', '🍋', '💐', '🚩', '🐷', '💿', '💅', '🎤', '🎸', '🫤', '😖', '×', '🐰', '🎂', '🦍', '💝', '！', '🅶', '🅴', '🆃', '🅲', '🅰', '🆁', '🆔', '🪐', '📹', '🪡', '`', '🐣', '̶', '🚦', '■', '🧑', '✔', '🦋', '🇬', '🦀', '🎼', '🐼', '🔅', '🔽', '🔗', '⚔', '🌵', '🛢', '𝗻', '𝗠', '𝗺', '❓', '💃', '🪙', '🍫', '🌾', '🛩', '加', '油', '上', '海', '🔱', '🏀', '💬', '🙃', '☁', 'ß', '🥩', '🕛', '⛴', '✊', '🖖', '💶', '🔇', '🐎', 'í', '👟', 'è', '🎿', '⛷', 'ú', 'ñ', '🍊', '😒', '📖', '👑', '🔎', '🌥', '🎮', '⛓', '🔲', '🌟', '🛸', '𝐫', '𝐞', '𝐜', '𝐬', '𝐢', '𝐨', '𝐧', '😕', '🍷', '͟', '☄', '𝐩', '𝐭', '🌮', '下', '次', '有', '机', '会', '一', '起', '炫', '饭', '～', '🦌', '📞', '☎', '❕', '😶', '💍', '😧', '🧗', '🔓', '📄', '🍳', '😚', 'ข', 'อ', 'บ', 'ค', 'ุ', 'ณ', '่', 'ะ', '🤢', '𝗖', '𝘀', '🇱', '𝗼', '🌐', '🔐', '❇', '💹', '🖲', 'Ⓜ', 'Ð', '🏭', 'Í', '🏈', '💺', '📦', '▼', '🎨', '📶', '🍌', '🦩', '🌯', '🚚', 'Đ', '👥', '👷', '➕', '➖', '☃', '🚪', '🎆', '\\uf0e0', '👐', '😮', '☣', '🤒', 'И', 'Ǝ', '🧨', '🌌', '🦜', '❎', '💤', '🙈', '🧙', '🦹', '🤲', '🌼', '🌻', '个', '人', '只', '能', '赚', '到', '她', '认', '知', '范', '围', '内', '的', '钱', '。', '宁', '德', '时', '代', '🪖', '🚬', '🥠', '🗽', '📀', 'ⓘ', '💉', 'ö', '📰', '🖱', '⚕', '🧪', '🥚', '📪', '𝟳', '𝟵', '🐍', '🟠', '🟣', '🟡', '🟤', '🥒', '¾', '🦵', '🥈', '🗳', '🔈', '💁', '🟩', '😠', '🏳', '🅿', '🚔', '🧁', '🎅', '🎄', '🍭', '⌚', '🔷', '💠', '🌒', '🌘', '🌔', '🌛', '🌓', '🥕', '🛷', '🚧', '🌭', '🟦', '⬜', '宋', '威', '𝑻', '𝒓', '𝒂', '𝒅', '𝒆', '𝑰', '𝒔', '𝗚', '𝗟', '𝗸', '🤥', '👰', '💒', '🤵', '🧿', '⛳', '😰', '👞', '⌛', '👯', 'ô', '❗', '👁', '🚂', '📫', '🥗', '🤐', '🍲', '🇻', '😟', '💓', '🍹', '👹', '🌴', '🥯', '😷', '🚓', '🚴', '特', '斯', '拉', '🧟', '？', '🦃', '晖', '崽', '🍁', '🩺', '🪞', '🔃', '🤼', '三', 'ᕕ', '⌓', '̈', 'ᕗ', '👠', '🌶', '🪓', '🏿', '💼', '👧', '♠', '⚓', '🧹', '🍝', '🥊', '🥉', '👜', '🌧', '🏅', '🧘', '🏮', '🥼', '🗡', '🤬', '👅', '🎃', '👻', '𝐁', '𝐑', '𝐄', '𝐀', '𝐊', '𝐈', '𝐍', '𝐆', 'Ø', 'Ⱨ', '₦', 'Ɏ', 'Ʉ', 'Ɽ', 'Ɇ', '₭', 'ł', '₲', '🥾', '🗞', '🛫', '🦴', '🍴', '𝗥', '𝗘', '𝗔', '𝗞', '𝗜', '𝗡', '中', '国', '𝙅', '𝙩', '𝘿', '𝙟', '🙁', '🥦', '🔭', '🏜', '🐵', '🦎', '🧦', '🐧', '🛖', '🦫', '𝑴', '𝒌', '𝒕', '𝑬', '𝒗', '𝒍', '𝒖', '𝒊', '𝒐', '𝒏', '𝙂', '𝙇', '🎚', '⏲', '🐙', '▶', '🎣', '🍪', '🎟', '🐨', '⛵', '🔝', '⚧', '🤎', 'á', '𝐲', '𝐥', '𝟐', '𝟎', '𝟏', '𝟖', '💟', '👂', 'Ç', '🚒', 'ミ', 'ン', 'サ', 'ガ', '🧩', '🛠', '🏢', '🪦', '🤰', '🏪', '🔨', '🔍', '☘', '💊', '🥤', '⚙', '👸', '🥞', '🃏', '🧢', '🧰', '🪧', '🛡', '📅', '🐁', '🏬', '🎖', '🛥', '🐉', '🦧', '🧒', '🐃', '🍽', '🔳', '🏋', '′', '👃', '👚', '«', '»', '🐋', '🧲', '🏄', '🇼', '🫡', '🦭', '화', '사', '华', '莎', 'フ', 'ァ', 'ฮ', 'ว', 'า', 'ซ', '마', '무', 'Ò', 'Ó', 'ม', 'ย', 'ิ', '้', 'ง', '๋', 'น', 'ไ', 'เ', 'ี', '👤', '🥭', '🐥', '🤏', '🎀', '𓃵', 'ㅠ', '🐠', '🙎', '미', '레', '트', '라', '이', '비', '🌬', '🔪', '🧱', '¡', '⛏', '🍅', '🇽', '⌨', '🔺', '🌠', '➪', '♛', '\\u3000', '🏘', '🆗', '🎭', '🐩', '🛃', '🗂', '📛', '🕚', '🎵', '🔫', '🌸', '🪨', '🚜', '🧍', '\\u200c', '🪜', '🚲', '🗑', '🧊', '🏗', '🥔', '🫠', '🐘', '🪥', '🫃', '🏨', '📗', '🖍', '🐛', '🩹', '🏥', '🧻', '🔧', '🦨', '🚁', '🍗', '⏱', '‐', '📎', '🧳', '🆘', '📠', '⚰', '¼', '💧', '試', '合', '目', '位', '：', '🏹', '🟪', '⬛', '👆', '🐒', '🗼', '🍣', '➝', '🛶', '👄', '🔸', '🥣', 'ˢ', 'ᵒ', 'ʳ', 'ʸ', 'Ü', '♦', 'ℹ', '🗒', '🖼', '🎓', '🙇', '̃', '͜', 'ʖ', '🧂', '🌝', '🗺', '🆚', '🏟', '🤧', '🫵', '，', '🎒', 'à', '🔖', '➞', '🦉', '🎾', 'ê', '🗿', '「', '」', '🐯', '🕴', '🕐', '🫀', '🏴', '🌫', '🔛', '➗', '🦸', '🎳', '♡', '한', '빈', '템', '페', '스', '📒', '🕙', '🟨', '♎', '🐲', '💢', '🕑', '🍃', '🖋', '𝒑', '𝒇', '𝒄', '🇾', '½', '̷', '𝐏', '𝐂', '𝟒', '𝐡', '𝐚', '◀', '🏙', '♨', '🎇', '👕', 'ʻ', '😗', 'ノ', 'エ', '・', 'シ', 'ヴ', '誕', '生', '祭', '🦆', '¿', '🥸', '🤴', '〰', '수', '연', '❔', '🔤', '📜', '📧', '🫖', '👖', '🧴', '🥫', '🏫', '🧯', '🍇', 'ﬁ', '📟', '🦈', '‣', '🗝', '®', 'ó', 'â', '🐅', 'ò', '👓', '↘', '🦺', '恭', '喜', '😙', '🏧']\n"
     ]
    }
   ],
   "source": [
    "# Finding special/unusual characters\n",
    "\n",
    "\n",
    "# Identify all characters contained in the Tweet column\n",
    "commentary = df['Tweet']\n",
    "list_of_characters = []\n",
    "for comment in commentary: \n",
    "    for character in comment:\n",
    "        if character not in list_of_characters:\n",
    "            list_of_characters.append(character)\n",
    "print(list_of_characters)"
   ]
  },
  {
   "cell_type": "code",
   "execution_count": 48,
   "id": "b14c3ed9-4aa7-4ff1-88dd-065c0172189b",
   "metadata": {},
   "outputs": [],
   "source": [
    "from nltk.corpus import stopwords\n",
    "\n",
    "\n",
    "# Create an empty list to store cleaned tweets\n",
    "description_list = []\n",
    "\n",
    "# Define the list of stopwords, specifying English as the language\n",
    "stop_words = stopwords.words('english')\n",
    "\n",
    "# Special/unusual characters will be removed by iterating over a for loop\n",
    "for description in df['Tweet']: \n",
    "    \n",
    "#Regular Expression can remove special characters from the string. \n",
    "#It will be in the form [^a-zA-Z0-9], where ^ represents any character except the characters in the brackets, \n",
    "##and a-zA-Z0-9 represents that string can only have small and capital alphabets and numerical digits. \n",
    "    description = re.sub(\"[^a-zA-Z]\", \" \", description) \n",
    "#Convert to lower case\n",
    "    description = description.lower()\n",
    "#Perform tokenization\n",
    "    description=nltk.word_tokenize(description)\n",
    "#Perform lemmatization\n",
    "    lemma = nltk.WordNetLemmatizer()\n",
    "    description = [lemma.lemmatize(word) for word in description]\n",
    "#Removing stopwords\n",
    "    description = [word for word in description if not word in stop_words]\n",
    "    description = \" \".join(description)\n",
    "    description_list.append(description)"
   ]
  },
  {
   "cell_type": "markdown",
   "id": "d5c7e03c-19c4-48e9-9e4d-497d2561ae7c",
   "metadata": {},
   "source": [
    "* Next, we store the cleaned tweets in a list of its own and create a new dataframe."
   ]
  },
  {
   "cell_type": "code",
   "execution_count": 50,
   "id": "15c29f6a-6817-4aad-a8f9-3ec444e3cecf",
   "metadata": {},
   "outputs": [
    {
     "data": {
      "text/html": [
       "<div>\n",
       "<style scoped>\n",
       "    .dataframe tbody tr th:only-of-type {\n",
       "        vertical-align: middle;\n",
       "    }\n",
       "\n",
       "    .dataframe tbody tr th {\n",
       "        vertical-align: top;\n",
       "    }\n",
       "\n",
       "    .dataframe thead th {\n",
       "        text-align: right;\n",
       "    }\n",
       "</style>\n",
       "<table border=\"1\" class=\"dataframe\">\n",
       "  <thead>\n",
       "    <tr style=\"text-align: right;\">\n",
       "      <th></th>\n",
       "      <th>Date</th>\n",
       "      <th>CleanTweets</th>\n",
       "      <th>Sentiment</th>\n",
       "      <th>Stock Name</th>\n",
       "      <th>Company Name</th>\n",
       "    </tr>\n",
       "  </thead>\n",
       "  <tbody>\n",
       "    <tr>\n",
       "      <th>0</th>\n",
       "      <td>2022-09-29 23:41:16+00:00</td>\n",
       "      <td>mainstream medium ha done amazing job brainwas...</td>\n",
       "      <td>positive</td>\n",
       "      <td>TSLA</td>\n",
       "      <td>Tesla, Inc.</td>\n",
       "    </tr>\n",
       "    <tr>\n",
       "      <th>1</th>\n",
       "      <td>2022-09-29 23:18:08+00:00</td>\n",
       "      <td>even include unvested rsus additional equity n...</td>\n",
       "      <td>positive</td>\n",
       "      <td>TSLA</td>\n",
       "      <td>Tesla, Inc.</td>\n",
       "    </tr>\n",
       "    <tr>\n",
       "      <th>2</th>\n",
       "      <td>2022-09-29 22:40:07+00:00</td>\n",
       "      <td>realdanodowd wholemarsblog tesla hahaha still ...</td>\n",
       "      <td>negative</td>\n",
       "      <td>TSLA</td>\n",
       "      <td>Tesla, Inc.</td>\n",
       "    </tr>\n",
       "    <tr>\n",
       "      <th>3</th>\n",
       "      <td>2022-09-29 22:27:05+00:00</td>\n",
       "      <td>realdanodowd tesla stop trying kill kid sad de...</td>\n",
       "      <td>negative</td>\n",
       "      <td>TSLA</td>\n",
       "      <td>Tesla, Inc.</td>\n",
       "    </tr>\n",
       "    <tr>\n",
       "      <th>4</th>\n",
       "      <td>2022-09-29 22:24:22+00:00</td>\n",
       "      <td>year wholemarsblog viciously silenced tesla cr...</td>\n",
       "      <td>negative</td>\n",
       "      <td>TSLA</td>\n",
       "      <td>Tesla, Inc.</td>\n",
       "    </tr>\n",
       "    <tr>\n",
       "      <th>...</th>\n",
       "      <td>...</td>\n",
       "      <td>...</td>\n",
       "      <td>...</td>\n",
       "      <td>...</td>\n",
       "      <td>...</td>\n",
       "    </tr>\n",
       "    <tr>\n",
       "      <th>55941</th>\n",
       "      <td>2021-10-07 17:11:57+00:00</td>\n",
       "      <td>fastest growing tech stock market mix fintech ...</td>\n",
       "      <td>positive</td>\n",
       "      <td>XPEV</td>\n",
       "      <td>XPeng Inc.</td>\n",
       "    </tr>\n",
       "    <tr>\n",
       "      <th>55942</th>\n",
       "      <td>2021-10-04 17:05:59+00:00</td>\n",
       "      <td>earnings horizon quick snapshot largest increa...</td>\n",
       "      <td>positive</td>\n",
       "      <td>XPEV</td>\n",
       "      <td>XPeng Inc.</td>\n",
       "    </tr>\n",
       "    <tr>\n",
       "      <th>55943</th>\n",
       "      <td>2021-10-01 04:43:41+00:00</td>\n",
       "      <td>record delivery result testimony unwavering pu...</td>\n",
       "      <td>positive</td>\n",
       "      <td>XPEV</td>\n",
       "      <td>XPeng Inc.</td>\n",
       "    </tr>\n",
       "    <tr>\n",
       "      <th>55944</th>\n",
       "      <td>2021-10-01 00:03:32+00:00</td>\n",
       "      <td>delivered smart ev sep reaching milestone unit...</td>\n",
       "      <td>positive</td>\n",
       "      <td>XPEV</td>\n",
       "      <td>XPeng Inc.</td>\n",
       "    </tr>\n",
       "    <tr>\n",
       "      <th>55945</th>\n",
       "      <td>2021-09-30 10:22:52+00:00</td>\n",
       "      <td>xpeng p deliver outstanding performance extrem...</td>\n",
       "      <td>positive</td>\n",
       "      <td>XPEV</td>\n",
       "      <td>XPeng Inc.</td>\n",
       "    </tr>\n",
       "  </tbody>\n",
       "</table>\n",
       "<p>55946 rows × 5 columns</p>\n",
       "</div>"
      ],
      "text/plain": [
       "                            Date  \\\n",
       "0      2022-09-29 23:41:16+00:00   \n",
       "1      2022-09-29 23:18:08+00:00   \n",
       "2      2022-09-29 22:40:07+00:00   \n",
       "3      2022-09-29 22:27:05+00:00   \n",
       "4      2022-09-29 22:24:22+00:00   \n",
       "...                          ...   \n",
       "55941  2021-10-07 17:11:57+00:00   \n",
       "55942  2021-10-04 17:05:59+00:00   \n",
       "55943  2021-10-01 04:43:41+00:00   \n",
       "55944  2021-10-01 00:03:32+00:00   \n",
       "55945  2021-09-30 10:22:52+00:00   \n",
       "\n",
       "                                             CleanTweets Sentiment Stock Name  \\\n",
       "0      mainstream medium ha done amazing job brainwas...  positive       TSLA   \n",
       "1      even include unvested rsus additional equity n...  positive       TSLA   \n",
       "2      realdanodowd wholemarsblog tesla hahaha still ...  negative       TSLA   \n",
       "3      realdanodowd tesla stop trying kill kid sad de...  negative       TSLA   \n",
       "4      year wholemarsblog viciously silenced tesla cr...  negative       TSLA   \n",
       "...                                                  ...       ...        ...   \n",
       "55941  fastest growing tech stock market mix fintech ...  positive       XPEV   \n",
       "55942  earnings horizon quick snapshot largest increa...  positive       XPEV   \n",
       "55943  record delivery result testimony unwavering pu...  positive       XPEV   \n",
       "55944  delivered smart ev sep reaching milestone unit...  positive       XPEV   \n",
       "55945  xpeng p deliver outstanding performance extrem...  positive       XPEV   \n",
       "\n",
       "      Company Name  \n",
       "0      Tesla, Inc.  \n",
       "1      Tesla, Inc.  \n",
       "2      Tesla, Inc.  \n",
       "3      Tesla, Inc.  \n",
       "4      Tesla, Inc.  \n",
       "...            ...  \n",
       "55941   XPeng Inc.  \n",
       "55942   XPeng Inc.  \n",
       "55943   XPeng Inc.  \n",
       "55944   XPeng Inc.  \n",
       "55945   XPeng Inc.  \n",
       "\n",
       "[55946 rows x 5 columns]"
      ]
     },
     "execution_count": 50,
     "metadata": {},
     "output_type": "execute_result"
    }
   ],
   "source": [
    "# The cleaned tweets are now stored in description_list\n",
    "\n",
    "# Create a dataframe out of this list:\n",
    "description_df = pd.DataFrame(description_list, columns=['CleanTweets'])\n",
    "\n",
    "\n",
    "# Append Date from the original dataframe to this new dataframe\n",
    "col_to_concat = ['Date'] \n",
    "\n",
    "description_df = pd.concat([df[col_to_concat], description_df], axis=1)\n",
    "\n",
    "# Append Sentiments from the original dataframe to this new dataframe\n",
    "description_df = pd.concat([description_df, df['Sentiment']], axis=1)\n",
    "\n",
    "#Append Stock Name and Company Name from the original dataframe to this new dataframe\n",
    "description_df = pd.concat([description_df, df['Stock Name'], df['Company Name']], axis=1)\n",
    "\n",
    "description_df\n"
   ]
  },
  {
   "cell_type": "markdown",
   "id": "04e00d0b-4d8c-439a-b0cd-e04d52ce6d19",
   "metadata": {},
   "source": [
    "* Below is a list of the detected stopwords from our original dataframe. "
   ]
  },
  {
   "cell_type": "code",
   "execution_count": 52,
   "id": "f258f261-4450-4cd8-8e82-c2e72489d02f",
   "metadata": {},
   "outputs": [
    {
     "data": {
      "text/plain": [
       "['a',\n",
       " 'about',\n",
       " 'above',\n",
       " 'after',\n",
       " 'again',\n",
       " 'against',\n",
       " 'ain',\n",
       " 'all',\n",
       " 'am',\n",
       " 'an',\n",
       " 'and',\n",
       " 'any',\n",
       " 'are',\n",
       " 'aren',\n",
       " \"aren't\",\n",
       " 'as',\n",
       " 'at',\n",
       " 'be',\n",
       " 'because',\n",
       " 'been',\n",
       " 'before',\n",
       " 'being',\n",
       " 'below',\n",
       " 'between',\n",
       " 'both',\n",
       " 'but',\n",
       " 'by',\n",
       " 'can',\n",
       " 'couldn',\n",
       " \"couldn't\",\n",
       " 'd',\n",
       " 'did',\n",
       " 'didn',\n",
       " \"didn't\",\n",
       " 'do',\n",
       " 'does',\n",
       " 'doesn',\n",
       " \"doesn't\",\n",
       " 'doing',\n",
       " 'don',\n",
       " \"don't\",\n",
       " 'down',\n",
       " 'during',\n",
       " 'each',\n",
       " 'few',\n",
       " 'for',\n",
       " 'from',\n",
       " 'further',\n",
       " 'had',\n",
       " 'hadn',\n",
       " \"hadn't\",\n",
       " 'has',\n",
       " 'hasn',\n",
       " \"hasn't\",\n",
       " 'have',\n",
       " 'haven',\n",
       " \"haven't\",\n",
       " 'having',\n",
       " 'he',\n",
       " \"he'd\",\n",
       " \"he'll\",\n",
       " 'her',\n",
       " 'here',\n",
       " 'hers',\n",
       " 'herself',\n",
       " \"he's\",\n",
       " 'him',\n",
       " 'himself',\n",
       " 'his',\n",
       " 'how',\n",
       " 'i',\n",
       " \"i'd\",\n",
       " 'if',\n",
       " \"i'll\",\n",
       " \"i'm\",\n",
       " 'in',\n",
       " 'into',\n",
       " 'is',\n",
       " 'isn',\n",
       " \"isn't\",\n",
       " 'it',\n",
       " \"it'd\",\n",
       " \"it'll\",\n",
       " \"it's\",\n",
       " 'its',\n",
       " 'itself',\n",
       " \"i've\",\n",
       " 'just',\n",
       " 'll',\n",
       " 'm',\n",
       " 'ma',\n",
       " 'me',\n",
       " 'mightn',\n",
       " \"mightn't\",\n",
       " 'more',\n",
       " 'most',\n",
       " 'mustn',\n",
       " \"mustn't\",\n",
       " 'my',\n",
       " 'myself',\n",
       " 'needn',\n",
       " \"needn't\",\n",
       " 'no',\n",
       " 'nor',\n",
       " 'not',\n",
       " 'now',\n",
       " 'o',\n",
       " 'of',\n",
       " 'off',\n",
       " 'on',\n",
       " 'once',\n",
       " 'only',\n",
       " 'or',\n",
       " 'other',\n",
       " 'our',\n",
       " 'ours',\n",
       " 'ourselves',\n",
       " 'out',\n",
       " 'over',\n",
       " 'own',\n",
       " 're',\n",
       " 's',\n",
       " 'same',\n",
       " 'shan',\n",
       " \"shan't\",\n",
       " 'she',\n",
       " \"she'd\",\n",
       " \"she'll\",\n",
       " \"she's\",\n",
       " 'should',\n",
       " 'shouldn',\n",
       " \"shouldn't\",\n",
       " \"should've\",\n",
       " 'so',\n",
       " 'some',\n",
       " 'such',\n",
       " 't',\n",
       " 'than',\n",
       " 'that',\n",
       " \"that'll\",\n",
       " 'the',\n",
       " 'their',\n",
       " 'theirs',\n",
       " 'them',\n",
       " 'themselves',\n",
       " 'then',\n",
       " 'there',\n",
       " 'these',\n",
       " 'they',\n",
       " \"they'd\",\n",
       " \"they'll\",\n",
       " \"they're\",\n",
       " \"they've\",\n",
       " 'this',\n",
       " 'those',\n",
       " 'through',\n",
       " 'to',\n",
       " 'too',\n",
       " 'under',\n",
       " 'until',\n",
       " 'up',\n",
       " 've',\n",
       " 'very',\n",
       " 'was',\n",
       " 'wasn',\n",
       " \"wasn't\",\n",
       " 'we',\n",
       " \"we'd\",\n",
       " \"we'll\",\n",
       " \"we're\",\n",
       " 'were',\n",
       " 'weren',\n",
       " \"weren't\",\n",
       " \"we've\",\n",
       " 'what',\n",
       " 'when',\n",
       " 'where',\n",
       " 'which',\n",
       " 'while',\n",
       " 'who',\n",
       " 'whom',\n",
       " 'why',\n",
       " 'will',\n",
       " 'with',\n",
       " 'won',\n",
       " \"won't\",\n",
       " 'wouldn',\n",
       " \"wouldn't\",\n",
       " 'y',\n",
       " 'you',\n",
       " \"you'd\",\n",
       " \"you'll\",\n",
       " 'your',\n",
       " \"you're\",\n",
       " 'yours',\n",
       " 'yourself',\n",
       " 'yourselves',\n",
       " \"you've\"]"
      ]
     },
     "execution_count": 52,
     "metadata": {},
     "output_type": "execute_result"
    }
   ],
   "source": [
    "#Displaying stop words\n",
    "\n",
    "stop_words"
   ]
  },
  {
   "cell_type": "markdown",
   "id": "2d545587-cc7c-4d58-b52b-8cadfadfdabe",
   "metadata": {},
   "source": [
    "*\tTokenization is used to simplify text data analysis so that a machine model can utilize the data while retaining the context. It breaks down text strings into tokens and smaller original data components. It is also an important step in preprocessing since it aids in identifying and removing both stopwords and unnecessary characters.\n",
    "*\tWe will use Tokenizer to turn the text into tokens and determine the vocabulary size. We will also determine the tweet lengths.\n",
    "*\tListed below is our vocabulary size of 56,706, which we discovered after running our code.\n"
   ]
  },
  {
   "cell_type": "code",
   "execution_count": 56,
   "id": "9b84fdfe-b9dd-4b89-a5be-39cb5e0e36ee",
   "metadata": {},
   "outputs": [
    {
     "name": "stdout",
     "output_type": "stream",
     "text": [
      "Vocabulary_size:  56706\n"
     ]
    }
   ],
   "source": [
    "# Identify vocabulary size\n",
    "\n",
    "tokenizer = Tokenizer()\n",
    "tokenizer.fit_on_texts(description_df['CleanTweets'])\n",
    "\n",
    "word_count = len(tokenizer.word_index) +1\n",
    "\n",
    "print(\"Vocabulary_size: \", word_count)"
   ]
  },
  {
   "cell_type": "markdown",
   "id": "dcfddbfe-f2d9-47f3-a061-78075c4f7428",
   "metadata": {},
   "source": [
    "*\tAs specified below, the proposed word embedding length is 20.0, based on the tweet median length.\n",
    "*\tAlso, the maximum sequence length is 53, justified by the tweet_max function. \n"
   ]
  },
  {
   "cell_type": "code",
   "execution_count": 58,
   "id": "2dff5914-348b-40a9-8a03-0fb7107e0418",
   "metadata": {},
   "outputs": [
    {
     "name": "stdout",
     "output_type": "stream",
     "text": [
      "Max length of sequences is: 53\n",
      "Min length of sequences is: 2\n",
      "Median length of sequences is: 20.0\n",
      "\n",
      "Proposed word embedding length: 20.0\n"
     ]
    }
   ],
   "source": [
    "# Determine min, med, and max lengths of tweets \n",
    "\n",
    "\n",
    "tweet_length = []\n",
    "for char_len in description_df['CleanTweets']:\n",
    "    tweet_length.append(len(char_len.split(\" \")))\n",
    "\n",
    "tweet_max = np.max(tweet_length)\n",
    "tweet_min = np.min(tweet_length)\n",
    "tweet_median = np.median(tweet_length)\n",
    "\n",
    "print(\"Max length of sequences is:\", tweet_max)\n",
    "print(\"Min length of sequences is:\", tweet_min)\n",
    "print(\"Median length of sequences is:\", tweet_median)\n",
    "\n",
    "# The median tweet length will be used as the proposed word embedded length here: \n",
    "print()\n",
    "print(\"Proposed word embedding length:\", tweet_median)"
   ]
  },
  {
   "cell_type": "code",
   "execution_count": 59,
   "id": "3c1b096e-23fe-4c19-9a94-fd1fa9759add",
   "metadata": {},
   "outputs": [
    {
     "data": {
      "text/plain": [
       "0        [mainstream, medium, ha, done, amazing, job, b...\n",
       "1        [even, include, unvested, rsus, additional, eq...\n",
       "2        [realdanodowd, wholemarsblog, tesla, hahaha, s...\n",
       "3        [realdanodowd, tesla, stop, trying, kill, kid,...\n",
       "4        [year, wholemarsblog, viciously, silenced, tes...\n",
       "                               ...                        \n",
       "55941    [fastest, growing, tech, stock, market, mix, f...\n",
       "55942    [earnings, horizon, quick, snapshot, largest, ...\n",
       "55943    [record, delivery, result, testimony, unwaveri...\n",
       "55944    [delivered, smart, ev, sep, reaching, mileston...\n",
       "55945    [xpeng, p, deliver, outstanding, performance, ...\n",
       "Name: CleanTweets, Length: 55946, dtype: object"
      ]
     },
     "execution_count": 59,
     "metadata": {},
     "output_type": "execute_result"
    }
   ],
   "source": [
    "# Display the list of all word tokens from the cleaned dataset\n",
    "\n",
    "from nltk.tokenize import word_tokenize\n",
    "\n",
    "\n",
    "description_df['CleanTweets'].apply(word_tokenize)"
   ]
  },
  {
   "cell_type": "code",
   "execution_count": 60,
   "id": "f97ca880-73e9-4d92-989b-8cc011d64be2",
   "metadata": {},
   "outputs": [
    {
     "name": "stdout",
     "output_type": "stream",
     "text": [
      "Number of unique words: 56706\n"
     ]
    }
   ],
   "source": [
    "# Tokenization on the cleaned dataset\n",
    "\n",
    "tokenizer = Tokenizer()\n",
    "tokenizer.fit_on_texts(description_df['CleanTweets'])\n",
    "\n",
    "word_count = len(tokenizer.word_index) + 1\n",
    "\n",
    "print(\"Number of unique words:\", word_count)"
   ]
  },
  {
   "cell_type": "code",
   "execution_count": 61,
   "id": "2f9e12e0-381d-4fac-8136-4406a3a3725d",
   "metadata": {
    "scrolled": true
   },
   "outputs": [
    {
     "data": {
      "text/plain": [
       "0        [mainstream, medium, ha, done, amazing, job, b...\n",
       "1        [even, include, unvested, rsus, additional, eq...\n",
       "2        [realdanodowd, wholemarsblog, tesla, hahaha, s...\n",
       "3        [realdanodowd, tesla, stop, trying, kill, kid,...\n",
       "4        [year, wholemarsblog, viciously, silenced, tes...\n",
       "                               ...                        \n",
       "55941    [fastest, growing, tech, stock, market, mix, f...\n",
       "55942    [earnings, horizon, quick, snapshot, largest, ...\n",
       "55943    [record, delivery, result, testimony, unwaveri...\n",
       "55944    [delivered, smart, ev, sep, reaching, mileston...\n",
       "55945    [xpeng, p, deliver, outstanding, performance, ...\n",
       "Name: CleanTweets, Length: 55946, dtype: object"
      ]
     },
     "execution_count": 61,
     "metadata": {},
     "output_type": "execute_result"
    }
   ],
   "source": [
    "# Display the list of all word tokens from the cleaned dataset\n",
    "\n",
    "from nltk.tokenize import word_tokenize\n",
    "\n",
    "\n",
    "description_df['CleanTweets'].apply(word_tokenize)"
   ]
  },
  {
   "cell_type": "code",
   "execution_count": 62,
   "id": "72239c31-9136-4e83-8eac-07752d3164f7",
   "metadata": {},
   "outputs": [
    {
     "name": "stdout",
     "output_type": "stream",
     "text": [
      "Number of unique words: 70322\n"
     ]
    }
   ],
   "source": [
    "# Tokenized original dataframe for comparison to our tokenized cleaned dataframe\n",
    "\n",
    "tokenizer = Tokenizer()\n",
    "tokenizer.fit_on_texts(df['Tweet'])\n",
    "\n",
    "word_count = len(tokenizer.word_index) + 1\n",
    "\n",
    "print(\"Number of unique words:\", word_count)"
   ]
  },
  {
   "cell_type": "code",
   "execution_count": 63,
   "id": "385263f7-22e3-496c-9a16-c7d74b0e476d",
   "metadata": {},
   "outputs": [
    {
     "data": {
      "text/plain": [
       "0        [Mainstream, media, has, done, an, amazing, jo...\n",
       "1        [3/, Even, if, I, include, 63.0M, unvested, RS...\n",
       "2        [@, RealDanODowd, @, WholeMarsBlog, @, Tesla, ...\n",
       "3        [@, RealDanODowd, @, Tesla, Stop, trying, to, ...\n",
       "4        [For, years, @, WholeMarsBlog, viciously, sile...\n",
       "                               ...                        \n",
       "55941    [Some, of, the, fastest, growing, tech, stocks...\n",
       "55942    [With, earnings, on, the, horizon, ,, here, is...\n",
       "55943    [Our, record, delivery, results, are, a, testi...\n",
       "55944    [We, delivered, 10,412, Smart, EVs, in, Sep, 2...\n",
       "55945    [Why, can, XPeng, P5, deliver, outstanding, pe...\n",
       "Name: Tweet, Length: 55946, dtype: object"
      ]
     },
     "execution_count": 63,
     "metadata": {},
     "output_type": "execute_result"
    }
   ],
   "source": [
    "#  Display the list of all word tokens from the original dataset\n",
    "\n",
    "df['Tweet'].apply(word_tokenize)"
   ]
  },
  {
   "cell_type": "markdown",
   "id": "6790351c-215e-4744-8293-401fd05d810d",
   "metadata": {},
   "source": [
    "*\tWe can observe that words such as 'a', 'an', and 'the' are absent in the tokenized clean data frame. These have been removed since they provide no value as inputs in the neural network model.\n",
    "*\tWe can split our data after data preparation, including lemmatization and tokenization. Next, we split the data into train, test, and validation sets, with an 80:20 ratio between the train and test sets and a sub-ratio of 75:25 between the train and validation sets. These ratios were chosen since they are the most common best practices ratios.\n"
   ]
  },
  {
   "cell_type": "code",
   "execution_count": 66,
   "id": "c881189f-2447-4298-98e1-f64230ccd8f2",
   "metadata": {},
   "outputs": [],
   "source": [
    "# Train/validation/test split\n",
    "train_df, test_df = train_test_split(description_df, test_size=0.2, random_state=42)\n",
    "train_df, val_df = train_test_split(train_df, test_size=0.25, random_state=42) # 0.25 x 0.8 = 0.2\n"
   ]
  },
  {
   "cell_type": "markdown",
   "id": "9164ff79-95c2-4b3a-811b-ca657da3dd4d",
   "metadata": {},
   "source": [
    "*\tPadding is the process in which variable length data is made uniformly through either the removal or addition of characters in a string. Now that our data is appropriately split into train, test, and validation portions, each with an X and a y component, we can pad the text sequences."
   ]
  },
  {
   "cell_type": "code",
   "execution_count": 68,
   "id": "b6c15477-476c-45cf-ac1d-3d96ee2e3013",
   "metadata": {},
   "outputs": [],
   "source": [
    "# Applying Padding \n",
    "\n",
    "X_train = pad_sequences(tokenizer.texts_to_sequences(train_df['CleanTweets']), maxlen=tweet_max)\n",
    "X_val = pad_sequences(tokenizer.texts_to_sequences(val_df['CleanTweets']), maxlen=tweet_max)\n",
    "X_test = pad_sequences(tokenizer.texts_to_sequences(test_df['CleanTweets']), maxlen=tweet_max)\n"
   ]
  },
  {
   "cell_type": "markdown",
   "id": "bf0b73c8-47e7-4a11-b2b8-71ffda50cd8d",
   "metadata": {},
   "source": [
    "*\tAfter padding, we need to change the positive and negative sentiments into boolean values since the neural network we will work with deals in binary outputs."
   ]
  },
  {
   "cell_type": "code",
   "execution_count": 70,
   "id": "1d0895e7-6127-4ec6-9723-61d49edc6a4a",
   "metadata": {},
   "outputs": [],
   "source": [
    "# Prepare labels\n",
    "y_train = np.array([1 if s == 'positive' else 0 for s in train_df['Sentiment']])\n",
    "y_val = np.array([1 if s == 'positive' else 0 for s in val_df['Sentiment']])\n",
    "y_test = np.array([1 if s == 'positive' else 0 for s in test_df['Sentiment']])\n"
   ]
  },
  {
   "cell_type": "markdown",
   "id": "e6ca6d61-6066-4300-b4e6-0db61f5d88a1",
   "metadata": {},
   "source": [
    "*\tOne-hot encoding is necessary on the y components since models such as neural networks are best suited to numeric input."
   ]
  },
  {
   "cell_type": "code",
   "execution_count": 72,
   "id": "16f96572-095d-4f0a-a088-0fd0c34acc93",
   "metadata": {},
   "outputs": [],
   "source": [
    "# With y_test, y_val, and y_train defined, y can be one-hot encoded.\n",
    "    # Re-define y_test, y_val, and y_train as such\n",
    "# (StackOverflow, 2019)\n",
    "\n",
    "from keras.utils import to_categorical\n",
    "\n",
    "y_train = to_categorical(y_train, num_classes=2)\n",
    "y_test = to_categorical(y_test, num_classes=2)\n",
    "y_val = to_categorical(y_val, num_classes=2)"
   ]
  },
  {
   "cell_type": "markdown",
   "id": "4e8120ed-5a07-44c1-b32b-761f7ceef800",
   "metadata": {},
   "source": [
    "*\tFinally, we will save our split data and the cleaned data frame into CSV files."
   ]
  },
  {
   "cell_type": "code",
   "execution_count": 74,
   "id": "0b79b365-742d-4d7f-804e-50b611cb60ba",
   "metadata": {},
   "outputs": [],
   "source": [
    "#Save train, validation, and test data to csv:\n",
    "X_train_df = pd.DataFrame(X_train)\n",
    "X_test_df = pd.DataFrame(X_test)\n",
    "X_val_df = pd.DataFrame(X_val)\n",
    "\n",
    "y_train_df = pd.DataFrame(y_train)\n",
    "y_test_df = pd.DataFrame(y_test)\n",
    "y_val_df = pd.DataFrame(y_val)\n",
    "\n",
    "X_train_df.to_csv('Tweet_X_train_df.csv', index=False)\n",
    "X_test_df.to_csv('Tweet_X_test_df.csv', index=False)\n",
    "X_val_df.to_csv('Tweet_X_val_df.csv', index=False)\n",
    "y_train_df.to_csv('Tweet_y_train_df.csv', index=False)\n",
    "y_test_df.to_csv('Tweet_y_test_df.csv', index=False)\n",
    "y_val_df.to_csv('Tweet_y_val_df.csv', index=False)\n",
    "\n",
    "#Save cleaned df (description_df) to csv\n",
    "description_df = pd.DataFrame(description_df)\n",
    "\n",
    "description_df.to_csv('Tweet_description_df.csv', index=False)"
   ]
  },
  {
   "cell_type": "markdown",
   "id": "12792d96-5fdb-4ea1-91ee-2becac9fe431",
   "metadata": {},
   "source": [
    "#### C1c: Advantage and Disadvantage of Chosen Extraction and Preparation Techniques"
   ]
  },
  {
   "cell_type": "markdown",
   "id": "9de7c419-2810-40b9-99e5-cc5198f28988",
   "metadata": {},
   "source": [
    "*\tOne advantage of the VADER Sentiment Intensity Analyzer technique used to label the sentiments of unlabeled tweets is that it is optimized for social media text, even texts containing abbreviations, emojis, and slang.\n",
    "*\tOne disadvantage of VADER is that it can misinterpret sarcasm and irony, leading to incorrect sentiment classification. VADER was used at the very beginning to establish the initial sentiments on the raw dataset. Therefore, if any of these sentiment classifications are wrong or inaccurate, then the potential for those errors to persist and exacerbate through further model construction and training is now present.\n"
   ]
  },
  {
   "cell_type": "markdown",
   "id": "670beb2c-ffa1-4e5d-a05f-dcc9ec68430f",
   "metadata": {},
   "source": [
    "### D: Analysis"
   ]
  },
  {
   "cell_type": "markdown",
   "id": "74f2ddfe-df9d-4fe9-af98-356f0cd399d7",
   "metadata": {},
   "source": [
    "*\tThe chosen model is based on sequential text classification. The final model structure is most accurately described as a CNN-Bidirectional LSTM, a convoluted neural network involving at least one layer of Bidirectional Long Short-Term Memory. LSTMs are a special kind of Recurrent Neural Network (RNN) capable of learning long-term dependencies in data. Bidirectional LSTM layers were employed since they account for past and future data points for every step.\n",
    "*\tThe CNN portion in the final model is present due to the inclusion of a Conv1D Layer used for one-dimensional convolutional operations, typically applied to sequences like text data.\n",
    "*\tThe inclusion of a convolutional layer (CNNs) prior to recurrent layers (RNNs) enables the detection of local patterns within sequences at high efficiencies. In contrast, the recurrent LSTM layers capture long-term dependencies and the data's sequential nature.\n",
    "*\tThese networks can be trained to make predictions based on the sentiments and sequences of text present in our starting dataset (Luay, 2023).\n",
    "*\tOne advantage of LSTMs is their ability to capture past context.\n",
    "*\tHowever, an inherent weakness/disadvantage is that there are several applications where future context is just as important, and a simple LSTM cannot capture this future context. This weakness was why the Bidirectional version was used for the LSTM layers. \n"
   ]
  },
  {
   "cell_type": "markdown",
   "id": "89a32ed3-2b9f-45eb-8468-ac8e48797225",
   "metadata": {},
   "source": [
    "#### D1a: Model Summary\n",
    "*\tKeras/Tensorflow is used to create the model. The code to set the model parameters and instantiate it is displayed below. The model output and its summary are also included. "
   ]
  },
  {
   "cell_type": "code",
   "execution_count": 81,
   "id": "7cc54eda-6a6b-4df1-99c9-fe8956ece86e",
   "metadata": {},
   "outputs": [
    {
     "data": {
      "text/html": [
       "<pre style=\"white-space:pre;overflow-x:auto;line-height:normal;font-family:Menlo,'DejaVu Sans Mono',consolas,'Courier New',monospace\"><span style=\"font-weight: bold\">Model: \"sequential\"</span>\n",
       "</pre>\n"
      ],
      "text/plain": [
       "\u001b[1mModel: \"sequential\"\u001b[0m\n"
      ]
     },
     "metadata": {},
     "output_type": "display_data"
    },
    {
     "data": {
      "text/html": [
       "<pre style=\"white-space:pre;overflow-x:auto;line-height:normal;font-family:Menlo,'DejaVu Sans Mono',consolas,'Courier New',monospace\">┏━━━━━━━━━━━━━━━━━━━━━━━━━━━━━━━━━┳━━━━━━━━━━━━━━━━━━━━━━━━┳━━━━━━━━━━━━━━━┓\n",
       "┃<span style=\"font-weight: bold\"> Layer (type)                    </span>┃<span style=\"font-weight: bold\"> Output Shape           </span>┃<span style=\"font-weight: bold\">       Param # </span>┃\n",
       "┡━━━━━━━━━━━━━━━━━━━━━━━━━━━━━━━━━╇━━━━━━━━━━━━━━━━━━━━━━━━╇━━━━━━━━━━━━━━━┩\n",
       "│ embedding (<span style=\"color: #0087ff; text-decoration-color: #0087ff\">Embedding</span>)           │ (<span style=\"color: #00d7ff; text-decoration-color: #00d7ff\">None</span>, <span style=\"color: #00af00; text-decoration-color: #00af00\">53</span>, <span style=\"color: #00af00; text-decoration-color: #00af00\">53</span>)         │     <span style=\"color: #00af00; text-decoration-color: #00af00\">3,727,066</span> │\n",
       "├─────────────────────────────────┼────────────────────────┼───────────────┤\n",
       "│ conv1d (<span style=\"color: #0087ff; text-decoration-color: #0087ff\">Conv1D</span>)                 │ (<span style=\"color: #00d7ff; text-decoration-color: #00d7ff\">None</span>, <span style=\"color: #00af00; text-decoration-color: #00af00\">51</span>, <span style=\"color: #00af00; text-decoration-color: #00af00\">64</span>)         │        <span style=\"color: #00af00; text-decoration-color: #00af00\">10,240</span> │\n",
       "├─────────────────────────────────┼────────────────────────┼───────────────┤\n",
       "│ max_pooling1d (<span style=\"color: #0087ff; text-decoration-color: #0087ff\">MaxPooling1D</span>)    │ (<span style=\"color: #00d7ff; text-decoration-color: #00d7ff\">None</span>, <span style=\"color: #00af00; text-decoration-color: #00af00\">10</span>, <span style=\"color: #00af00; text-decoration-color: #00af00\">64</span>)         │             <span style=\"color: #00af00; text-decoration-color: #00af00\">0</span> │\n",
       "├─────────────────────────────────┼────────────────────────┼───────────────┤\n",
       "│ bidirectional (<span style=\"color: #0087ff; text-decoration-color: #0087ff\">Bidirectional</span>)   │ (<span style=\"color: #00d7ff; text-decoration-color: #00d7ff\">None</span>, <span style=\"color: #00af00; text-decoration-color: #00af00\">10</span>, <span style=\"color: #00af00; text-decoration-color: #00af00\">200</span>)        │       <span style=\"color: #00af00; text-decoration-color: #00af00\">132,000</span> │\n",
       "├─────────────────────────────────┼────────────────────────┼───────────────┤\n",
       "│ bidirectional_1 (<span style=\"color: #0087ff; text-decoration-color: #0087ff\">Bidirectional</span>) │ (<span style=\"color: #00d7ff; text-decoration-color: #00d7ff\">None</span>, <span style=\"color: #00af00; text-decoration-color: #00af00\">200</span>)            │       <span style=\"color: #00af00; text-decoration-color: #00af00\">240,800</span> │\n",
       "├─────────────────────────────────┼────────────────────────┼───────────────┤\n",
       "│ dense (<span style=\"color: #0087ff; text-decoration-color: #0087ff\">Dense</span>)                   │ (<span style=\"color: #00d7ff; text-decoration-color: #00d7ff\">None</span>, <span style=\"color: #00af00; text-decoration-color: #00af00\">100</span>)            │        <span style=\"color: #00af00; text-decoration-color: #00af00\">20,100</span> │\n",
       "├─────────────────────────────────┼────────────────────────┼───────────────┤\n",
       "│ dropout (<span style=\"color: #0087ff; text-decoration-color: #0087ff\">Dropout</span>)               │ (<span style=\"color: #00d7ff; text-decoration-color: #00d7ff\">None</span>, <span style=\"color: #00af00; text-decoration-color: #00af00\">100</span>)            │             <span style=\"color: #00af00; text-decoration-color: #00af00\">0</span> │\n",
       "├─────────────────────────────────┼────────────────────────┼───────────────┤\n",
       "│ dense_1 (<span style=\"color: #0087ff; text-decoration-color: #0087ff\">Dense</span>)                 │ (<span style=\"color: #00d7ff; text-decoration-color: #00d7ff\">None</span>, <span style=\"color: #00af00; text-decoration-color: #00af00\">50</span>)             │         <span style=\"color: #00af00; text-decoration-color: #00af00\">5,050</span> │\n",
       "├─────────────────────────────────┼────────────────────────┼───────────────┤\n",
       "│ dense_2 (<span style=\"color: #0087ff; text-decoration-color: #0087ff\">Dense</span>)                 │ (<span style=\"color: #00d7ff; text-decoration-color: #00d7ff\">None</span>, <span style=\"color: #00af00; text-decoration-color: #00af00\">2</span>)              │           <span style=\"color: #00af00; text-decoration-color: #00af00\">102</span> │\n",
       "└─────────────────────────────────┴────────────────────────┴───────────────┘\n",
       "</pre>\n"
      ],
      "text/plain": [
       "┏━━━━━━━━━━━━━━━━━━━━━━━━━━━━━━━━━┳━━━━━━━━━━━━━━━━━━━━━━━━┳━━━━━━━━━━━━━━━┓\n",
       "┃\u001b[1m \u001b[0m\u001b[1mLayer (type)                   \u001b[0m\u001b[1m \u001b[0m┃\u001b[1m \u001b[0m\u001b[1mOutput Shape          \u001b[0m\u001b[1m \u001b[0m┃\u001b[1m \u001b[0m\u001b[1m      Param #\u001b[0m\u001b[1m \u001b[0m┃\n",
       "┡━━━━━━━━━━━━━━━━━━━━━━━━━━━━━━━━━╇━━━━━━━━━━━━━━━━━━━━━━━━╇━━━━━━━━━━━━━━━┩\n",
       "│ embedding (\u001b[38;5;33mEmbedding\u001b[0m)           │ (\u001b[38;5;45mNone\u001b[0m, \u001b[38;5;34m53\u001b[0m, \u001b[38;5;34m53\u001b[0m)         │     \u001b[38;5;34m3,727,066\u001b[0m │\n",
       "├─────────────────────────────────┼────────────────────────┼───────────────┤\n",
       "│ conv1d (\u001b[38;5;33mConv1D\u001b[0m)                 │ (\u001b[38;5;45mNone\u001b[0m, \u001b[38;5;34m51\u001b[0m, \u001b[38;5;34m64\u001b[0m)         │        \u001b[38;5;34m10,240\u001b[0m │\n",
       "├─────────────────────────────────┼────────────────────────┼───────────────┤\n",
       "│ max_pooling1d (\u001b[38;5;33mMaxPooling1D\u001b[0m)    │ (\u001b[38;5;45mNone\u001b[0m, \u001b[38;5;34m10\u001b[0m, \u001b[38;5;34m64\u001b[0m)         │             \u001b[38;5;34m0\u001b[0m │\n",
       "├─────────────────────────────────┼────────────────────────┼───────────────┤\n",
       "│ bidirectional (\u001b[38;5;33mBidirectional\u001b[0m)   │ (\u001b[38;5;45mNone\u001b[0m, \u001b[38;5;34m10\u001b[0m, \u001b[38;5;34m200\u001b[0m)        │       \u001b[38;5;34m132,000\u001b[0m │\n",
       "├─────────────────────────────────┼────────────────────────┼───────────────┤\n",
       "│ bidirectional_1 (\u001b[38;5;33mBidirectional\u001b[0m) │ (\u001b[38;5;45mNone\u001b[0m, \u001b[38;5;34m200\u001b[0m)            │       \u001b[38;5;34m240,800\u001b[0m │\n",
       "├─────────────────────────────────┼────────────────────────┼───────────────┤\n",
       "│ dense (\u001b[38;5;33mDense\u001b[0m)                   │ (\u001b[38;5;45mNone\u001b[0m, \u001b[38;5;34m100\u001b[0m)            │        \u001b[38;5;34m20,100\u001b[0m │\n",
       "├─────────────────────────────────┼────────────────────────┼───────────────┤\n",
       "│ dropout (\u001b[38;5;33mDropout\u001b[0m)               │ (\u001b[38;5;45mNone\u001b[0m, \u001b[38;5;34m100\u001b[0m)            │             \u001b[38;5;34m0\u001b[0m │\n",
       "├─────────────────────────────────┼────────────────────────┼───────────────┤\n",
       "│ dense_1 (\u001b[38;5;33mDense\u001b[0m)                 │ (\u001b[38;5;45mNone\u001b[0m, \u001b[38;5;34m50\u001b[0m)             │         \u001b[38;5;34m5,050\u001b[0m │\n",
       "├─────────────────────────────────┼────────────────────────┼───────────────┤\n",
       "│ dense_2 (\u001b[38;5;33mDense\u001b[0m)                 │ (\u001b[38;5;45mNone\u001b[0m, \u001b[38;5;34m2\u001b[0m)              │           \u001b[38;5;34m102\u001b[0m │\n",
       "└─────────────────────────────────┴────────────────────────┴───────────────┘\n"
      ]
     },
     "metadata": {},
     "output_type": "display_data"
    },
    {
     "data": {
      "text/html": [
       "<pre style=\"white-space:pre;overflow-x:auto;line-height:normal;font-family:Menlo,'DejaVu Sans Mono',consolas,'Courier New',monospace\"><span style=\"font-weight: bold\"> Total params: </span><span style=\"color: #00af00; text-decoration-color: #00af00\">4,135,358</span> (15.78 MB)\n",
       "</pre>\n"
      ],
      "text/plain": [
       "\u001b[1m Total params: \u001b[0m\u001b[38;5;34m4,135,358\u001b[0m (15.78 MB)\n"
      ]
     },
     "metadata": {},
     "output_type": "display_data"
    },
    {
     "data": {
      "text/html": [
       "<pre style=\"white-space:pre;overflow-x:auto;line-height:normal;font-family:Menlo,'DejaVu Sans Mono',consolas,'Courier New',monospace\"><span style=\"font-weight: bold\"> Trainable params: </span><span style=\"color: #00af00; text-decoration-color: #00af00\">4,135,358</span> (15.78 MB)\n",
       "</pre>\n"
      ],
      "text/plain": [
       "\u001b[1m Trainable params: \u001b[0m\u001b[38;5;34m4,135,358\u001b[0m (15.78 MB)\n"
      ]
     },
     "metadata": {},
     "output_type": "display_data"
    },
    {
     "data": {
      "text/html": [
       "<pre style=\"white-space:pre;overflow-x:auto;line-height:normal;font-family:Menlo,'DejaVu Sans Mono',consolas,'Courier New',monospace\"><span style=\"font-weight: bold\"> Non-trainable params: </span><span style=\"color: #00af00; text-decoration-color: #00af00\">0</span> (0.00 B)\n",
       "</pre>\n"
      ],
      "text/plain": [
       "\u001b[1m Non-trainable params: \u001b[0m\u001b[38;5;34m0\u001b[0m (0.00 B)\n"
      ]
     },
     "metadata": {},
     "output_type": "display_data"
    },
    {
     "name": "stdout",
     "output_type": "stream",
     "text": [
      "Epoch 1/20\n",
      "\u001b[1m336/336\u001b[0m \u001b[32m━━━━━━━━━━━━━━━━━━━━\u001b[0m\u001b[37m\u001b[0m \u001b[1m11s\u001b[0m 19ms/step - accuracy: 0.7329 - loss: 0.7945 - val_accuracy: 0.8722 - val_loss: 0.3294\n",
      "Epoch 2/20\n",
      "\u001b[1m336/336\u001b[0m \u001b[32m━━━━━━━━━━━━━━━━━━━━\u001b[0m\u001b[37m\u001b[0m \u001b[1m6s\u001b[0m 17ms/step - accuracy: 0.9043 - loss: 0.2777 - val_accuracy: 0.8867 - val_loss: 0.2973\n",
      "Epoch 3/20\n",
      "\u001b[1m336/336\u001b[0m \u001b[32m━━━━━━━━━━━━━━━━━━━━\u001b[0m\u001b[37m\u001b[0m \u001b[1m6s\u001b[0m 16ms/step - accuracy: 0.9414 - loss: 0.1807 - val_accuracy: 0.8869 - val_loss: 0.3478\n",
      "Epoch 4/20\n",
      "\u001b[1m336/336\u001b[0m \u001b[32m━━━━━━━━━━━━━━━━━━━━\u001b[0m\u001b[37m\u001b[0m \u001b[1m6s\u001b[0m 17ms/step - accuracy: 0.9579 - loss: 0.1384 - val_accuracy: 0.8870 - val_loss: 0.3433\n",
      "Epoch 5/20\n",
      "\u001b[1m336/336\u001b[0m \u001b[32m━━━━━━━━━━━━━━━━━━━━\u001b[0m\u001b[37m\u001b[0m \u001b[1m5s\u001b[0m 16ms/step - accuracy: 0.9711 - loss: 0.1009 - val_accuracy: 0.8845 - val_loss: 0.3641\n"
     ]
    }
   ],
   "source": [
    "#CNN-Bidirectional LSTM model\n",
    "\n",
    "activation = 'sigmoid'\n",
    "loss = 'binary_crossentropy'\n",
    "optimizer = 'adam'\n",
    "num_epochs = 20\n",
    "\n",
    "# Define early stopping monitor. \n",
    "early_stopping_monitor = EarlyStopping(patience=3)\n",
    "\n",
    "model = tf.keras.Sequential([\n",
    "    tf.keras.layers.Input(shape=(int(tweet_max),)), \n",
    "    tf.keras.layers.Embedding(word_count, tweet_max, input_length=tweet_max),\n",
    "    tf.keras.layers.Conv1D(filters=64, kernel_size=3, activation='relu'),\n",
    "    tf.keras.layers.MaxPooling1D(pool_size=5),\n",
    "    tf.keras.layers.Bidirectional(LSTM(100, return_sequences=True, dropout=0.5, recurrent_dropout=0.5, kernel_regularizer=keras.regularizers.l2(0.001))),\n",
    "    tf.keras.layers.Bidirectional(LSTM(100, dropout=0.5, recurrent_dropout=0.5, kernel_regularizer=keras.regularizers.l2(0.001))),\n",
    "    tf.keras.layers.Dense(100, activation='relu'),\n",
    "    tf.keras.layers.Dropout(0.1),\n",
    "    tf.keras.layers.Dense(50, activation='relu'),\n",
    "    tf.keras.layers.Dense(2, activation=activation)\n",
    "])\n",
    "\n",
    "# Compilation of our model. The metric we have chosen is accuracy\n",
    "model.compile(loss=loss,optimizer=optimizer,metrics=['accuracy'])\n",
    "\n",
    "\n",
    "# Summary statistics of our model\n",
    "model.summary()\n",
    "\n",
    "\n",
    "# Model training\n",
    "history = model.fit(X_train, y_train, epochs=20, batch_size=100, validation_data=(X_val, y_val), \n",
    "                    callbacks=[early_stopping_monitor], verbose=True)"
   ]
  },
  {
   "cell_type": "markdown",
   "id": "64706057-904d-4eeb-a9a4-3d5a0809ab7f",
   "metadata": {},
   "source": [
    "#### D1b: Network Architecture\n",
    "\n",
    "##### Excluding the first Input layer, nine layers compose the network\n",
    "\n",
    "* Layer 1: Embedding parameters: 3,727,066\n",
    "\n",
    "* Layer 2: Conv1D parameters: 10,240 \n",
    "\n",
    "* Layer 3: MaxPooling1D parameters: 0\n",
    "\n",
    "* Layer 4: Bidirectional (LSTM) parameters: 132,000\n",
    "\n",
    "* Layer 5: Bidirectional (LSTM) parameters: 240,800\n",
    "\n",
    "* Layer 6: Dense parameters: 20,100\n",
    "\n",
    "* Layer 7: Dropout parameters: 0\n",
    "\n",
    "* Layer 8: Dense parameters: 5,050\n",
    "\n",
    "* Layer 9: Dense parameters: 102\n",
    "\n",
    "##### There are a total number of 4,135,358 parameters, which are all trainable.\n"
   ]
  },
  {
   "cell_type": "markdown",
   "id": "cbccf0d6-79ea-4884-9c16-6ced8b9e1e7f",
   "metadata": {},
   "source": [
    "#### D2: Hyperparameters"
   ]
  },
  {
   "cell_type": "markdown",
   "id": "d5ea0524-833f-40f8-bba5-95adb57fc66e",
   "metadata": {},
   "source": [
    "##### D2a: Activation functions\n",
    "*\tSigmoid was chosen for our activation function since it best suits binary data."
   ]
  },
  {
   "cell_type": "markdown",
   "id": "c037200d-7a58-44d3-aded-b2198891196f",
   "metadata": {},
   "source": [
    "##### D2b: Number of nodes per layer\n",
    "*\tThree layers contain nodes. The first one contains 100, the second has 50 nodes, and the third contains two nodes. "
   ]
  },
  {
   "cell_type": "markdown",
   "id": "f68f4a82-e861-4876-97cd-a9827f8cc31d",
   "metadata": {},
   "source": [
    "##### D2c: Loss function\n",
    "*\tSentiment values being binary led to using binary crossentropy as the best loss function."
   ]
  },
  {
   "cell_type": "markdown",
   "id": "7b06df0d-2a53-44ce-b30e-9d7f1ff31e86",
   "metadata": {},
   "source": [
    "##### D2d: Optimizer\n",
    "*\tAdam is commonly used as the optimization algorithm due to its efficiency and ease of implementation."
   ]
  },
  {
   "cell_type": "markdown",
   "id": "b077a7c8-0e6f-4580-a32d-5547110d9764",
   "metadata": {},
   "source": [
    "##### D2e: Stopping criteria\n",
    "*\tStopping criteria are employed so that overfitting does not occur on the training set. Overfitting can lead to high training accuracy but low test accuracy. The patience was set to 3 so that the model would not exceed running 3 times without a noticeable improvement to the model. Training will stop if there is no model improvement within the set limit discussed prior."
   ]
  },
  {
   "cell_type": "markdown",
   "id": "ac43e1a3-85ea-4c58-b20e-376d7724dcab",
   "metadata": {},
   "source": [
    "##### D2f: Model Fitness and Evaluation metric\n",
    "*\tThe model fitness was based on the chosen criteria of accuracy, which is calculated with the code below. The accuracies for the training, validation, and test sets were calculated."
   ]
  },
  {
   "cell_type": "code",
   "execution_count": 90,
   "id": "cafe466b-5c91-4e7c-8b2e-96f71c521f1b",
   "metadata": {},
   "outputs": [
    {
     "name": "stdout",
     "output_type": "stream",
     "text": [
      "\u001b[1m350/350\u001b[0m \u001b[32m━━━━━━━━━━━━━━━━━━━━\u001b[0m\u001b[37m\u001b[0m \u001b[1m1s\u001b[0m 2ms/step - accuracy: 0.8856 - loss: 0.3696\n",
      "Test Accuracy: 0.8880\n",
      "Test Loss:, 0.3564\n"
     ]
    }
   ],
   "source": [
    "# Evaluate the model on the test set\n",
    "loss, accuracy = model.evaluate(X_test, y_test)\n",
    "print(f'Test Accuracy: {accuracy:.4f}')\n",
    "print(f'Test Loss:, {loss:.4f}')\n"
   ]
  },
  {
   "cell_type": "code",
   "execution_count": 91,
   "id": "b1af8648-8c8d-47ec-8369-203499dae96d",
   "metadata": {},
   "outputs": [
    {
     "name": "stdout",
     "output_type": "stream",
     "text": [
      "Test accuracy: {0.8880250453948975}\n",
      "Train accuracy: {0.9866237640380859}\n",
      "Validation accuracy: {0.8845294713973999}\n"
     ]
    }
   ],
   "source": [
    "# Model accuracy - test data: \n",
    "score = model.evaluate(X_test, y_test, verbose=0)\n",
    "print('Test accuracy:', {score[1]})\n",
    "\n",
    "# For comparison, model accuracy of the train data:  \n",
    "score = model.evaluate(X_train, y_train, verbose=0)\n",
    "print('Train accuracy:', {score[1]})\n",
    "\n",
    "# For comparison, model accuracy of the validation data:  \n",
    "score = model.evaluate(X_val, y_val, verbose=0)\n",
    "print('Validation accuracy:', {score[1]})"
   ]
  },
  {
   "cell_type": "markdown",
   "id": "81e5b88a-f2bc-4dcf-ae4a-fe79df4504af",
   "metadata": {},
   "source": [
    "#### D3: Plots of Model Accuracy and Loss"
   ]
  },
  {
   "cell_type": "markdown",
   "id": "fc77acde-e0a0-46df-bf54-f146ec4e4966",
   "metadata": {},
   "source": [
    "##### D3a: Plot of Accuracy "
   ]
  },
  {
   "cell_type": "code",
   "execution_count": 94,
   "id": "f0ccf024-3ab6-4d97-9458-1cc6becfe38b",
   "metadata": {},
   "outputs": [
    {
     "data": {
      "image/png": "[encoded data removed]",
      "text/plain": [
       "<Figure size 640x480 with 1 Axes>"
      ]
     },
     "metadata": {},
     "output_type": "display_data"
    }
   ],
   "source": [
    "plt.plot(history.history['accuracy'], label = 'accuracy')\n",
    "plt.plot(history.history['val_accuracy'], label = 'validation accuracy')\n",
    "plt.legend()\n",
    "plt.show()"
   ]
  },
  {
   "cell_type": "markdown",
   "id": "1ebc4bb0-9c2b-4605-b294-66236e354378",
   "metadata": {},
   "source": [
    "##### D3b: Plot of Loss "
   ]
  },
  {
   "cell_type": "code",
   "execution_count": 96,
   "id": "338985e9-9f60-420c-a863-0e09ea52d49b",
   "metadata": {},
   "outputs": [
    {
     "data": {
      "image/png": "[encoded data removed]",
      "text/plain": [
       "<Figure size 640x480 with 1 Axes>"
      ]
     },
     "metadata": {},
     "output_type": "display_data"
    }
   ],
   "source": [
    "plt.plot(history.history['loss'], label='loss')\n",
    "plt.plot(history.history['val_loss'], label='validation loss')\n",
    "plt.xlabel('Epoch')\n",
    "plt.ylabel('Loss Score')\n",
    "plt.legend()\n",
    "plt.show()"
   ]
  },
  {
   "cell_type": "markdown",
   "id": "16ff20cd-0ac7-4198-9d73-3142592dfa7e",
   "metadata": {},
   "source": [
    "#### D4: Predictive Accuracy\n",
    "*\tThe model's predictive accuracy is its calculated test accuracy, which is 0.8873."
   ]
  },
  {
   "cell_type": "markdown",
   "id": "d52802d5-d67e-4bc4-80aa-264b7587d807",
   "metadata": {},
   "source": [
    "#### D5: Saving the Trained Network"
   ]
  },
  {
   "cell_type": "markdown",
   "id": "1f2acecd-0e76-4178-a832-465000f27874",
   "metadata": {},
   "source": [
    "*\tThe following code is used to save the trained network within the neural network."
   ]
  },
  {
   "cell_type": "code",
   "execution_count": 100,
   "id": "3b1b1f37-d448-4aa4-be1c-a0c9297d66f0",
   "metadata": {},
   "outputs": [],
   "source": [
    "model.save('Capstone-CNN-LSTM-SentimentAnalysisModel.keras')"
   ]
  },
  {
   "cell_type": "code",
   "execution_count": 101,
   "id": "84efb410-7f5b-4acc-acf9-22ee92fb3424",
   "metadata": {},
   "outputs": [
    {
     "name": "stdout",
     "output_type": "stream",
     "text": [
      "\u001b[1m350/350\u001b[0m \u001b[32m━━━━━━━━━━━━━━━━━━━━\u001b[0m\u001b[37m\u001b[0m \u001b[1m2s\u001b[0m 3ms/step\n"
     ]
    },
    {
     "data": {
      "text/html": [
       "<div>\n",
       "<style scoped>\n",
       "    .dataframe tbody tr th:only-of-type {\n",
       "        vertical-align: middle;\n",
       "    }\n",
       "\n",
       "    .dataframe tbody tr th {\n",
       "        vertical-align: top;\n",
       "    }\n",
       "\n",
       "    .dataframe thead th {\n",
       "        text-align: right;\n",
       "    }\n",
       "</style>\n",
       "<table border=\"1\" class=\"dataframe\">\n",
       "  <thead>\n",
       "    <tr style=\"text-align: right;\">\n",
       "      <th></th>\n",
       "      <th>CleanTweets</th>\n",
       "      <th>Actual_Sentiment</th>\n",
       "      <th>Predicted_Sentiment</th>\n",
       "    </tr>\n",
       "  </thead>\n",
       "  <tbody>\n",
       "    <tr>\n",
       "      <th>40981</th>\n",
       "      <td>published new plan thought cpi aapl bitcoin en...</td>\n",
       "      <td>positive</td>\n",
       "      <td>positive</td>\n",
       "    </tr>\n",
       "    <tr>\n",
       "      <th>6936</th>\n",
       "      <td>know many excited today rally market remember ...</td>\n",
       "      <td>negative</td>\n",
       "      <td>negative</td>\n",
       "    </tr>\n",
       "    <tr>\n",
       "      <th>55089</th>\n",
       "      <td>breaking nio et vehicle found cure covid varia...</td>\n",
       "      <td>positive</td>\n",
       "      <td>positive</td>\n",
       "    </tr>\n",
       "    <tr>\n",
       "      <th>22678</th>\n",
       "      <td>ev space stock heating hope get allocated rivi...</td>\n",
       "      <td>positive</td>\n",
       "      <td>positive</td>\n",
       "    </tr>\n",
       "    <tr>\n",
       "      <th>54494</th>\n",
       "      <td>nio aim achieve break even q first annual prof...</td>\n",
       "      <td>positive</td>\n",
       "      <td>positive</td>\n",
       "    </tr>\n",
       "    <tr>\n",
       "      <th>...</th>\n",
       "      <td>...</td>\n",
       "      <td>...</td>\n",
       "      <td>...</td>\n",
       "    </tr>\n",
       "    <tr>\n",
       "      <th>21155</th>\n",
       "      <td>great news tesla model plaid led way v lithium...</td>\n",
       "      <td>positive</td>\n",
       "      <td>positive</td>\n",
       "    </tr>\n",
       "    <tr>\n",
       "      <th>6433</th>\n",
       "      <td>tsla china may delivery slightly better expect...</td>\n",
       "      <td>positive</td>\n",
       "      <td>positive</td>\n",
       "    </tr>\n",
       "    <tr>\n",
       "      <th>53971</th>\n",
       "      <td>china security regulatory commission china sec...</td>\n",
       "      <td>positive</td>\n",
       "      <td>positive</td>\n",
       "    </tr>\n",
       "    <tr>\n",
       "      <th>17231</th>\n",
       "      <td>realmeetkevin tesla thank god kid walked room ...</td>\n",
       "      <td>positive</td>\n",
       "      <td>positive</td>\n",
       "    </tr>\n",
       "    <tr>\n",
       "      <th>1616</th>\n",
       "      <td>fraggelcurris latestinspace ash elonmusk tesla...</td>\n",
       "      <td>negative</td>\n",
       "      <td>negative</td>\n",
       "    </tr>\n",
       "  </tbody>\n",
       "</table>\n",
       "<p>11190 rows × 3 columns</p>\n",
       "</div>"
      ],
      "text/plain": [
       "                                             CleanTweets Actual_Sentiment  \\\n",
       "40981  published new plan thought cpi aapl bitcoin en...         positive   \n",
       "6936   know many excited today rally market remember ...         negative   \n",
       "55089  breaking nio et vehicle found cure covid varia...         positive   \n",
       "22678  ev space stock heating hope get allocated rivi...         positive   \n",
       "54494  nio aim achieve break even q first annual prof...         positive   \n",
       "...                                                  ...              ...   \n",
       "21155  great news tesla model plaid led way v lithium...         positive   \n",
       "6433   tsla china may delivery slightly better expect...         positive   \n",
       "53971  china security regulatory commission china sec...         positive   \n",
       "17231  realmeetkevin tesla thank god kid walked room ...         positive   \n",
       "1616   fraggelcurris latestinspace ash elonmusk tesla...         negative   \n",
       "\n",
       "      Predicted_Sentiment  \n",
       "40981            positive  \n",
       "6936             negative  \n",
       "55089            positive  \n",
       "22678            positive  \n",
       "54494            positive  \n",
       "...                   ...  \n",
       "21155            positive  \n",
       "6433             positive  \n",
       "53971            positive  \n",
       "17231            positive  \n",
       "1616             negative  \n",
       "\n",
       "[11190 rows x 3 columns]"
      ]
     },
     "execution_count": 101,
     "metadata": {},
     "output_type": "execute_result"
    }
   ],
   "source": [
    "#Predictions and Output\n",
    "predictions = model.predict(X_test)\n",
    "predicted_labels = ['positive' if p[0] < p[1] else 'negative' for p in predictions]\n",
    "\n",
    "output_df = pd.DataFrame({'CleanTweets': test_df['CleanTweets'], \n",
    "                            'Actual_Sentiment': test_df['Sentiment'],\n",
    "                            'Predicted_Sentiment': predicted_labels})\n",
    "\n",
    "output_df"
   ]
  },
  {
   "cell_type": "code",
   "execution_count": 102,
   "id": "ed1a66bd-b3c6-4c86-97ab-e89752af67b7",
   "metadata": {},
   "outputs": [
    {
     "data": {
      "text/html": [
       "<div>\n",
       "<style scoped>\n",
       "    .dataframe tbody tr th:only-of-type {\n",
       "        vertical-align: middle;\n",
       "    }\n",
       "\n",
       "    .dataframe tbody tr th {\n",
       "        vertical-align: top;\n",
       "    }\n",
       "\n",
       "    .dataframe thead th {\n",
       "        text-align: right;\n",
       "    }\n",
       "</style>\n",
       "<table border=\"1\" class=\"dataframe\">\n",
       "  <thead>\n",
       "    <tr style=\"text-align: right;\">\n",
       "      <th></th>\n",
       "      <th>Tweet</th>\n",
       "      <th>Actual_Sentiment</th>\n",
       "      <th>Predicted_Sentiment</th>\n",
       "    </tr>\n",
       "  </thead>\n",
       "  <tbody>\n",
       "    <tr>\n",
       "      <th>40981</th>\n",
       "      <td>Published new plan thoughts on CPI, $AAPL and ...</td>\n",
       "      <td>positive</td>\n",
       "      <td>positive</td>\n",
       "    </tr>\n",
       "    <tr>\n",
       "      <th>6936</th>\n",
       "      <td>I know many are excited today for this rally i...</td>\n",
       "      <td>negative</td>\n",
       "      <td>negative</td>\n",
       "    </tr>\n",
       "    <tr>\n",
       "      <th>55089</th>\n",
       "      <td>BREAKING: NIO ET5 vehicle found to cure Covid-...</td>\n",
       "      <td>positive</td>\n",
       "      <td>positive</td>\n",
       "    </tr>\n",
       "    <tr>\n",
       "      <th>22678</th>\n",
       "      <td>EV space and stocks are heating up. I hope I g...</td>\n",
       "      <td>positive</td>\n",
       "      <td>positive</td>\n",
       "    </tr>\n",
       "    <tr>\n",
       "      <th>54494</th>\n",
       "      <td>$NIO - Aims to achieve break-even in Q4 2023 w...</td>\n",
       "      <td>positive</td>\n",
       "      <td>positive</td>\n",
       "    </tr>\n",
       "    <tr>\n",
       "      <th>...</th>\n",
       "      <td>...</td>\n",
       "      <td>...</td>\n",
       "      <td>...</td>\n",
       "    </tr>\n",
       "    <tr>\n",
       "      <th>21155</th>\n",
       "      <td>GREAT NEWS: Tesla Model S Plaid led the way wi...</td>\n",
       "      <td>positive</td>\n",
       "      <td>positive</td>\n",
       "    </tr>\n",
       "    <tr>\n",
       "      <th>6433</th>\n",
       "      <td>$TSLA China May deliveries slightly better tha...</td>\n",
       "      <td>positive</td>\n",
       "      <td>positive</td>\n",
       "    </tr>\n",
       "    <tr>\n",
       "      <th>53971</th>\n",
       "      <td>China Securities Regulatory Commission: The Ch...</td>\n",
       "      <td>positive</td>\n",
       "      <td>positive</td>\n",
       "    </tr>\n",
       "    <tr>\n",
       "      <th>17231</th>\n",
       "      <td>@realMeetKevin @Tesla Thank god my kid just wa...</td>\n",
       "      <td>positive</td>\n",
       "      <td>positive</td>\n",
       "    </tr>\n",
       "    <tr>\n",
       "      <th>1616</th>\n",
       "      <td>@fraggelcurris @latestinspace @All_That_Ash601...</td>\n",
       "      <td>negative</td>\n",
       "      <td>negative</td>\n",
       "    </tr>\n",
       "  </tbody>\n",
       "</table>\n",
       "<p>11190 rows × 3 columns</p>\n",
       "</div>"
      ],
      "text/plain": [
       "                                                   Tweet Actual_Sentiment  \\\n",
       "40981  Published new plan thoughts on CPI, $AAPL and ...         positive   \n",
       "6936   I know many are excited today for this rally i...         negative   \n",
       "55089  BREAKING: NIO ET5 vehicle found to cure Covid-...         positive   \n",
       "22678  EV space and stocks are heating up. I hope I g...         positive   \n",
       "54494  $NIO - Aims to achieve break-even in Q4 2023 w...         positive   \n",
       "...                                                  ...              ...   \n",
       "21155  GREAT NEWS: Tesla Model S Plaid led the way wi...         positive   \n",
       "6433   $TSLA China May deliveries slightly better tha...         positive   \n",
       "53971  China Securities Regulatory Commission: The Ch...         positive   \n",
       "17231  @realMeetKevin @Tesla Thank god my kid just wa...         positive   \n",
       "1616   @fraggelcurris @latestinspace @All_That_Ash601...         negative   \n",
       "\n",
       "      Predicted_Sentiment  \n",
       "40981            positive  \n",
       "6936             negative  \n",
       "55089            positive  \n",
       "22678            positive  \n",
       "54494            positive  \n",
       "...                   ...  \n",
       "21155            positive  \n",
       "6433             positive  \n",
       "53971            positive  \n",
       "17231            positive  \n",
       "1616             negative  \n",
       "\n",
       "[11190 rows x 3 columns]"
      ]
     },
     "execution_count": 102,
     "metadata": {},
     "output_type": "execute_result"
    }
   ],
   "source": [
    "output_df['CleanTweets'] = df['Tweet']\n",
    "\n",
    "output_df = output_df.rename(columns={'CleanTweets': 'Tweet'})\n",
    "\n",
    "output_df"
   ]
  },
  {
   "cell_type": "code",
   "execution_count": 103,
   "id": "1d9c622f-280f-406a-b4a6-7aca01b204d1",
   "metadata": {},
   "outputs": [
    {
     "data": {
      "text/html": [
       "<div>\n",
       "<style scoped>\n",
       "    .dataframe tbody tr th:only-of-type {\n",
       "        vertical-align: middle;\n",
       "    }\n",
       "\n",
       "    .dataframe tbody tr th {\n",
       "        vertical-align: top;\n",
       "    }\n",
       "\n",
       "    .dataframe thead th {\n",
       "        text-align: right;\n",
       "    }\n",
       "</style>\n",
       "<table border=\"1\" class=\"dataframe\">\n",
       "  <thead>\n",
       "    <tr style=\"text-align: right;\">\n",
       "      <th></th>\n",
       "      <th>Date</th>\n",
       "      <th>Tweet</th>\n",
       "      <th>Predicted_Sentiment</th>\n",
       "      <th>Actual_Sentiment</th>\n",
       "      <th>Stock Name</th>\n",
       "      <th>Company Name</th>\n",
       "    </tr>\n",
       "  </thead>\n",
       "  <tbody>\n",
       "    <tr>\n",
       "      <th>40981</th>\n",
       "      <td>2022-05-11 18:40:19+00:00</td>\n",
       "      <td>Published new plan thoughts on CPI, $AAPL and ...</td>\n",
       "      <td>positive</td>\n",
       "      <td>positive</td>\n",
       "      <td>AAPL</td>\n",
       "      <td>Apple Inc.</td>\n",
       "    </tr>\n",
       "    <tr>\n",
       "      <th>6936</th>\n",
       "      <td>2022-06-02 16:28:52+00:00</td>\n",
       "      <td>I know many are excited today for this rally i...</td>\n",
       "      <td>negative</td>\n",
       "      <td>negative</td>\n",
       "      <td>TSLA</td>\n",
       "      <td>Tesla, Inc.</td>\n",
       "    </tr>\n",
       "    <tr>\n",
       "      <th>55089</th>\n",
       "      <td>2021-12-22 23:34:40+00:00</td>\n",
       "      <td>BREAKING: NIO ET5 vehicle found to cure Covid-...</td>\n",
       "      <td>positive</td>\n",
       "      <td>positive</td>\n",
       "      <td>NIO</td>\n",
       "      <td>NIO Inc.</td>\n",
       "    </tr>\n",
       "    <tr>\n",
       "      <th>22678</th>\n",
       "      <td>2021-11-09 12:14:28+00:00</td>\n",
       "      <td>EV space and stocks are heating up. I hope I g...</td>\n",
       "      <td>positive</td>\n",
       "      <td>positive</td>\n",
       "      <td>TSLA</td>\n",
       "      <td>Tesla, Inc.</td>\n",
       "    </tr>\n",
       "    <tr>\n",
       "      <th>54494</th>\n",
       "      <td>2022-03-25 08:45:10+00:00</td>\n",
       "      <td>$NIO - Aims to achieve break-even in Q4 2023 w...</td>\n",
       "      <td>positive</td>\n",
       "      <td>positive</td>\n",
       "      <td>NIO</td>\n",
       "      <td>NIO Inc.</td>\n",
       "    </tr>\n",
       "    <tr>\n",
       "      <th>...</th>\n",
       "      <td>...</td>\n",
       "      <td>...</td>\n",
       "      <td>...</td>\n",
       "      <td>...</td>\n",
       "      <td>...</td>\n",
       "      <td>...</td>\n",
       "    </tr>\n",
       "    <tr>\n",
       "      <th>21155</th>\n",
       "      <td>2021-11-28 13:21:16+00:00</td>\n",
       "      <td>GREAT NEWS: Tesla Model S Plaid led the way wi...</td>\n",
       "      <td>positive</td>\n",
       "      <td>positive</td>\n",
       "      <td>TSLA</td>\n",
       "      <td>Tesla, Inc.</td>\n",
       "    </tr>\n",
       "    <tr>\n",
       "      <th>6433</th>\n",
       "      <td>2022-06-09 08:29:44+00:00</td>\n",
       "      <td>$TSLA China May deliveries slightly better tha...</td>\n",
       "      <td>positive</td>\n",
       "      <td>positive</td>\n",
       "      <td>TSLA</td>\n",
       "      <td>Tesla, Inc.</td>\n",
       "    </tr>\n",
       "    <tr>\n",
       "      <th>53971</th>\n",
       "      <td>2022-08-26 12:08:28+00:00</td>\n",
       "      <td>China Securities Regulatory Commission: The Ch...</td>\n",
       "      <td>positive</td>\n",
       "      <td>positive</td>\n",
       "      <td>NIO</td>\n",
       "      <td>NIO Inc.</td>\n",
       "    </tr>\n",
       "    <tr>\n",
       "      <th>17231</th>\n",
       "      <td>2022-01-16 00:45:33+00:00</td>\n",
       "      <td>@realMeetKevin @Tesla Thank god my kid just wa...</td>\n",
       "      <td>positive</td>\n",
       "      <td>positive</td>\n",
       "      <td>TSLA</td>\n",
       "      <td>Tesla, Inc.</td>\n",
       "    </tr>\n",
       "    <tr>\n",
       "      <th>1616</th>\n",
       "      <td>2022-08-29 23:08:17+00:00</td>\n",
       "      <td>@fraggelcurris @latestinspace @All_That_Ash601...</td>\n",
       "      <td>negative</td>\n",
       "      <td>negative</td>\n",
       "      <td>TSLA</td>\n",
       "      <td>Tesla, Inc.</td>\n",
       "    </tr>\n",
       "  </tbody>\n",
       "</table>\n",
       "<p>11190 rows × 6 columns</p>\n",
       "</div>"
      ],
      "text/plain": [
       "                            Date  \\\n",
       "40981  2022-05-11 18:40:19+00:00   \n",
       "6936   2022-06-02 16:28:52+00:00   \n",
       "55089  2021-12-22 23:34:40+00:00   \n",
       "22678  2021-11-09 12:14:28+00:00   \n",
       "54494  2022-03-25 08:45:10+00:00   \n",
       "...                          ...   \n",
       "21155  2021-11-28 13:21:16+00:00   \n",
       "6433   2022-06-09 08:29:44+00:00   \n",
       "53971  2022-08-26 12:08:28+00:00   \n",
       "17231  2022-01-16 00:45:33+00:00   \n",
       "1616   2022-08-29 23:08:17+00:00   \n",
       "\n",
       "                                                   Tweet Predicted_Sentiment  \\\n",
       "40981  Published new plan thoughts on CPI, $AAPL and ...            positive   \n",
       "6936   I know many are excited today for this rally i...            negative   \n",
       "55089  BREAKING: NIO ET5 vehicle found to cure Covid-...            positive   \n",
       "22678  EV space and stocks are heating up. I hope I g...            positive   \n",
       "54494  $NIO - Aims to achieve break-even in Q4 2023 w...            positive   \n",
       "...                                                  ...                 ...   \n",
       "21155  GREAT NEWS: Tesla Model S Plaid led the way wi...            positive   \n",
       "6433   $TSLA China May deliveries slightly better tha...            positive   \n",
       "53971  China Securities Regulatory Commission: The Ch...            positive   \n",
       "17231  @realMeetKevin @Tesla Thank god my kid just wa...            positive   \n",
       "1616   @fraggelcurris @latestinspace @All_That_Ash601...            negative   \n",
       "\n",
       "      Actual_Sentiment Stock Name Company Name  \n",
       "40981         positive       AAPL   Apple Inc.  \n",
       "6936          negative       TSLA  Tesla, Inc.  \n",
       "55089         positive        NIO     NIO Inc.  \n",
       "22678         positive       TSLA  Tesla, Inc.  \n",
       "54494         positive        NIO     NIO Inc.  \n",
       "...                ...        ...          ...  \n",
       "21155         positive       TSLA  Tesla, Inc.  \n",
       "6433          positive       TSLA  Tesla, Inc.  \n",
       "53971         positive        NIO     NIO Inc.  \n",
       "17231         positive       TSLA  Tesla, Inc.  \n",
       "1616          negative       TSLA  Tesla, Inc.  \n",
       "\n",
       "[11190 rows x 6 columns]"
      ]
     },
     "execution_count": 103,
     "metadata": {},
     "output_type": "execute_result"
    }
   ],
   "source": [
    "test_df['CleanTweets'] = output_df['Tweet']\n",
    "\n",
    "test_df = test_df.rename(columns={'CleanTweets': 'Tweet'})\n",
    "\n",
    "test_df['Sentiment'] = output_df['Actual_Sentiment']\n",
    "\n",
    "test_df = test_df.rename(columns={'Sentiment': 'Actual_Sentiment'})\n",
    "\n",
    "new_column = output_df['Predicted_Sentiment']\n",
    "position = 2\n",
    "\n",
    "test_df.insert(position, 'Predicted_Sentiment', new_column)\n",
    "\n",
    "test_df"
   ]
  },
  {
   "cell_type": "code",
   "execution_count": 104,
   "id": "6d823487-8642-4376-b148-0b539c432841",
   "metadata": {},
   "outputs": [
    {
     "data": {
      "text/html": [
       "<div>\n",
       "<style scoped>\n",
       "    .dataframe tbody tr th:only-of-type {\n",
       "        vertical-align: middle;\n",
       "    }\n",
       "\n",
       "    .dataframe tbody tr th {\n",
       "        vertical-align: top;\n",
       "    }\n",
       "\n",
       "    .dataframe thead th {\n",
       "        text-align: right;\n",
       "    }\n",
       "</style>\n",
       "<table border=\"1\" class=\"dataframe\">\n",
       "  <thead>\n",
       "    <tr style=\"text-align: right;\">\n",
       "      <th></th>\n",
       "      <th>Date</th>\n",
       "      <th>Tweet</th>\n",
       "      <th>Predicted_Sentiment</th>\n",
       "      <th>Actual_Sentiment</th>\n",
       "      <th>Stock Name</th>\n",
       "      <th>Company Name</th>\n",
       "    </tr>\n",
       "  </thead>\n",
       "  <tbody>\n",
       "    <tr>\n",
       "      <th>40981</th>\n",
       "      <td>2022-05-11 18:40:19+00:00</td>\n",
       "      <td>Published new plan thoughts on CPI, $AAPL and ...</td>\n",
       "      <td>positive</td>\n",
       "      <td>positive</td>\n",
       "      <td>AAPL</td>\n",
       "      <td>Apple Inc.</td>\n",
       "    </tr>\n",
       "    <tr>\n",
       "      <th>6936</th>\n",
       "      <td>2022-06-02 16:28:52+00:00</td>\n",
       "      <td>I know many are excited today for this rally i...</td>\n",
       "      <td>negative</td>\n",
       "      <td>negative</td>\n",
       "      <td>TSLA</td>\n",
       "      <td>Tesla, Inc.</td>\n",
       "    </tr>\n",
       "    <tr>\n",
       "      <th>55089</th>\n",
       "      <td>2021-12-22 23:34:40+00:00</td>\n",
       "      <td>BREAKING: NIO ET5 vehicle found to cure Covid-...</td>\n",
       "      <td>positive</td>\n",
       "      <td>positive</td>\n",
       "      <td>NIO</td>\n",
       "      <td>NIO Inc.</td>\n",
       "    </tr>\n",
       "    <tr>\n",
       "      <th>22678</th>\n",
       "      <td>2021-11-09 12:14:28+00:00</td>\n",
       "      <td>EV space and stocks are heating up. I hope I g...</td>\n",
       "      <td>positive</td>\n",
       "      <td>positive</td>\n",
       "      <td>TSLA</td>\n",
       "      <td>Tesla, Inc.</td>\n",
       "    </tr>\n",
       "    <tr>\n",
       "      <th>54494</th>\n",
       "      <td>2022-03-25 08:45:10+00:00</td>\n",
       "      <td>$NIO - Aims to achieve break-even in Q4 2023 w...</td>\n",
       "      <td>positive</td>\n",
       "      <td>positive</td>\n",
       "      <td>NIO</td>\n",
       "      <td>NIO Inc.</td>\n",
       "    </tr>\n",
       "    <tr>\n",
       "      <th>...</th>\n",
       "      <td>...</td>\n",
       "      <td>...</td>\n",
       "      <td>...</td>\n",
       "      <td>...</td>\n",
       "      <td>...</td>\n",
       "      <td>...</td>\n",
       "    </tr>\n",
       "    <tr>\n",
       "      <th>21155</th>\n",
       "      <td>2021-11-28 13:21:16+00:00</td>\n",
       "      <td>GREAT NEWS: Tesla Model S Plaid led the way wi...</td>\n",
       "      <td>positive</td>\n",
       "      <td>positive</td>\n",
       "      <td>TSLA</td>\n",
       "      <td>Tesla, Inc.</td>\n",
       "    </tr>\n",
       "    <tr>\n",
       "      <th>6433</th>\n",
       "      <td>2022-06-09 08:29:44+00:00</td>\n",
       "      <td>$TSLA China May deliveries slightly better tha...</td>\n",
       "      <td>positive</td>\n",
       "      <td>positive</td>\n",
       "      <td>TSLA</td>\n",
       "      <td>Tesla, Inc.</td>\n",
       "    </tr>\n",
       "    <tr>\n",
       "      <th>53971</th>\n",
       "      <td>2022-08-26 12:08:28+00:00</td>\n",
       "      <td>China Securities Regulatory Commission: The Ch...</td>\n",
       "      <td>positive</td>\n",
       "      <td>positive</td>\n",
       "      <td>NIO</td>\n",
       "      <td>NIO Inc.</td>\n",
       "    </tr>\n",
       "    <tr>\n",
       "      <th>17231</th>\n",
       "      <td>2022-01-16 00:45:33+00:00</td>\n",
       "      <td>@realMeetKevin @Tesla Thank god my kid just wa...</td>\n",
       "      <td>positive</td>\n",
       "      <td>positive</td>\n",
       "      <td>TSLA</td>\n",
       "      <td>Tesla, Inc.</td>\n",
       "    </tr>\n",
       "    <tr>\n",
       "      <th>1616</th>\n",
       "      <td>2022-08-29 23:08:17+00:00</td>\n",
       "      <td>@fraggelcurris @latestinspace @All_That_Ash601...</td>\n",
       "      <td>negative</td>\n",
       "      <td>negative</td>\n",
       "      <td>TSLA</td>\n",
       "      <td>Tesla, Inc.</td>\n",
       "    </tr>\n",
       "  </tbody>\n",
       "</table>\n",
       "<p>11190 rows × 6 columns</p>\n",
       "</div>"
      ],
      "text/plain": [
       "                            Date  \\\n",
       "40981  2022-05-11 18:40:19+00:00   \n",
       "6936   2022-06-02 16:28:52+00:00   \n",
       "55089  2021-12-22 23:34:40+00:00   \n",
       "22678  2021-11-09 12:14:28+00:00   \n",
       "54494  2022-03-25 08:45:10+00:00   \n",
       "...                          ...   \n",
       "21155  2021-11-28 13:21:16+00:00   \n",
       "6433   2022-06-09 08:29:44+00:00   \n",
       "53971  2022-08-26 12:08:28+00:00   \n",
       "17231  2022-01-16 00:45:33+00:00   \n",
       "1616   2022-08-29 23:08:17+00:00   \n",
       "\n",
       "                                                   Tweet Predicted_Sentiment  \\\n",
       "40981  Published new plan thoughts on CPI, $AAPL and ...            positive   \n",
       "6936   I know many are excited today for this rally i...            negative   \n",
       "55089  BREAKING: NIO ET5 vehicle found to cure Covid-...            positive   \n",
       "22678  EV space and stocks are heating up. I hope I g...            positive   \n",
       "54494  $NIO - Aims to achieve break-even in Q4 2023 w...            positive   \n",
       "...                                                  ...                 ...   \n",
       "21155  GREAT NEWS: Tesla Model S Plaid led the way wi...            positive   \n",
       "6433   $TSLA China May deliveries slightly better tha...            positive   \n",
       "53971  China Securities Regulatory Commission: The Ch...            positive   \n",
       "17231  @realMeetKevin @Tesla Thank god my kid just wa...            positive   \n",
       "1616   @fraggelcurris @latestinspace @All_That_Ash601...            negative   \n",
       "\n",
       "      Actual_Sentiment Stock Name Company Name  \n",
       "40981         positive       AAPL   Apple Inc.  \n",
       "6936          negative       TSLA  Tesla, Inc.  \n",
       "55089         positive        NIO     NIO Inc.  \n",
       "22678         positive       TSLA  Tesla, Inc.  \n",
       "54494         positive        NIO     NIO Inc.  \n",
       "...                ...        ...          ...  \n",
       "21155         positive       TSLA  Tesla, Inc.  \n",
       "6433          positive       TSLA  Tesla, Inc.  \n",
       "53971         positive        NIO     NIO Inc.  \n",
       "17231         positive       TSLA  Tesla, Inc.  \n",
       "1616          negative       TSLA  Tesla, Inc.  \n",
       "\n",
       "[11190 rows x 6 columns]"
      ]
     },
     "execution_count": 104,
     "metadata": {},
     "output_type": "execute_result"
    }
   ],
   "source": [
    "predictions_df = test_df\n",
    "\n",
    "predictions_df"
   ]
  },
  {
   "cell_type": "code",
   "execution_count": 105,
   "id": "bd24a01f-e42e-457e-a9cc-ac49950f1534",
   "metadata": {},
   "outputs": [],
   "source": [
    "#Save output_df containing both Actual and Predicted Sentiments to csv\n",
    "\n",
    "predictions_df.to_csv('predictions_df.csv', index=False)"
   ]
  },
  {
   "cell_type": "markdown",
   "id": "ed354aad-a7d7-45c9-bbea-649c1783e2f7",
   "metadata": {},
   "source": [
    "### E: Data Summary and Implications"
   ]
  },
  {
   "cell_type": "markdown",
   "id": "df642421-be6b-453f-940d-71693c87455b",
   "metadata": {},
   "source": [
    "#### E1: Results and Implications\n",
    "*\tThe dataset used to create this model was initially composed of 80,793 rows of tweets regarding several publicly traded companies and their stock. After initial positive/negative sentiment labeling with VADER's Sentiment Intensity Analyzer, the model was trained on 80% of the overall dataset and tested on the remaining 20% (half of this was used for validation). The constructed model could predict sentiment with an accuracy of about 98.6% on the train set, about 88.7% on the validation set, and about 88.7% again on the test set. Test loss was about 35.8%. The overall neural network architecture and the chosen set of hyperparameters contributed to these scores. Further optimization may increase the accuracy. However, the accuracy of all three split components of the data is already relatively high. Therefore, an even larger dataset to train on may yield more gains in comparison to hyperparameter optimization."
   ]
  },
  {
   "cell_type": "markdown",
   "id": "eec6ba64-208a-4fa0-a7e1-a11a5de7876b",
   "metadata": {},
   "source": [
    "*\tIn the context of the original research question and the initial model built to answer it, using neural networks and VADER, we can successfully create a model that can accurately predict the sentiment behind a tweet or review with at least 70% accuracy. Therefore, we can reject the null and accept the alternative hypothesis since our accuracies between the train, test, and validation sets all score significantly above 70% accuracy."
   ]
  },
  {
   "cell_type": "markdown",
   "id": "4a2bcfe0-75aa-49c8-b760-693fc50d098f",
   "metadata": {},
   "source": [
    "#### E2: Limitation of Chosen Analysis\n",
    "* \tOne major limitation of the chosen analysis stems from the initial sentiment labeling performed by VADER's Sentiment Intensity Analyzer. This step was unavoidable and necessary since the tweets in the raw data set had no prior sentiment labeling applied to them. VADER was one of the best choices for this task since its strength lies in handling social media texts and their associated nuances. In a worst-case scenario, improper/inaccurate labeling of VADER could lead to bigger trickle-down effects as the data is fed into more complicated models, such as the neural networks we employed. However, this inherent weakness was also the reason for selecting a combination of convoluted and recurrent neural network features. Hybrid solutions between VADER and these neural network architectures were chosen to use the strength of one to cover the inherent weakness of another in a complementary fashion. "
   ]
  },
  {
   "cell_type": "markdown",
   "id": "28adae23-6a0b-483d-ab28-55e92b7e4591",
   "metadata": {
    "jp-MarkdownHeadingCollapsed": true
   },
   "source": [
    "#### E3: Recommended Course of Action Based on Results\n",
    "* \tAccording to the results of the analyses, the hybrid approach using lexicon-based tools such as VADER in combination with neural networks is quite capable of creating a model with high accuracy for sentiment analysis. We will treat this as proof-of-concept verification and recommend exploring other similar lexicon-neural network solutions. One neural network architecture we may be interested in attempting this approach with is Transformers. One intriguing key feature of this specific architecture is that it can parallel processes and uses an attention mechanism that focuses on different parts of the input sequence when making predictions. For example, this allows it to learn relationships between words that might be far apart in a sentence."
   ]
  },
  {
   "cell_type": "markdown",
   "id": "c82b7921-f823-459e-a7ad-14eec52a1a93",
   "metadata": {},
   "source": [
    "#### E4: Future Study and Further Applications\n",
    "*\tAs mentioned in the introduction, further study and application of a model based on this type of sentiment analysis can be combined with forecasting methods. One example would be time series analysis. It would also be interesting to see the results of combining the results of a sentiment analysis such as this one with basic linear regression. Regardless of the method used, it would prove insightful to determine whether a correlation exists between the current public opinion of a company/stock and whether that stock's closing price increased or decreased relative to its opening price.\n",
    "*\tAnother implementation building upon the model we created could come in the form of a churn analysis and its relationship with the public perception of a company based on the sentiment analysis results.\n",
    "*\tWhether the further implementation of a sentiment analysis model such as the one we created is used for finance/company stock applications or used in conducting studies into the state of a company's PR, rate of churn, and many other applications, it proves itself as a handy tool in business and data analysis.\n"
   ]
  },
  {
   "cell_type": "markdown",
   "id": "ad67ab06",
   "metadata": {},
   "source": [
    "### F: Sources"
   ]
  },
  {
   "cell_type": "markdown",
   "id": "adeb57b9-2141-4c82-9d73-ae7fcd783e3c",
   "metadata": {},
   "source": [
    "#### F1: Sources for Third-Party Code \n",
    "* Adam, F. M. (2023, July 1). Sentiment analysis with vader: Analyzing twitter sentiment. Medium. https://medium.com/@vafaisalm93/sentiment-analysis-with-vader-analyzing-twitter-sentiment-86ae8078dacb \n",
    "* Luay, M. (2023, September 22). Sentiment analysis using recurrent neural network(rnn),long short term memory(lstm) and... Medium. https://medium.com/@muhammadluay45/sentiment-analysis-using-recurrent-neural-network-rnn-long-short-term-memory-lstm-and-38d6e670173f "
   ]
  },
  {
   "cell_type": "markdown",
   "id": "b415d4a7",
   "metadata": {
    "jp-MarkdownHeadingCollapsed": true
   },
   "source": [
    "#### F2: Sources for In-Text Citations\n",
    "* Adam, F. M. (2023, July 1). Sentiment analysis with vader: Analyzing twitter sentiment. Medium. https://medium.com/@vafaisalm93/sentiment-analysis-with-vader-analyzing-twitter-sentiment-86ae8078dacb \n",
    "* Luay, M. (2023, September 22). Sentiment analysis using recurrent neural network(rnn),long short term memory(lstm) and... Medium. https://medium.com/@muhammadluay45/sentiment-analysis-using-recurrent-neural-network-rnn-long-short-term-memory-lstm-and-38d6e670173f\n",
    "* Yukhymenko, H. (2022, December 5). Stock tweets for sentiment analysis and prediction. Kaggle. https://www.kaggle.com/datasets/equinxx/stock-tweets-for-sentiment-analysis-and-prediction/data?select=stock_tweets.csv \n"
   ]
  }
 ],
 "metadata": {
  "kernelspec": {
   "display_name": "Python [conda env:base] *",
   "language": "python",
   "name": "conda-base-py"
  },
  "language_info": {
   "codemirror_mode": {
    "name": "ipython",
    "version": 3
   },
   "file_extension": ".py",
   "mimetype": "text/x-python",
   "name": "python",
   "nbconvert_exporter": "python",
   "pygments_lexer": "ipython3",
   "version": "3.12.7"
  }
 },
 "nbformat": 4,
 "nbformat_minor": 5
}
